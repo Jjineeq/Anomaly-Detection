{
 "cells": [
  {
   "cell_type": "code",
   "execution_count": 1,
   "metadata": {},
   "outputs": [],
   "source": [
    "import numpy as np\n",
    "import pandas as pd\n",
    "import matplotlib.pyplot as plt\n",
    "import seaborn as sns\n",
    "import warnings\n",
    "warnings.filterwarnings('ignore')\n",
    "from sklearn.preprocessing import StandardScaler"
   ]
  },
  {
   "cell_type": "code",
   "execution_count": 7,
   "metadata": {},
   "outputs": [],
   "source": [
    "test = pd.read_csv('C:/Users/user/github/Data/aifactory/test_data.csv')\n",
    "train = pd.read_csv('C:/Users/user/github/Data/aifactory/train_data.csv')"
   ]
  },
  {
   "cell_type": "code",
   "execution_count": 8,
   "metadata": {},
   "outputs": [],
   "source": [
    "train = train.drop(['out_pressure', 'type'], axis=1)\n",
    "test = test.drop(['out_pressure', 'type'],axis=1)"
   ]
  },
  {
   "cell_type": "code",
   "execution_count": 4,
   "metadata": {},
   "outputs": [],
   "source": [
    "from sklearn.preprocessing import Normalizer"
   ]
  },
  {
   "cell_type": "code",
   "execution_count": 5,
   "metadata": {},
   "outputs": [],
   "source": [
    "from sklearn.cluster import KMeans\n",
    "from sklearn.covariance import MinCovDet\n",
    "from sklearn.preprocessing import StandardScaler\n",
    "from sklearn.pipeline import make_pipeline\n",
    "from sklearn.metrics import pairwise_distances\n"
   ]
  },
  {
   "cell_type": "code",
   "execution_count": 11,
   "metadata": {},
   "outputs": [],
   "source": [
    "scaler = StandardScaler()"
   ]
  },
  {
   "cell_type": "code",
   "execution_count": 13,
   "metadata": {},
   "outputs": [],
   "source": [
    "train = scaler.fit_transform(train)"
   ]
  },
  {
   "cell_type": "code",
   "execution_count": 14,
   "metadata": {},
   "outputs": [],
   "source": [
    "test = scaler.fit_transform(test)"
   ]
  },
  {
   "cell_type": "code",
   "execution_count": 19,
   "metadata": {},
   "outputs": [],
   "source": [
    "import tensorflow as tf\n",
    "from tensorflow.keras.layers import Input, Dense\n",
    "from tensorflow.keras.models import Model"
   ]
  },
  {
   "cell_type": "code",
   "execution_count": 52,
   "metadata": {},
   "outputs": [],
   "source": [
    "input_dim = train.shape[1]\n",
    "\n",
    "input_layer = Input(shape=(input_dim,))\n",
    "encoder = Dense(8, activation='relu')(input_layer)\n",
    "decoder = Dense(input_dim, activation='sigmoid')(encoder)\n",
    "\n",
    "autoencoder = Model(input_layer, decoder)\n",
    "autoencoder.compile(optimizer='adam', loss='mse')\n"
   ]
  },
  {
   "cell_type": "code",
   "execution_count": 63,
   "metadata": {},
   "outputs": [
    {
     "name": "stdout",
     "output_type": "stream",
     "text": [
      "Epoch 1/100\n",
      "50/50 [==============================] - 0s 551us/step - loss: 0.5829\n",
      "Epoch 2/100\n",
      "50/50 [==============================] - 0s 548us/step - loss: 0.5829\n",
      "Epoch 3/100\n",
      "50/50 [==============================] - 0s 733us/step - loss: 0.5829\n",
      "Epoch 4/100\n",
      "50/50 [==============================] - 0s 633us/step - loss: 0.5829\n",
      "Epoch 5/100\n",
      "50/50 [==============================] - 0s 593us/step - loss: 0.5829\n",
      "Epoch 6/100\n",
      "50/50 [==============================] - 0s 572us/step - loss: 0.5829\n",
      "Epoch 7/100\n",
      "50/50 [==============================] - 0s 531us/step - loss: 0.5829\n",
      "Epoch 8/100\n",
      "50/50 [==============================] - 0s 531us/step - loss: 0.5829\n",
      "Epoch 9/100\n",
      "50/50 [==============================] - 0s 534us/step - loss: 0.5829\n",
      "Epoch 10/100\n",
      "50/50 [==============================] - 0s 551us/step - loss: 0.5829\n",
      "Epoch 11/100\n",
      "50/50 [==============================] - 0s 510us/step - loss: 0.5829\n",
      "Epoch 12/100\n",
      "50/50 [==============================] - 0s 530us/step - loss: 0.5829\n",
      "Epoch 13/100\n",
      "50/50 [==============================] - 0s 521us/step - loss: 0.5829\n",
      "Epoch 14/100\n",
      "50/50 [==============================] - 0s 531us/step - loss: 0.5829\n",
      "Epoch 15/100\n",
      "50/50 [==============================] - 0s 531us/step - loss: 0.5829\n",
      "Epoch 16/100\n",
      "50/50 [==============================] - 0s 544us/step - loss: 0.5829\n",
      "Epoch 17/100\n",
      "50/50 [==============================] - 0s 531us/step - loss: 0.5829\n",
      "Epoch 18/100\n",
      "50/50 [==============================] - 0s 541us/step - loss: 0.5829\n",
      "Epoch 19/100\n",
      "50/50 [==============================] - 0s 551us/step - loss: 0.5829\n",
      "Epoch 20/100\n",
      "50/50 [==============================] - 0s 531us/step - loss: 0.5829\n",
      "Epoch 21/100\n",
      "50/50 [==============================] - 0s 510us/step - loss: 0.5829\n",
      "Epoch 22/100\n",
      "50/50 [==============================] - 0s 543us/step - loss: 0.5829\n",
      "Epoch 23/100\n",
      "50/50 [==============================] - 0s 531us/step - loss: 0.5829\n",
      "Epoch 24/100\n",
      "50/50 [==============================] - 0s 572us/step - loss: 0.5829\n",
      "Epoch 25/100\n",
      "50/50 [==============================] - 0s 542us/step - loss: 0.5829\n",
      "Epoch 26/100\n",
      "50/50 [==============================] - 0s 538us/step - loss: 0.5829\n",
      "Epoch 27/100\n",
      "50/50 [==============================] - 0s 548us/step - loss: 0.5829\n",
      "Epoch 28/100\n",
      "50/50 [==============================] - 0s 530us/step - loss: 0.5829\n",
      "Epoch 29/100\n",
      "50/50 [==============================] - 0s 544us/step - loss: 0.5829\n",
      "Epoch 30/100\n",
      "50/50 [==============================] - 0s 553us/step - loss: 0.5829\n",
      "Epoch 31/100\n",
      "50/50 [==============================] - 0s 531us/step - loss: 0.5829\n",
      "Epoch 32/100\n",
      "50/50 [==============================] - 0s 521us/step - loss: 0.5829\n",
      "Epoch 33/100\n",
      "50/50 [==============================] - 0s 551us/step - loss: 0.5829\n",
      "Epoch 34/100\n",
      "50/50 [==============================] - 0s 523us/step - loss: 0.5829\n",
      "Epoch 35/100\n",
      "50/50 [==============================] - 0s 534us/step - loss: 0.5829\n",
      "Epoch 36/100\n",
      "50/50 [==============================] - 0s 545us/step - loss: 0.5829\n",
      "Epoch 37/100\n",
      "50/50 [==============================] - 0s 531us/step - loss: 0.5829\n",
      "Epoch 38/100\n",
      "50/50 [==============================] - 0s 531us/step - loss: 0.5829\n",
      "Epoch 39/100\n",
      "50/50 [==============================] - 0s 527us/step - loss: 0.5829\n",
      "Epoch 40/100\n",
      "50/50 [==============================] - 0s 531us/step - loss: 0.5829\n",
      "Epoch 41/100\n",
      "50/50 [==============================] - 0s 531us/step - loss: 0.5828\n",
      "Epoch 42/100\n",
      "50/50 [==============================] - 0s 546us/step - loss: 0.5828\n",
      "Epoch 43/100\n",
      "50/50 [==============================] - 0s 531us/step - loss: 0.5828\n",
      "Epoch 44/100\n",
      "50/50 [==============================] - 0s 531us/step - loss: 0.5829\n",
      "Epoch 45/100\n",
      "50/50 [==============================] - 0s 653us/step - loss: 0.5829\n",
      "Epoch 46/100\n",
      "50/50 [==============================] - 0s 531us/step - loss: 0.5829\n",
      "Epoch 47/100\n",
      "50/50 [==============================] - 0s 531us/step - loss: 0.5829\n",
      "Epoch 48/100\n",
      "50/50 [==============================] - 0s 531us/step - loss: 0.5828\n",
      "Epoch 49/100\n",
      "50/50 [==============================] - 0s 511us/step - loss: 0.5828\n",
      "Epoch 50/100\n",
      "50/50 [==============================] - 0s 531us/step - loss: 0.5828\n",
      "Epoch 51/100\n",
      "50/50 [==============================] - 0s 551us/step - loss: 0.5828\n",
      "Epoch 52/100\n",
      "50/50 [==============================] - 0s 551us/step - loss: 0.5828\n",
      "Epoch 53/100\n",
      "50/50 [==============================] - 0s 531us/step - loss: 0.5828\n",
      "Epoch 54/100\n",
      "50/50 [==============================] - 0s 531us/step - loss: 0.5828\n",
      "Epoch 55/100\n",
      "50/50 [==============================] - 0s 531us/step - loss: 0.5828\n",
      "Epoch 56/100\n",
      "50/50 [==============================] - 0s 531us/step - loss: 0.5828\n",
      "Epoch 57/100\n",
      "50/50 [==============================] - 0s 531us/step - loss: 0.5828\n",
      "Epoch 58/100\n",
      "50/50 [==============================] - 0s 510us/step - loss: 0.5828\n",
      "Epoch 59/100\n",
      "50/50 [==============================] - 0s 551us/step - loss: 0.5828\n",
      "Epoch 60/100\n",
      "50/50 [==============================] - 0s 547us/step - loss: 0.5828\n",
      "Epoch 61/100\n",
      "50/50 [==============================] - 0s 531us/step - loss: 0.5828\n",
      "Epoch 62/100\n",
      "50/50 [==============================] - 0s 530us/step - loss: 0.5828\n",
      "Epoch 63/100\n",
      "50/50 [==============================] - 0s 531us/step - loss: 0.5828\n",
      "Epoch 64/100\n",
      "50/50 [==============================] - 0s 528us/step - loss: 0.5828\n",
      "Epoch 65/100\n",
      "50/50 [==============================] - 0s 531us/step - loss: 0.5828\n",
      "Epoch 66/100\n",
      "50/50 [==============================] - 0s 531us/step - loss: 0.5828\n",
      "Epoch 67/100\n",
      "50/50 [==============================] - 0s 543us/step - loss: 0.5828\n",
      "Epoch 68/100\n",
      "50/50 [==============================] - 0s 521us/step - loss: 0.5828\n",
      "Epoch 69/100\n",
      "50/50 [==============================] - 0s 531us/step - loss: 0.5828\n",
      "Epoch 70/100\n",
      "50/50 [==============================] - 0s 546us/step - loss: 0.5828\n",
      "Epoch 71/100\n",
      "50/50 [==============================] - 0s 531us/step - loss: 0.5828\n",
      "Epoch 72/100\n",
      "50/50 [==============================] - 0s 531us/step - loss: 0.5828\n",
      "Epoch 73/100\n",
      "50/50 [==============================] - 0s 523us/step - loss: 0.5828\n",
      "Epoch 74/100\n",
      "50/50 [==============================] - 0s 551us/step - loss: 0.5828\n",
      "Epoch 75/100\n",
      "50/50 [==============================] - 0s 531us/step - loss: 0.5828\n",
      "Epoch 76/100\n",
      "50/50 [==============================] - 0s 545us/step - loss: 0.5828\n",
      "Epoch 77/100\n",
      "50/50 [==============================] - 0s 521us/step - loss: 0.5828\n",
      "Epoch 78/100\n",
      "50/50 [==============================] - 0s 551us/step - loss: 0.5828\n",
      "Epoch 79/100\n",
      "50/50 [==============================] - 0s 602us/step - loss: 0.5828\n",
      "Epoch 80/100\n",
      "50/50 [==============================] - 0s 592us/step - loss: 0.5828\n",
      "Epoch 81/100\n",
      "50/50 [==============================] - 0s 572us/step - loss: 0.5828\n",
      "Epoch 82/100\n",
      "50/50 [==============================] - 0s 531us/step - loss: 0.5828\n",
      "Epoch 83/100\n",
      "50/50 [==============================] - 0s 551us/step - loss: 0.5828\n",
      "Epoch 84/100\n",
      "50/50 [==============================] - 0s 529us/step - loss: 0.5828\n",
      "Epoch 85/100\n",
      "50/50 [==============================] - 0s 551us/step - loss: 0.5828\n",
      "Epoch 86/100\n",
      "50/50 [==============================] - 0s 572us/step - loss: 0.5828\n",
      "Epoch 87/100\n",
      "50/50 [==============================] - 0s 551us/step - loss: 0.5828\n",
      "Epoch 88/100\n",
      "50/50 [==============================] - 0s 551us/step - loss: 0.5828\n",
      "Epoch 89/100\n",
      "50/50 [==============================] - 0s 551us/step - loss: 0.5828\n",
      "Epoch 90/100\n",
      "50/50 [==============================] - 0s 551us/step - loss: 0.5828\n",
      "Epoch 91/100\n",
      "50/50 [==============================] - 0s 551us/step - loss: 0.5828\n",
      "Epoch 92/100\n",
      "50/50 [==============================] - 0s 531us/step - loss: 0.5828\n",
      "Epoch 93/100\n",
      "50/50 [==============================] - 0s 551us/step - loss: 0.5828\n",
      "Epoch 94/100\n",
      "50/50 [==============================] - 0s 531us/step - loss: 0.5828\n",
      "Epoch 95/100\n",
      "50/50 [==============================] - 0s 551us/step - loss: 0.5828\n",
      "Epoch 96/100\n",
      "50/50 [==============================] - 0s 531us/step - loss: 0.5828\n",
      "Epoch 97/100\n",
      "50/50 [==============================] - 0s 531us/step - loss: 0.5828\n",
      "Epoch 98/100\n",
      "50/50 [==============================] - 0s 541us/step - loss: 0.5828\n",
      "Epoch 99/100\n",
      "50/50 [==============================] - 0s 551us/step - loss: 0.5828\n",
      "Epoch 100/100\n",
      "50/50 [==============================] - 0s 551us/step - loss: 0.5828\n"
     ]
    },
    {
     "data": {
      "text/plain": [
       "<keras.callbacks.History at 0x2834bcbbed0>"
      ]
     },
     "execution_count": 63,
     "metadata": {},
     "output_type": "execute_result"
    }
   ],
   "source": [
    "autoencoder.fit(train, train, epochs=100, batch_size=50, shuffle=True)"
   ]
  },
  {
   "cell_type": "code",
   "execution_count": 64,
   "metadata": {},
   "outputs": [
    {
     "name": "stdout",
     "output_type": "stream",
     "text": [
      "231/231 [==============================] - 0s 425us/step\n"
     ]
    }
   ],
   "source": [
    "x_pred = autoencoder.predict(test)\n",
    "mse = np.mean(np.power(test - x_pred, 2), axis=1)"
   ]
  },
  {
   "cell_type": "code",
   "execution_count": 65,
   "metadata": {},
   "outputs": [],
   "source": [
    "# 이상치 검출\n",
    "threshold = np.mean(mse) + 3*np.std(mse)\n",
    "outliers = np.where(mse > threshold)[0]"
   ]
  },
  {
   "cell_type": "code",
   "execution_count": 66,
   "metadata": {},
   "outputs": [
    {
     "data": {
      "text/plain": [
       "2.6226432525793255"
      ]
     },
     "execution_count": 66,
     "metadata": {},
     "output_type": "execute_result"
    }
   ],
   "source": [
    "threshold"
   ]
  },
  {
   "cell_type": "code",
   "execution_count": 67,
   "metadata": {},
   "outputs": [
    {
     "data": {
      "text/plain": [
       "array([2406, 2413, 2416, 2418, 2420, 2425, 2428, 2429, 2430, 2455, 2457,\n",
       "       2464, 2468, 2478, 2479, 2488, 2492, 2509, 2510, 2517, 2518, 2529,\n",
       "       2536, 2541, 2560, 2573, 2575, 2594, 2612, 2619, 2622, 2624, 2637,\n",
       "       2668, 2683, 2691, 2697, 2699, 2701, 2715, 2716, 2724, 2735, 2736,\n",
       "       2739, 2745, 2750, 2753, 2758, 2764, 2768, 2781, 2782, 2793, 2797,\n",
       "       2802, 2805, 2806, 2810, 2813, 2816, 2817, 2825, 2836, 2847, 2853,\n",
       "       2862, 2864, 2873, 2879, 2887, 2888, 2889, 2895, 2913, 2915, 2918,\n",
       "       2935, 2940, 2941, 2946, 2972, 2978, 2980, 2986, 2987, 3007, 3086,\n",
       "       3088, 3094, 3109, 3110, 3112, 3142, 3143, 3154, 3155, 3168, 3170,\n",
       "       3182, 3185, 3198, 3211, 3225, 3258, 3269, 3282, 3293, 3299, 3316,\n",
       "       3322, 3341, 3368, 3396, 3400, 3407, 3416, 3417, 3431, 3500, 3507,\n",
       "       3529, 3542, 3559, 3572, 3605, 3616, 3625, 3636, 3647, 3648, 3654,\n",
       "       3706, 3710, 3748, 3757, 3781, 3790, 3822, 3858, 3866, 3867, 3871,\n",
       "       3880, 3888, 3896, 3897, 3935, 3942, 3950, 3952, 3955, 3958, 3960,\n",
       "       4061, 4109, 4195, 4212, 4226, 4233, 4247, 4286, 4367, 4377, 4417],\n",
       "      dtype=int64)"
      ]
     },
     "execution_count": 67,
     "metadata": {},
     "output_type": "execute_result"
    }
   ],
   "source": [
    "outliers"
   ]
  },
  {
   "cell_type": "code",
   "execution_count": 29,
   "metadata": {},
   "outputs": [],
   "source": [
    "from sklearn.neighbors import LocalOutlierFactor\n",
    "from sklearn.model_selection import GridSearchCV"
   ]
  },
  {
   "cell_type": "code",
   "execution_count": 30,
   "metadata": {},
   "outputs": [],
   "source": [
    "clf = LocalOutlierFactor(n_neighbors=10, contamination=0.5)"
   ]
  },
  {
   "cell_type": "code",
   "execution_count": 31,
   "metadata": {},
   "outputs": [],
   "source": [
    "param_grid = {'n_neighbors' : [5,6,7,8,9,10,11,12,13,14,15,16,17,18,19,20,21,22,23,24,25,26,27,28], 'contamination' : [0.1,0.2,0.3,0.4,0.5,0.6,0.7,0.8,0.9],}"
   ]
  },
  {
   "cell_type": "code",
   "execution_count": 32,
   "metadata": {},
   "outputs": [],
   "source": [
    "clf = LocalOutlierFactor()"
   ]
  },
  {
   "cell_type": "code",
   "execution_count": 33,
   "metadata": {},
   "outputs": [],
   "source": [
    "grid_search = GridSearchCV(estimator=clf, \n",
    "                           param_grid=param_grid,\n",
    "                           scoring='accuracy', \n",
    "                           n_jobs=-1, \n",
    "                           verbose=2\n",
    "                          )"
   ]
  },
  {
   "cell_type": "code",
   "execution_count": 34,
   "metadata": {},
   "outputs": [
    {
     "name": "stdout",
     "output_type": "stream",
     "text": [
      "Fitting 5 folds for each of 216 candidates, totalling 1080 fits\n"
     ]
    },
    {
     "data": {
      "text/html": [
       "<style>#sk-container-id-1 {color: black;background-color: white;}#sk-container-id-1 pre{padding: 0;}#sk-container-id-1 div.sk-toggleable {background-color: white;}#sk-container-id-1 label.sk-toggleable__label {cursor: pointer;display: block;width: 100%;margin-bottom: 0;padding: 0.3em;box-sizing: border-box;text-align: center;}#sk-container-id-1 label.sk-toggleable__label-arrow:before {content: \"▸\";float: left;margin-right: 0.25em;color: #696969;}#sk-container-id-1 label.sk-toggleable__label-arrow:hover:before {color: black;}#sk-container-id-1 div.sk-estimator:hover label.sk-toggleable__label-arrow:before {color: black;}#sk-container-id-1 div.sk-toggleable__content {max-height: 0;max-width: 0;overflow: hidden;text-align: left;background-color: #f0f8ff;}#sk-container-id-1 div.sk-toggleable__content pre {margin: 0.2em;color: black;border-radius: 0.25em;background-color: #f0f8ff;}#sk-container-id-1 input.sk-toggleable__control:checked~div.sk-toggleable__content {max-height: 200px;max-width: 100%;overflow: auto;}#sk-container-id-1 input.sk-toggleable__control:checked~label.sk-toggleable__label-arrow:before {content: \"▾\";}#sk-container-id-1 div.sk-estimator input.sk-toggleable__control:checked~label.sk-toggleable__label {background-color: #d4ebff;}#sk-container-id-1 div.sk-label input.sk-toggleable__control:checked~label.sk-toggleable__label {background-color: #d4ebff;}#sk-container-id-1 input.sk-hidden--visually {border: 0;clip: rect(1px 1px 1px 1px);clip: rect(1px, 1px, 1px, 1px);height: 1px;margin: -1px;overflow: hidden;padding: 0;position: absolute;width: 1px;}#sk-container-id-1 div.sk-estimator {font-family: monospace;background-color: #f0f8ff;border: 1px dotted black;border-radius: 0.25em;box-sizing: border-box;margin-bottom: 0.5em;}#sk-container-id-1 div.sk-estimator:hover {background-color: #d4ebff;}#sk-container-id-1 div.sk-parallel-item::after {content: \"\";width: 100%;border-bottom: 1px solid gray;flex-grow: 1;}#sk-container-id-1 div.sk-label:hover label.sk-toggleable__label {background-color: #d4ebff;}#sk-container-id-1 div.sk-serial::before {content: \"\";position: absolute;border-left: 1px solid gray;box-sizing: border-box;top: 0;bottom: 0;left: 50%;z-index: 0;}#sk-container-id-1 div.sk-serial {display: flex;flex-direction: column;align-items: center;background-color: white;padding-right: 0.2em;padding-left: 0.2em;position: relative;}#sk-container-id-1 div.sk-item {position: relative;z-index: 1;}#sk-container-id-1 div.sk-parallel {display: flex;align-items: stretch;justify-content: center;background-color: white;position: relative;}#sk-container-id-1 div.sk-item::before, #sk-container-id-1 div.sk-parallel-item::before {content: \"\";position: absolute;border-left: 1px solid gray;box-sizing: border-box;top: 0;bottom: 0;left: 50%;z-index: -1;}#sk-container-id-1 div.sk-parallel-item {display: flex;flex-direction: column;z-index: 1;position: relative;background-color: white;}#sk-container-id-1 div.sk-parallel-item:first-child::after {align-self: flex-end;width: 50%;}#sk-container-id-1 div.sk-parallel-item:last-child::after {align-self: flex-start;width: 50%;}#sk-container-id-1 div.sk-parallel-item:only-child::after {width: 0;}#sk-container-id-1 div.sk-dashed-wrapped {border: 1px dashed gray;margin: 0 0.4em 0.5em 0.4em;box-sizing: border-box;padding-bottom: 0.4em;background-color: white;}#sk-container-id-1 div.sk-label label {font-family: monospace;font-weight: bold;display: inline-block;line-height: 1.2em;}#sk-container-id-1 div.sk-label-container {text-align: center;}#sk-container-id-1 div.sk-container {/* jupyter's `normalize.less` sets `[hidden] { display: none; }` but bootstrap.min.css set `[hidden] { display: none !important; }` so we also need the `!important` here to be able to override the default hidden behavior on the sphinx rendered scikit-learn.org. See: https://github.com/scikit-learn/scikit-learn/issues/21755 */display: inline-block !important;position: relative;}#sk-container-id-1 div.sk-text-repr-fallback {display: none;}</style><div id=\"sk-container-id-1\" class=\"sk-top-container\"><div class=\"sk-text-repr-fallback\"><pre>GridSearchCV(estimator=LocalOutlierFactor(), n_jobs=-1,\n",
       "             param_grid={&#x27;contamination&#x27;: [0.1, 0.2, 0.3, 0.4, 0.5, 0.6, 0.7,\n",
       "                                           0.8, 0.9],\n",
       "                         &#x27;n_neighbors&#x27;: [5, 6, 7, 8, 9, 10, 11, 12, 13, 14, 15,\n",
       "                                         16, 17, 18, 19, 20, 21, 22, 23, 24, 25,\n",
       "                                         26, 27, 28]},\n",
       "             scoring=&#x27;accuracy&#x27;, verbose=2)</pre><b>In a Jupyter environment, please rerun this cell to show the HTML representation or trust the notebook. <br />On GitHub, the HTML representation is unable to render, please try loading this page with nbviewer.org.</b></div><div class=\"sk-container\" hidden><div class=\"sk-item sk-dashed-wrapped\"><div class=\"sk-label-container\"><div class=\"sk-label sk-toggleable\"><input class=\"sk-toggleable__control sk-hidden--visually\" id=\"sk-estimator-id-1\" type=\"checkbox\" ><label for=\"sk-estimator-id-1\" class=\"sk-toggleable__label sk-toggleable__label-arrow\">GridSearchCV</label><div class=\"sk-toggleable__content\"><pre>GridSearchCV(estimator=LocalOutlierFactor(), n_jobs=-1,\n",
       "             param_grid={&#x27;contamination&#x27;: [0.1, 0.2, 0.3, 0.4, 0.5, 0.6, 0.7,\n",
       "                                           0.8, 0.9],\n",
       "                         &#x27;n_neighbors&#x27;: [5, 6, 7, 8, 9, 10, 11, 12, 13, 14, 15,\n",
       "                                         16, 17, 18, 19, 20, 21, 22, 23, 24, 25,\n",
       "                                         26, 27, 28]},\n",
       "             scoring=&#x27;accuracy&#x27;, verbose=2)</pre></div></div></div><div class=\"sk-parallel\"><div class=\"sk-parallel-item\"><div class=\"sk-item\"><div class=\"sk-label-container\"><div class=\"sk-label sk-toggleable\"><input class=\"sk-toggleable__control sk-hidden--visually\" id=\"sk-estimator-id-2\" type=\"checkbox\" ><label for=\"sk-estimator-id-2\" class=\"sk-toggleable__label sk-toggleable__label-arrow\">estimator: LocalOutlierFactor</label><div class=\"sk-toggleable__content\"><pre>LocalOutlierFactor()</pre></div></div></div><div class=\"sk-serial\"><div class=\"sk-item\"><div class=\"sk-estimator sk-toggleable\"><input class=\"sk-toggleable__control sk-hidden--visually\" id=\"sk-estimator-id-3\" type=\"checkbox\" ><label for=\"sk-estimator-id-3\" class=\"sk-toggleable__label sk-toggleable__label-arrow\">LocalOutlierFactor</label><div class=\"sk-toggleable__content\"><pre>LocalOutlierFactor()</pre></div></div></div></div></div></div></div></div></div></div>"
      ],
      "text/plain": [
       "GridSearchCV(estimator=LocalOutlierFactor(), n_jobs=-1,\n",
       "             param_grid={'contamination': [0.1, 0.2, 0.3, 0.4, 0.5, 0.6, 0.7,\n",
       "                                           0.8, 0.9],\n",
       "                         'n_neighbors': [5, 6, 7, 8, 9, 10, 11, 12, 13, 14, 15,\n",
       "                                         16, 17, 18, 19, 20, 21, 22, 23, 24, 25,\n",
       "                                         26, 27, 28]},\n",
       "             scoring='accuracy', verbose=2)"
      ]
     },
     "execution_count": 34,
     "metadata": {},
     "output_type": "execute_result"
    }
   ],
   "source": [
    "grid_search.fit(train)"
   ]
  },
  {
   "cell_type": "code",
   "execution_count": 35,
   "metadata": {},
   "outputs": [
    {
     "data": {
      "text/plain": [
       "{'contamination': 0.1, 'n_neighbors': 5}"
      ]
     },
     "execution_count": 35,
     "metadata": {},
     "output_type": "execute_result"
    }
   ],
   "source": [
    "grid_search.best_params_"
   ]
  },
  {
   "cell_type": "code",
   "execution_count": 37,
   "metadata": {},
   "outputs": [],
   "source": [
    "clf2 = LocalOutlierFactor(n_neighbors=5, contamination=0.1)"
   ]
  },
  {
   "cell_type": "code",
   "execution_count": 38,
   "metadata": {},
   "outputs": [
    {
     "data": {
      "text/html": [
       "<style>#sk-container-id-2 {color: black;background-color: white;}#sk-container-id-2 pre{padding: 0;}#sk-container-id-2 div.sk-toggleable {background-color: white;}#sk-container-id-2 label.sk-toggleable__label {cursor: pointer;display: block;width: 100%;margin-bottom: 0;padding: 0.3em;box-sizing: border-box;text-align: center;}#sk-container-id-2 label.sk-toggleable__label-arrow:before {content: \"▸\";float: left;margin-right: 0.25em;color: #696969;}#sk-container-id-2 label.sk-toggleable__label-arrow:hover:before {color: black;}#sk-container-id-2 div.sk-estimator:hover label.sk-toggleable__label-arrow:before {color: black;}#sk-container-id-2 div.sk-toggleable__content {max-height: 0;max-width: 0;overflow: hidden;text-align: left;background-color: #f0f8ff;}#sk-container-id-2 div.sk-toggleable__content pre {margin: 0.2em;color: black;border-radius: 0.25em;background-color: #f0f8ff;}#sk-container-id-2 input.sk-toggleable__control:checked~div.sk-toggleable__content {max-height: 200px;max-width: 100%;overflow: auto;}#sk-container-id-2 input.sk-toggleable__control:checked~label.sk-toggleable__label-arrow:before {content: \"▾\";}#sk-container-id-2 div.sk-estimator input.sk-toggleable__control:checked~label.sk-toggleable__label {background-color: #d4ebff;}#sk-container-id-2 div.sk-label input.sk-toggleable__control:checked~label.sk-toggleable__label {background-color: #d4ebff;}#sk-container-id-2 input.sk-hidden--visually {border: 0;clip: rect(1px 1px 1px 1px);clip: rect(1px, 1px, 1px, 1px);height: 1px;margin: -1px;overflow: hidden;padding: 0;position: absolute;width: 1px;}#sk-container-id-2 div.sk-estimator {font-family: monospace;background-color: #f0f8ff;border: 1px dotted black;border-radius: 0.25em;box-sizing: border-box;margin-bottom: 0.5em;}#sk-container-id-2 div.sk-estimator:hover {background-color: #d4ebff;}#sk-container-id-2 div.sk-parallel-item::after {content: \"\";width: 100%;border-bottom: 1px solid gray;flex-grow: 1;}#sk-container-id-2 div.sk-label:hover label.sk-toggleable__label {background-color: #d4ebff;}#sk-container-id-2 div.sk-serial::before {content: \"\";position: absolute;border-left: 1px solid gray;box-sizing: border-box;top: 0;bottom: 0;left: 50%;z-index: 0;}#sk-container-id-2 div.sk-serial {display: flex;flex-direction: column;align-items: center;background-color: white;padding-right: 0.2em;padding-left: 0.2em;position: relative;}#sk-container-id-2 div.sk-item {position: relative;z-index: 1;}#sk-container-id-2 div.sk-parallel {display: flex;align-items: stretch;justify-content: center;background-color: white;position: relative;}#sk-container-id-2 div.sk-item::before, #sk-container-id-2 div.sk-parallel-item::before {content: \"\";position: absolute;border-left: 1px solid gray;box-sizing: border-box;top: 0;bottom: 0;left: 50%;z-index: -1;}#sk-container-id-2 div.sk-parallel-item {display: flex;flex-direction: column;z-index: 1;position: relative;background-color: white;}#sk-container-id-2 div.sk-parallel-item:first-child::after {align-self: flex-end;width: 50%;}#sk-container-id-2 div.sk-parallel-item:last-child::after {align-self: flex-start;width: 50%;}#sk-container-id-2 div.sk-parallel-item:only-child::after {width: 0;}#sk-container-id-2 div.sk-dashed-wrapped {border: 1px dashed gray;margin: 0 0.4em 0.5em 0.4em;box-sizing: border-box;padding-bottom: 0.4em;background-color: white;}#sk-container-id-2 div.sk-label label {font-family: monospace;font-weight: bold;display: inline-block;line-height: 1.2em;}#sk-container-id-2 div.sk-label-container {text-align: center;}#sk-container-id-2 div.sk-container {/* jupyter's `normalize.less` sets `[hidden] { display: none; }` but bootstrap.min.css set `[hidden] { display: none !important; }` so we also need the `!important` here to be able to override the default hidden behavior on the sphinx rendered scikit-learn.org. See: https://github.com/scikit-learn/scikit-learn/issues/21755 */display: inline-block !important;position: relative;}#sk-container-id-2 div.sk-text-repr-fallback {display: none;}</style><div id=\"sk-container-id-2\" class=\"sk-top-container\"><div class=\"sk-text-repr-fallback\"><pre>LocalOutlierFactor(contamination=0.1, n_neighbors=5)</pre><b>In a Jupyter environment, please rerun this cell to show the HTML representation or trust the notebook. <br />On GitHub, the HTML representation is unable to render, please try loading this page with nbviewer.org.</b></div><div class=\"sk-container\" hidden><div class=\"sk-item\"><div class=\"sk-estimator sk-toggleable\"><input class=\"sk-toggleable__control sk-hidden--visually\" id=\"sk-estimator-id-4\" type=\"checkbox\" checked><label for=\"sk-estimator-id-4\" class=\"sk-toggleable__label sk-toggleable__label-arrow\">LocalOutlierFactor</label><div class=\"sk-toggleable__content\"><pre>LocalOutlierFactor(contamination=0.1, n_neighbors=5)</pre></div></div></div></div></div>"
      ],
      "text/plain": [
       "LocalOutlierFactor(contamination=0.1, n_neighbors=5)"
      ]
     },
     "execution_count": 38,
     "metadata": {},
     "output_type": "execute_result"
    }
   ],
   "source": [
    "clf2.fit(train)"
   ]
  },
  {
   "cell_type": "code",
   "execution_count": 39,
   "metadata": {},
   "outputs": [
    {
     "data": {
      "text/plain": [
       "array([-1,  1,  1, ...,  1,  1,  1])"
      ]
     },
     "execution_count": 39,
     "metadata": {},
     "output_type": "execute_result"
    }
   ],
   "source": [
    "clf2.fit_predict(test)"
   ]
  },
  {
   "cell_type": "code",
   "execution_count": 40,
   "metadata": {},
   "outputs": [],
   "source": [
    "x_score = clf2.negative_outlier_factor_"
   ]
  },
  {
   "cell_type": "code",
   "execution_count": 41,
   "metadata": {},
   "outputs": [
    {
     "data": {
      "text/plain": [
       "(-6.0, 0.5)"
      ]
     },
     "execution_count": 41,
     "metadata": {},
     "output_type": "execute_result"
    },
    {
     "data": {
      "image/png": "[encoded data removed]",
      "text/plain": [
       "<Figure size 640x480 with 1 Axes>"
      ]
     },
     "metadata": {},
     "output_type": "display_data"
    }
   ],
   "source": [
    "plt.plot(x_score)\n",
    "plt.ylim(-6,0.5)"
   ]
  },
  {
   "cell_type": "code",
   "execution_count": 43,
   "metadata": {},
   "outputs": [],
   "source": [
    "threshold = np.percentile(x_score, 5)"
   ]
  },
  {
   "cell_type": "code",
   "execution_count": 70,
   "metadata": {},
   "outputs": [
    {
     "data": {
      "text/plain": [
       "<matplotlib.lines.Line2D at 0x2834806be10>"
      ]
     },
     "execution_count": 70,
     "metadata": {},
     "output_type": "execute_result"
    },
    {
     "data": {
      "image/png": "[encoded data removed]",
      "text/plain": [
       "<Figure size 640x480 with 1 Axes>"
      ]
     },
     "metadata": {},
     "output_type": "display_data"
    }
   ],
   "source": [
    "sns.distplot(x_score)\n",
    "plt.axvline(threshold, color = 'r')"
   ]
  },
  {
   "cell_type": "code",
   "execution_count": 51,
   "metadata": {},
   "outputs": [
    {
     "data": {
      "text/plain": [
       "array([   3,    9,   51,   62,  104,  123,  125,  150,  168,  177,  190,\n",
       "        248,  317,  343,  375,  387,  396,  444,  458,  493,  500,  573,\n",
       "        586,  587,  588,  589,  590,  591,  596,  597,  598,  599,  621,\n",
       "        626,  627,  632,  664,  700,  715,  717,  719,  721,  723,  724,\n",
       "        725,  726,  727,  769,  784,  790,  829,  841,  857,  868,  878,\n",
       "        887,  920,  924,  933,  951,  954,  957,  996, 1027, 1030, 1051,\n",
       "       1087, 1095, 1108, 1137, 1152, 1177, 1209, 1218, 1277, 1288, 1317,\n",
       "       1404, 1446, 1466, 1521, 1527, 1534, 1597, 1629, 1645, 1677, 1736,\n",
       "       1899, 1906, 1934, 1963, 2018, 2043, 2300, 2343, 2348, 2363, 2379,\n",
       "       2407, 2430, 2470, 2471, 2545, 2573, 2610, 2642, 2643, 2644, 2645,\n",
       "       2646, 2647, 2648, 2649, 2650, 2651, 2652, 2653, 2654, 2656, 2657,\n",
       "       2658, 2659, 2663, 2666, 2668, 2908, 2916, 3030, 3126, 3256, 3260,\n",
       "       3268, 3295, 3313, 3386, 3434, 3447, 3503, 3505, 3509, 3559, 3621,\n",
       "       3653, 3723, 3732, 3734, 3753, 3790, 3807, 3824, 3848, 3901, 3917,\n",
       "       3919, 3940, 3941, 3942, 3943, 3944, 3945, 3946, 3947, 3948, 3949,\n",
       "       3950, 3951, 3968, 3975, 3978, 3982, 3997, 4003, 4031, 4056, 4090,\n",
       "       4114, 4120, 4123, 4132, 4134, 4154, 4195, 4226, 4230, 4241, 4335,\n",
       "       4339, 4365, 4373, 4378, 4443, 4455, 4457, 4474, 4478, 4482, 4492,\n",
       "       4520, 4530, 4536, 4553, 4555, 4582, 4600, 4604, 4632, 4643, 4650,\n",
       "       4675, 4700, 4712, 4717, 4760, 4767, 4794, 4806, 4807, 4817, 4822,\n",
       "       4854, 4861, 4874, 4886, 4893, 4905, 4931, 4942, 4971, 4994, 5038,\n",
       "       5041, 5054, 5055, 5086, 5107, 5146, 5189, 5198, 5200, 5214, 5229,\n",
       "       5262, 5266, 5267, 5268, 5269, 5270, 5271, 5280, 5287, 5325, 5351,\n",
       "       5355, 5360, 5370, 5374, 5400, 5456, 5470, 5513, 5547, 5559, 5570,\n",
       "       5574, 5601, 5623, 5685, 5703, 5707, 5722, 5743, 5765, 5851, 5854,\n",
       "       5864, 5874, 5886, 5891, 5893, 5901, 5907, 5914, 5924, 5950, 5963,\n",
       "       5979, 5987, 6010, 6015, 6018, 6034, 6067, 6098, 6152, 6196, 6202,\n",
       "       6221, 6222, 6229, 6234, 6257, 6269, 6280, 6281, 6287, 6317, 6319,\n",
       "       6362, 6424, 6447, 6448, 6459, 6460, 6471, 6476, 6496, 6503, 6549,\n",
       "       6558, 6595, 6602, 6673, 6681, 6695, 6700, 6705, 6737, 6773, 6788,\n",
       "       6790, 6792, 6794, 6796, 6797, 6798, 6799, 6800, 6803, 6815, 6859,\n",
       "       6870, 6898, 6918, 6949, 6950, 6956, 6960, 6982, 6983, 7017, 7024,\n",
       "       7065, 7067, 7073, 7105, 7115, 7121, 7152, 7161, 7167, 7174, 7205,\n",
       "       7235, 7265, 7266, 7318, 7321, 7332, 7342], dtype=int64)"
      ]
     },
     "execution_count": 51,
     "metadata": {},
     "output_type": "execute_result"
    }
   ],
   "source": [
    "np.where(x_score<threshold)[0]"
   ]
  }
 ],
 "metadata": {
  "kernelspec": {
   "display_name": "Python 3",
   "language": "python",
   "name": "python3"
  },
  "language_info": {
   "codemirror_mode": {
    "name": "ipython",
    "version": 3
   },
   "file_extension": ".py",
   "mimetype": "text/x-python",
   "name": "python",
   "nbconvert_exporter": "python",
   "pygments_lexer": "ipython3",
   "version": "3.11.1"
  },
  "orig_nbformat": 4
 },
 "nbformat": 4,
 "nbformat_minor": 2
}
