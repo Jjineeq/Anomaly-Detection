{
 "cells": [
  {
   "attachments": {},
   "cell_type": "markdown",
   "metadata": {},
   "source": [
    "## 모든 모델 만든것 추가해서 Ensemble \n",
    "## 0과 1로 나온 결과만 넣고 평균 0.5 이상 -> 1\n",
    "## 0.5 미만 -> 0\n",
    "\n",
    "---\n",
    "\n",
    "### 현재 모델 GM, BGM, LOF, AutoEncoder, Hotelling T2"
   ]
  },
  {
   "cell_type": "code",
   "execution_count": 2,
   "metadata": {},
   "outputs": [],
   "source": [
    "import numpy as np\n",
    "import pandas as pd\n",
    "import matplotlib.pyplot as plt\n",
    "import seaborn as sns\n",
    "import warnings\n",
    "warnings.filterwarnings('ignore')\n",
    "from sklearn.preprocessing import StandardScaler\n",
    "from sklearn.cluster import DBSCAN"
   ]
  },
  {
   "cell_type": "code",
   "execution_count": 3,
   "metadata": {},
   "outputs": [],
   "source": [
    "test = pd.read_csv('C:/Users/user/github/Data/aifactory/test_data.csv')\n",
    "train = pd.read_csv('C:/Users/user/github/Data/aifactory/train_data.csv')\n"
   ]
  },
  {
   "cell_type": "code",
   "execution_count": 4,
   "metadata": {},
   "outputs": [],
   "source": [
    "result = pd.DataFrame(index = test.index ,columns=['gm','bgm','hotelling','LOF','autoencoder'], data=0)"
   ]
  },
  {
   "cell_type": "code",
   "execution_count": 5,
   "metadata": {},
   "outputs": [],
   "source": [
    "te = test.drop(['type'], axis=1)\n",
    "tr = train.drop(['type'], axis= 1)"
   ]
  },
  {
   "cell_type": "code",
   "execution_count": 6,
   "metadata": {},
   "outputs": [],
   "source": [
    "ss = StandardScaler()"
   ]
  },
  {
   "cell_type": "code",
   "execution_count": 8,
   "metadata": {},
   "outputs": [
    {
     "data": {
      "text/html": [
       "<style>#sk-container-id-1 {color: black;background-color: white;}#sk-container-id-1 pre{padding: 0;}#sk-container-id-1 div.sk-toggleable {background-color: white;}#sk-container-id-1 label.sk-toggleable__label {cursor: pointer;display: block;width: 100%;margin-bottom: 0;padding: 0.3em;box-sizing: border-box;text-align: center;}#sk-container-id-1 label.sk-toggleable__label-arrow:before {content: \"▸\";float: left;margin-right: 0.25em;color: #696969;}#sk-container-id-1 label.sk-toggleable__label-arrow:hover:before {color: black;}#sk-container-id-1 div.sk-estimator:hover label.sk-toggleable__label-arrow:before {color: black;}#sk-container-id-1 div.sk-toggleable__content {max-height: 0;max-width: 0;overflow: hidden;text-align: left;background-color: #f0f8ff;}#sk-container-id-1 div.sk-toggleable__content pre {margin: 0.2em;color: black;border-radius: 0.25em;background-color: #f0f8ff;}#sk-container-id-1 input.sk-toggleable__control:checked~div.sk-toggleable__content {max-height: 200px;max-width: 100%;overflow: auto;}#sk-container-id-1 input.sk-toggleable__control:checked~label.sk-toggleable__label-arrow:before {content: \"▾\";}#sk-container-id-1 div.sk-estimator input.sk-toggleable__control:checked~label.sk-toggleable__label {background-color: #d4ebff;}#sk-container-id-1 div.sk-label input.sk-toggleable__control:checked~label.sk-toggleable__label {background-color: #d4ebff;}#sk-container-id-1 input.sk-hidden--visually {border: 0;clip: rect(1px 1px 1px 1px);clip: rect(1px, 1px, 1px, 1px);height: 1px;margin: -1px;overflow: hidden;padding: 0;position: absolute;width: 1px;}#sk-container-id-1 div.sk-estimator {font-family: monospace;background-color: #f0f8ff;border: 1px dotted black;border-radius: 0.25em;box-sizing: border-box;margin-bottom: 0.5em;}#sk-container-id-1 div.sk-estimator:hover {background-color: #d4ebff;}#sk-container-id-1 div.sk-parallel-item::after {content: \"\";width: 100%;border-bottom: 1px solid gray;flex-grow: 1;}#sk-container-id-1 div.sk-label:hover label.sk-toggleable__label {background-color: #d4ebff;}#sk-container-id-1 div.sk-serial::before {content: \"\";position: absolute;border-left: 1px solid gray;box-sizing: border-box;top: 0;bottom: 0;left: 50%;z-index: 0;}#sk-container-id-1 div.sk-serial {display: flex;flex-direction: column;align-items: center;background-color: white;padding-right: 0.2em;padding-left: 0.2em;position: relative;}#sk-container-id-1 div.sk-item {position: relative;z-index: 1;}#sk-container-id-1 div.sk-parallel {display: flex;align-items: stretch;justify-content: center;background-color: white;position: relative;}#sk-container-id-1 div.sk-item::before, #sk-container-id-1 div.sk-parallel-item::before {content: \"\";position: absolute;border-left: 1px solid gray;box-sizing: border-box;top: 0;bottom: 0;left: 50%;z-index: -1;}#sk-container-id-1 div.sk-parallel-item {display: flex;flex-direction: column;z-index: 1;position: relative;background-color: white;}#sk-container-id-1 div.sk-parallel-item:first-child::after {align-self: flex-end;width: 50%;}#sk-container-id-1 div.sk-parallel-item:last-child::after {align-self: flex-start;width: 50%;}#sk-container-id-1 div.sk-parallel-item:only-child::after {width: 0;}#sk-container-id-1 div.sk-dashed-wrapped {border: 1px dashed gray;margin: 0 0.4em 0.5em 0.4em;box-sizing: border-box;padding-bottom: 0.4em;background-color: white;}#sk-container-id-1 div.sk-label label {font-family: monospace;font-weight: bold;display: inline-block;line-height: 1.2em;}#sk-container-id-1 div.sk-label-container {text-align: center;}#sk-container-id-1 div.sk-container {/* jupyter's `normalize.less` sets `[hidden] { display: none; }` but bootstrap.min.css set `[hidden] { display: none !important; }` so we also need the `!important` here to be able to override the default hidden behavior on the sphinx rendered scikit-learn.org. See: https://github.com/scikit-learn/scikit-learn/issues/21755 */display: inline-block !important;position: relative;}#sk-container-id-1 div.sk-text-repr-fallback {display: none;}</style><div id=\"sk-container-id-1\" class=\"sk-top-container\"><div class=\"sk-text-repr-fallback\"><pre>StandardScaler()</pre><b>In a Jupyter environment, please rerun this cell to show the HTML representation or trust the notebook. <br />On GitHub, the HTML representation is unable to render, please try loading this page with nbviewer.org.</b></div><div class=\"sk-container\" hidden><div class=\"sk-item\"><div class=\"sk-estimator sk-toggleable\"><input class=\"sk-toggleable__control sk-hidden--visually\" id=\"sk-estimator-id-1\" type=\"checkbox\" checked><label for=\"sk-estimator-id-1\" class=\"sk-toggleable__label sk-toggleable__label-arrow\">StandardScaler</label><div class=\"sk-toggleable__content\"><pre>StandardScaler()</pre></div></div></div></div></div>"
      ],
      "text/plain": [
       "StandardScaler()"
      ]
     },
     "execution_count": 8,
     "metadata": {},
     "output_type": "execute_result"
    }
   ],
   "source": [
    "ss.fit(tr)"
   ]
  },
  {
   "cell_type": "code",
   "execution_count": 9,
   "metadata": {},
   "outputs": [],
   "source": [
    "train_sc = ss.transform(tr)"
   ]
  },
  {
   "cell_type": "code",
   "execution_count": 10,
   "metadata": {},
   "outputs": [],
   "source": [
    "test_sc = ss.fit_transform(te)"
   ]
  },
  {
   "cell_type": "code",
   "execution_count": 37,
   "metadata": {},
   "outputs": [],
   "source": [
    "train_sc = pd.DataFrame(train_sc)\n",
    "test_sc = pd.DataFrame(test_sc)"
   ]
  },
  {
   "cell_type": "code",
   "execution_count": 38,
   "metadata": {},
   "outputs": [],
   "source": [
    "epsilon = 0.3\n",
    "min_samples = 10\n",
    "dbscan = DBSCAN(eps=epsilon, min_samples=min_samples).fit(train_sc)"
   ]
  },
  {
   "cell_type": "code",
   "execution_count": 39,
   "metadata": {},
   "outputs": [],
   "source": [
    "dbscan_test = DBSCAN(eps=epsilon, min_samples=min_samples).fit(test_sc)"
   ]
  },
  {
   "cell_type": "code",
   "execution_count": 40,
   "metadata": {},
   "outputs": [],
   "source": [
    "labels = dbscan.fit_predict(train_sc)"
   ]
  },
  {
   "cell_type": "code",
   "execution_count": 41,
   "metadata": {},
   "outputs": [],
   "source": [
    "train_sc = pd.DataFrame(train_sc)"
   ]
  },
  {
   "cell_type": "code",
   "execution_count": 42,
   "metadata": {},
   "outputs": [],
   "source": [
    "train_sc['label'] = labels"
   ]
  },
  {
   "cell_type": "code",
   "execution_count": 43,
   "metadata": {},
   "outputs": [
    {
     "data": {
      "text/plain": [
       "Int64Index([   0,    1,    2,    3,    4,    5,    6,    7,    8,    9,\n",
       "            ...\n",
       "            2453, 2454, 2455, 2456, 2457, 2458, 2459, 2460, 2461, 2462],\n",
       "           dtype='int64', length=2447)"
      ]
     },
     "execution_count": 43,
     "metadata": {},
     "output_type": "execute_result"
    }
   ],
   "source": [
    "train_sc[train_sc['label'] != -1].index"
   ]
  },
  {
   "cell_type": "code",
   "execution_count": 44,
   "metadata": {},
   "outputs": [],
   "source": [
    "train_sc = train_sc.loc[train_sc[train_sc['label'] != -1].index].drop('label', axis=1)"
   ]
  },
  {
   "cell_type": "code",
   "execution_count": 45,
   "metadata": {},
   "outputs": [
    {
     "data": {
      "text/html": [
       "<style>#sk-container-id-3 {color: black;background-color: white;}#sk-container-id-3 pre{padding: 0;}#sk-container-id-3 div.sk-toggleable {background-color: white;}#sk-container-id-3 label.sk-toggleable__label {cursor: pointer;display: block;width: 100%;margin-bottom: 0;padding: 0.3em;box-sizing: border-box;text-align: center;}#sk-container-id-3 label.sk-toggleable__label-arrow:before {content: \"▸\";float: left;margin-right: 0.25em;color: #696969;}#sk-container-id-3 label.sk-toggleable__label-arrow:hover:before {color: black;}#sk-container-id-3 div.sk-estimator:hover label.sk-toggleable__label-arrow:before {color: black;}#sk-container-id-3 div.sk-toggleable__content {max-height: 0;max-width: 0;overflow: hidden;text-align: left;background-color: #f0f8ff;}#sk-container-id-3 div.sk-toggleable__content pre {margin: 0.2em;color: black;border-radius: 0.25em;background-color: #f0f8ff;}#sk-container-id-3 input.sk-toggleable__control:checked~div.sk-toggleable__content {max-height: 200px;max-width: 100%;overflow: auto;}#sk-container-id-3 input.sk-toggleable__control:checked~label.sk-toggleable__label-arrow:before {content: \"▾\";}#sk-container-id-3 div.sk-estimator input.sk-toggleable__control:checked~label.sk-toggleable__label {background-color: #d4ebff;}#sk-container-id-3 div.sk-label input.sk-toggleable__control:checked~label.sk-toggleable__label {background-color: #d4ebff;}#sk-container-id-3 input.sk-hidden--visually {border: 0;clip: rect(1px 1px 1px 1px);clip: rect(1px, 1px, 1px, 1px);height: 1px;margin: -1px;overflow: hidden;padding: 0;position: absolute;width: 1px;}#sk-container-id-3 div.sk-estimator {font-family: monospace;background-color: #f0f8ff;border: 1px dotted black;border-radius: 0.25em;box-sizing: border-box;margin-bottom: 0.5em;}#sk-container-id-3 div.sk-estimator:hover {background-color: #d4ebff;}#sk-container-id-3 div.sk-parallel-item::after {content: \"\";width: 100%;border-bottom: 1px solid gray;flex-grow: 1;}#sk-container-id-3 div.sk-label:hover label.sk-toggleable__label {background-color: #d4ebff;}#sk-container-id-3 div.sk-serial::before {content: \"\";position: absolute;border-left: 1px solid gray;box-sizing: border-box;top: 0;bottom: 0;left: 50%;z-index: 0;}#sk-container-id-3 div.sk-serial {display: flex;flex-direction: column;align-items: center;background-color: white;padding-right: 0.2em;padding-left: 0.2em;position: relative;}#sk-container-id-3 div.sk-item {position: relative;z-index: 1;}#sk-container-id-3 div.sk-parallel {display: flex;align-items: stretch;justify-content: center;background-color: white;position: relative;}#sk-container-id-3 div.sk-item::before, #sk-container-id-3 div.sk-parallel-item::before {content: \"\";position: absolute;border-left: 1px solid gray;box-sizing: border-box;top: 0;bottom: 0;left: 50%;z-index: -1;}#sk-container-id-3 div.sk-parallel-item {display: flex;flex-direction: column;z-index: 1;position: relative;background-color: white;}#sk-container-id-3 div.sk-parallel-item:first-child::after {align-self: flex-end;width: 50%;}#sk-container-id-3 div.sk-parallel-item:last-child::after {align-self: flex-start;width: 50%;}#sk-container-id-3 div.sk-parallel-item:only-child::after {width: 0;}#sk-container-id-3 div.sk-dashed-wrapped {border: 1px dashed gray;margin: 0 0.4em 0.5em 0.4em;box-sizing: border-box;padding-bottom: 0.4em;background-color: white;}#sk-container-id-3 div.sk-label label {font-family: monospace;font-weight: bold;display: inline-block;line-height: 1.2em;}#sk-container-id-3 div.sk-label-container {text-align: center;}#sk-container-id-3 div.sk-container {/* jupyter's `normalize.less` sets `[hidden] { display: none; }` but bootstrap.min.css set `[hidden] { display: none !important; }` so we also need the `!important` here to be able to override the default hidden behavior on the sphinx rendered scikit-learn.org. See: https://github.com/scikit-learn/scikit-learn/issues/21755 */display: inline-block !important;position: relative;}#sk-container-id-3 div.sk-text-repr-fallback {display: none;}</style><div id=\"sk-container-id-3\" class=\"sk-top-container\"><div class=\"sk-text-repr-fallback\"><pre>GaussianMixture(n_components=4, n_init=30, random_state=42)</pre><b>In a Jupyter environment, please rerun this cell to show the HTML representation or trust the notebook. <br />On GitHub, the HTML representation is unable to render, please try loading this page with nbviewer.org.</b></div><div class=\"sk-container\" hidden><div class=\"sk-item\"><div class=\"sk-estimator sk-toggleable\"><input class=\"sk-toggleable__control sk-hidden--visually\" id=\"sk-estimator-id-3\" type=\"checkbox\" checked><label for=\"sk-estimator-id-3\" class=\"sk-toggleable__label sk-toggleable__label-arrow\">GaussianMixture</label><div class=\"sk-toggleable__content\"><pre>GaussianMixture(n_components=4, n_init=30, random_state=42)</pre></div></div></div></div></div>"
      ],
      "text/plain": [
       "GaussianMixture(n_components=4, n_init=30, random_state=42)"
      ]
     },
     "execution_count": 45,
     "metadata": {},
     "output_type": "execute_result"
    }
   ],
   "source": [
    "from sklearn.mixture import GaussianMixture\n",
    "\n",
    "# GMM: n_components = 모델의 총 수\n",
    "gm_1 = GaussianMixture(n_components=4, covariance_type = 'full',n_init=30, random_state=42)\n",
    "gm_1.fit(train_sc)"
   ]
  },
  {
   "cell_type": "code",
   "execution_count": 46,
   "metadata": {},
   "outputs": [
    {
     "data": {
      "text/plain": [
       "array([0.58, 0.15, 0.13, 0.14])"
      ]
     },
     "execution_count": 46,
     "metadata": {},
     "output_type": "execute_result"
    }
   ],
   "source": [
    "from sklearn.mixture import BayesianGaussianMixture\n",
    "\n",
    "bgm = BayesianGaussianMixture(n_components=4, n_init=15, random_state=42)\n",
    "bgm.fit(train_sc)\n",
    "np.round(bgm.weights_, 2)"
   ]
  },
  {
   "cell_type": "code",
   "execution_count": 47,
   "metadata": {},
   "outputs": [
    {
     "name": "stdout",
     "output_type": "stream",
     "text": [
      "True\n",
      "True\n"
     ]
    }
   ],
   "source": [
    "print(gm_1.converged_)\n",
    "print(bgm.converged_)"
   ]
  },
  {
   "cell_type": "code",
   "execution_count": 48,
   "metadata": {},
   "outputs": [],
   "source": [
    "densities = gm_1.score_samples(test_sc)\n",
    "density_threshold = np.percentile(densities, 4)"
   ]
  },
  {
   "cell_type": "code",
   "execution_count": 49,
   "metadata": {},
   "outputs": [],
   "source": [
    "bgm_densities = bgm.score_samples(test_sc)\n",
    "bgm_density_threshold = np.percentile(bgm_densities, 4)"
   ]
  },
  {
   "cell_type": "code",
   "execution_count": 50,
   "metadata": {},
   "outputs": [
    {
     "name": "stdout",
     "output_type": "stream",
     "text": [
      "-240177.31266852847\n",
      "-10814.563260488243\n"
     ]
    }
   ],
   "source": [
    "print(density_threshold)\n",
    "print(bgm_density_threshold)"
   ]
  },
  {
   "cell_type": "code",
   "execution_count": 51,
   "metadata": {},
   "outputs": [
    {
     "data": {
      "text/plain": [
       "Text(0.5, 1.0, 'gmm result')"
      ]
     },
     "execution_count": 51,
     "metadata": {},
     "output_type": "execute_result"
    },
    {
     "data": {
      "image/png": "[encoded data removed]",
      "text/plain": [
       "<Figure size 2000x800 with 1 Axes>"
      ]
     },
     "metadata": {},
     "output_type": "display_data"
    }
   ],
   "source": [
    "plt.figure(figsize=(20,8))\n",
    "sns.distplot(densities, kde=True, color=\"b\")\n",
    "plt.axvline(density_threshold, color = 'red')\n",
    "plt.title('gmm result')"
   ]
  },
  {
   "cell_type": "code",
   "execution_count": 52,
   "metadata": {},
   "outputs": [
    {
     "data": {
      "text/plain": [
       "Text(0.5, 1.0, 'bgm result')"
      ]
     },
     "execution_count": 52,
     "metadata": {},
     "output_type": "execute_result"
    },
    {
     "data": {
      "image/png": "[encoded data removed]",
      "text/plain": [
       "<Figure size 2000x800 with 1 Axes>"
      ]
     },
     "metadata": {},
     "output_type": "display_data"
    }
   ],
   "source": [
    "plt.figure(figsize=(20,8))\n",
    "sns.distplot(bgm_densities, kde=True, color=\"b\")\n",
    "plt.axvline(bgm_density_threshold, color = 'red')\n",
    "plt.title('bgm result')"
   ]
  },
  {
   "cell_type": "code",
   "execution_count": 53,
   "metadata": {},
   "outputs": [
    {
     "data": {
      "image/png": "[encoded data removed]",
      "text/plain": [
       "<Figure size 640x480 with 1 Axes>"
      ]
     },
     "metadata": {},
     "output_type": "display_data"
    }
   ],
   "source": [
    "plt.plot(densities)\n",
    "plt.axhline(density_threshold, color = 'r')\n",
    "#plt.ylim(-90000,10)\n",
    "plt.show()"
   ]
  },
  {
   "cell_type": "code",
   "execution_count": 54,
   "metadata": {},
   "outputs": [
    {
     "data": {
      "image/png": "[encoded data removed]",
      "text/plain": [
       "<Figure size 640x480 with 1 Axes>"
      ]
     },
     "metadata": {},
     "output_type": "display_data"
    }
   ],
   "source": [
    "plt.plot(bgm_densities)\n",
    "plt.axhline(bgm_density_threshold, color = 'r')\n",
    "#plt.ylim(-2000,15)\n",
    "plt.show()"
   ]
  },
  {
   "cell_type": "code",
   "execution_count": 55,
   "metadata": {},
   "outputs": [],
   "source": [
    "anomalies = test_sc[densities < density_threshold]"
   ]
  },
  {
   "cell_type": "code",
   "execution_count": 56,
   "metadata": {},
   "outputs": [],
   "source": [
    "bgm_anomalies = test_sc[bgm_densities < bgm_density_threshold]"
   ]
  },
  {
   "cell_type": "code",
   "execution_count": 57,
   "metadata": {},
   "outputs": [
    {
     "data": {
      "text/html": [
       "<div>\n",
       "<style scoped>\n",
       "    .dataframe tbody tr th:only-of-type {\n",
       "        vertical-align: middle;\n",
       "    }\n",
       "\n",
       "    .dataframe tbody tr th {\n",
       "        vertical-align: top;\n",
       "    }\n",
       "\n",
       "    .dataframe thead th {\n",
       "        text-align: right;\n",
       "    }\n",
       "</style>\n",
       "<table border=\"1\" class=\"dataframe\">\n",
       "  <thead>\n",
       "    <tr style=\"text-align: right;\">\n",
       "      <th></th>\n",
       "      <th>0</th>\n",
       "      <th>1</th>\n",
       "      <th>2</th>\n",
       "      <th>3</th>\n",
       "      <th>4</th>\n",
       "      <th>5</th>\n",
       "      <th>6</th>\n",
       "    </tr>\n",
       "  </thead>\n",
       "  <tbody>\n",
       "    <tr>\n",
       "      <th>586</th>\n",
       "      <td>-0.037055</td>\n",
       "      <td>0.334722</td>\n",
       "      <td>0.029701</td>\n",
       "      <td>0.319051</td>\n",
       "      <td>0.148584</td>\n",
       "      <td>-0.830857</td>\n",
       "      <td>0.364007</td>\n",
       "    </tr>\n",
       "    <tr>\n",
       "      <th>588</th>\n",
       "      <td>0.650278</td>\n",
       "      <td>1.714013</td>\n",
       "      <td>0.029701</td>\n",
       "      <td>1.243998</td>\n",
       "      <td>1.541652</td>\n",
       "      <td>-0.572491</td>\n",
       "      <td>1.186789</td>\n",
       "    </tr>\n",
       "    <tr>\n",
       "      <th>590</th>\n",
       "      <td>0.676053</td>\n",
       "      <td>1.761217</td>\n",
       "      <td>0.029701</td>\n",
       "      <td>1.275736</td>\n",
       "      <td>1.589639</td>\n",
       "      <td>-0.314125</td>\n",
       "      <td>1.217838</td>\n",
       "    </tr>\n",
       "    <tr>\n",
       "      <th>726</th>\n",
       "      <td>-0.028463</td>\n",
       "      <td>1.243120</td>\n",
       "      <td>0.029701</td>\n",
       "      <td>0.937194</td>\n",
       "      <td>0.717154</td>\n",
       "      <td>0.786516</td>\n",
       "      <td>1.310983</td>\n",
       "    </tr>\n",
       "    <tr>\n",
       "      <th>2643</th>\n",
       "      <td>-1.368763</td>\n",
       "      <td>1.248876</td>\n",
       "      <td>0.029701</td>\n",
       "      <td>-0.919501</td>\n",
       "      <td>1.537290</td>\n",
       "      <td>-0.788227</td>\n",
       "      <td>-0.210389</td>\n",
       "    </tr>\n",
       "    <tr>\n",
       "      <th>...</th>\n",
       "      <td>...</td>\n",
       "      <td>...</td>\n",
       "      <td>...</td>\n",
       "      <td>...</td>\n",
       "      <td>...</td>\n",
       "      <td>...</td>\n",
       "      <td>...</td>\n",
       "    </tr>\n",
       "    <tr>\n",
       "      <th>4920</th>\n",
       "      <td>0.478445</td>\n",
       "      <td>0.704298</td>\n",
       "      <td>-37.167516</td>\n",
       "      <td>0.526106</td>\n",
       "      <td>0.638630</td>\n",
       "      <td>0.709006</td>\n",
       "      <td>0.332958</td>\n",
       "    </tr>\n",
       "    <tr>\n",
       "      <th>4921</th>\n",
       "      <td>0.246470</td>\n",
       "      <td>0.303636</td>\n",
       "      <td>-37.167516</td>\n",
       "      <td>0.268421</td>\n",
       "      <td>0.232924</td>\n",
       "      <td>0.308538</td>\n",
       "      <td>0.100095</td>\n",
       "    </tr>\n",
       "    <tr>\n",
       "      <th>4922</th>\n",
       "      <td>-0.552555</td>\n",
       "      <td>-1.115952</td>\n",
       "      <td>-39.027377</td>\n",
       "      <td>-0.642168</td>\n",
       "      <td>-1.200860</td>\n",
       "      <td>-1.107309</td>\n",
       "      <td>-0.753736</td>\n",
       "    </tr>\n",
       "    <tr>\n",
       "      <th>4923</th>\n",
       "      <td>0.641686</td>\n",
       "      <td>1.002492</td>\n",
       "      <td>-39.027377</td>\n",
       "      <td>0.717292</td>\n",
       "      <td>0.939638</td>\n",
       "      <td>1.006127</td>\n",
       "      <td>0.519249</td>\n",
       "    </tr>\n",
       "    <tr>\n",
       "      <th>5271</th>\n",
       "      <td>-0.543963</td>\n",
       "      <td>1.555130</td>\n",
       "      <td>0.029701</td>\n",
       "      <td>-0.036116</td>\n",
       "      <td>-0.246942</td>\n",
       "      <td>-0.165564</td>\n",
       "      <td>-0.194865</td>\n",
       "    </tr>\n",
       "  </tbody>\n",
       "</table>\n",
       "<p>296 rows × 7 columns</p>\n",
       "</div>"
      ],
      "text/plain": [
       "             0         1          2         3         4         5         6\n",
       "586  -0.037055  0.334722   0.029701  0.319051  0.148584 -0.830857  0.364007\n",
       "588   0.650278  1.714013   0.029701  1.243998  1.541652 -0.572491  1.186789\n",
       "590   0.676053  1.761217   0.029701  1.275736  1.589639 -0.314125  1.217838\n",
       "726  -0.028463  1.243120   0.029701  0.937194  0.717154  0.786516  1.310983\n",
       "2643 -1.368763  1.248876   0.029701 -0.919501  1.537290 -0.788227 -0.210389\n",
       "...        ...       ...        ...       ...       ...       ...       ...\n",
       "4920  0.478445  0.704298 -37.167516  0.526106  0.638630  0.709006  0.332958\n",
       "4921  0.246470  0.303636 -37.167516  0.268421  0.232924  0.308538  0.100095\n",
       "4922 -0.552555 -1.115952 -39.027377 -0.642168 -1.200860 -1.107309 -0.753736\n",
       "4923  0.641686  1.002492 -39.027377  0.717292  0.939638  1.006127  0.519249\n",
       "5271 -0.543963  1.555130   0.029701 -0.036116 -0.246942 -0.165564 -0.194865\n",
       "\n",
       "[296 rows x 7 columns]"
      ]
     },
     "execution_count": 57,
     "metadata": {},
     "output_type": "execute_result"
    }
   ],
   "source": [
    "anomalies"
   ]
  },
  {
   "cell_type": "code",
   "execution_count": 58,
   "metadata": {},
   "outputs": [
    {
     "data": {
      "text/html": [
       "<div>\n",
       "<style scoped>\n",
       "    .dataframe tbody tr th:only-of-type {\n",
       "        vertical-align: middle;\n",
       "    }\n",
       "\n",
       "    .dataframe tbody tr th {\n",
       "        vertical-align: top;\n",
       "    }\n",
       "\n",
       "    .dataframe thead th {\n",
       "        text-align: right;\n",
       "    }\n",
       "</style>\n",
       "<table border=\"1\" class=\"dataframe\">\n",
       "  <thead>\n",
       "    <tr style=\"text-align: right;\">\n",
       "      <th></th>\n",
       "      <th>0</th>\n",
       "      <th>1</th>\n",
       "      <th>2</th>\n",
       "      <th>3</th>\n",
       "      <th>4</th>\n",
       "      <th>5</th>\n",
       "      <th>6</th>\n",
       "    </tr>\n",
       "  </thead>\n",
       "  <tbody>\n",
       "    <tr>\n",
       "      <th>586</th>\n",
       "      <td>-0.037055</td>\n",
       "      <td>0.334722</td>\n",
       "      <td>0.029701</td>\n",
       "      <td>0.319051</td>\n",
       "      <td>0.148584</td>\n",
       "      <td>-0.830857</td>\n",
       "      <td>0.364007</td>\n",
       "    </tr>\n",
       "    <tr>\n",
       "      <th>588</th>\n",
       "      <td>0.650278</td>\n",
       "      <td>1.714013</td>\n",
       "      <td>0.029701</td>\n",
       "      <td>1.243998</td>\n",
       "      <td>1.541652</td>\n",
       "      <td>-0.572491</td>\n",
       "      <td>1.186789</td>\n",
       "    </tr>\n",
       "    <tr>\n",
       "      <th>590</th>\n",
       "      <td>0.676053</td>\n",
       "      <td>1.761217</td>\n",
       "      <td>0.029701</td>\n",
       "      <td>1.275736</td>\n",
       "      <td>1.589639</td>\n",
       "      <td>-0.314125</td>\n",
       "      <td>1.217838</td>\n",
       "    </tr>\n",
       "    <tr>\n",
       "      <th>591</th>\n",
       "      <td>-0.767346</td>\n",
       "      <td>-1.147038</td>\n",
       "      <td>0.029701</td>\n",
       "      <td>-0.675418</td>\n",
       "      <td>-1.349182</td>\n",
       "      <td>-0.184942</td>\n",
       "      <td>-0.536397</td>\n",
       "    </tr>\n",
       "    <tr>\n",
       "      <th>608</th>\n",
       "      <td>0.667461</td>\n",
       "      <td>1.743947</td>\n",
       "      <td>0.029701</td>\n",
       "      <td>1.264401</td>\n",
       "      <td>1.572189</td>\n",
       "      <td>1.630082</td>\n",
       "      <td>1.202314</td>\n",
       "    </tr>\n",
       "    <tr>\n",
       "      <th>...</th>\n",
       "      <td>...</td>\n",
       "      <td>...</td>\n",
       "      <td>...</td>\n",
       "      <td>...</td>\n",
       "      <td>...</td>\n",
       "      <td>...</td>\n",
       "      <td>...</td>\n",
       "    </tr>\n",
       "    <tr>\n",
       "      <th>6796</th>\n",
       "      <td>-1.050871</td>\n",
       "      <td>-0.939799</td>\n",
       "      <td>0.029701</td>\n",
       "      <td>-0.818996</td>\n",
       "      <td>-1.605111</td>\n",
       "      <td>-1.481940</td>\n",
       "      <td>-0.365631</td>\n",
       "    </tr>\n",
       "    <tr>\n",
       "      <th>6797</th>\n",
       "      <td>-0.458046</td>\n",
       "      <td>0.482092</td>\n",
       "      <td>0.029701</td>\n",
       "      <td>0.155825</td>\n",
       "      <td>-0.168419</td>\n",
       "      <td>-0.088054</td>\n",
       "      <td>0.472676</td>\n",
       "    </tr>\n",
       "    <tr>\n",
       "      <th>6798</th>\n",
       "      <td>-0.234663</td>\n",
       "      <td>1.028973</td>\n",
       "      <td>0.029701</td>\n",
       "      <td>0.530640</td>\n",
       "      <td>0.384155</td>\n",
       "      <td>0.457099</td>\n",
       "      <td>0.814208</td>\n",
       "    </tr>\n",
       "    <tr>\n",
       "      <th>6799</th>\n",
       "      <td>-0.097197</td>\n",
       "      <td>1.358252</td>\n",
       "      <td>0.029701</td>\n",
       "      <td>0.756587</td>\n",
       "      <td>0.717154</td>\n",
       "      <td>0.786516</td>\n",
       "      <td>1.000499</td>\n",
       "    </tr>\n",
       "    <tr>\n",
       "      <th>6800</th>\n",
       "      <td>-0.569738</td>\n",
       "      <td>0.213832</td>\n",
       "      <td>0.029701</td>\n",
       "      <td>-0.027804</td>\n",
       "      <td>-0.438889</td>\n",
       "      <td>-0.355463</td>\n",
       "      <td>0.317434</td>\n",
       "    </tr>\n",
       "  </tbody>\n",
       "</table>\n",
       "<p>296 rows × 7 columns</p>\n",
       "</div>"
      ],
      "text/plain": [
       "             0         1         2         3         4         5         6\n",
       "586  -0.037055  0.334722  0.029701  0.319051  0.148584 -0.830857  0.364007\n",
       "588   0.650278  1.714013  0.029701  1.243998  1.541652 -0.572491  1.186789\n",
       "590   0.676053  1.761217  0.029701  1.275736  1.589639 -0.314125  1.217838\n",
       "591  -0.767346 -1.147038  0.029701 -0.675418 -1.349182 -0.184942 -0.536397\n",
       "608   0.667461  1.743947  0.029701  1.264401  1.572189  1.630082  1.202314\n",
       "...        ...       ...       ...       ...       ...       ...       ...\n",
       "6796 -1.050871 -0.939799  0.029701 -0.818996 -1.605111 -1.481940 -0.365631\n",
       "6797 -0.458046  0.482092  0.029701  0.155825 -0.168419 -0.088054  0.472676\n",
       "6798 -0.234663  1.028973  0.029701  0.530640  0.384155  0.457099  0.814208\n",
       "6799 -0.097197  1.358252  0.029701  0.756587  0.717154  0.786516  1.000499\n",
       "6800 -0.569738  0.213832  0.029701 -0.027804 -0.438889 -0.355463  0.317434\n",
       "\n",
       "[296 rows x 7 columns]"
      ]
     },
     "execution_count": 58,
     "metadata": {},
     "output_type": "execute_result"
    }
   ],
   "source": [
    "bgm_anomalies"
   ]
  },
  {
   "cell_type": "code",
   "execution_count": 59,
   "metadata": {},
   "outputs": [],
   "source": [
    "result.loc[anomalies.index.tolist(), 'gm'] = 1\n",
    "result.loc[bgm_anomalies.index.tolist(), 'bgm'] = 1"
   ]
  },
  {
   "attachments": {},
   "cell_type": "markdown",
   "metadata": {},
   "source": [
    "---\n",
    "\n",
    "## LOF"
   ]
  },
  {
   "cell_type": "code",
   "execution_count": 60,
   "metadata": {},
   "outputs": [],
   "source": [
    "from sklearn.neighbors import LocalOutlierFactor\n",
    "from sklearn.model_selection import GridSearchCV"
   ]
  },
  {
   "cell_type": "code",
   "execution_count": 61,
   "metadata": {},
   "outputs": [],
   "source": [
    "clf = LocalOutlierFactor(n_neighbors=10, contamination=0.5)"
   ]
  },
  {
   "cell_type": "code",
   "execution_count": 62,
   "metadata": {},
   "outputs": [],
   "source": [
    "param_grid = {'n_neighbors' : [5,6,7,8,9,10,11,12,13,14,15,16,17,18,19,20,21,22,23,24,25,26,27,28], 'contamination' : [0.1,0.2,0.3,0.4,0.5,0.6,0.7,0.8,0.9],}"
   ]
  },
  {
   "cell_type": "code",
   "execution_count": 63,
   "metadata": {},
   "outputs": [],
   "source": [
    "clf = LocalOutlierFactor()"
   ]
  },
  {
   "cell_type": "code",
   "execution_count": 64,
   "metadata": {},
   "outputs": [],
   "source": [
    "grid_search = GridSearchCV(estimator=clf, \n",
    "                           param_grid=param_grid,\n",
    "                           scoring='accuracy', \n",
    "                           n_jobs=-1, \n",
    "                           verbose=2\n",
    "                          )"
   ]
  },
  {
   "cell_type": "code",
   "execution_count": 65,
   "metadata": {},
   "outputs": [
    {
     "name": "stdout",
     "output_type": "stream",
     "text": [
      "Fitting 5 folds for each of 216 candidates, totalling 1080 fits\n"
     ]
    },
    {
     "data": {
      "text/html": [
       "<style>#sk-container-id-4 {color: black;background-color: white;}#sk-container-id-4 pre{padding: 0;}#sk-container-id-4 div.sk-toggleable {background-color: white;}#sk-container-id-4 label.sk-toggleable__label {cursor: pointer;display: block;width: 100%;margin-bottom: 0;padding: 0.3em;box-sizing: border-box;text-align: center;}#sk-container-id-4 label.sk-toggleable__label-arrow:before {content: \"▸\";float: left;margin-right: 0.25em;color: #696969;}#sk-container-id-4 label.sk-toggleable__label-arrow:hover:before {color: black;}#sk-container-id-4 div.sk-estimator:hover label.sk-toggleable__label-arrow:before {color: black;}#sk-container-id-4 div.sk-toggleable__content {max-height: 0;max-width: 0;overflow: hidden;text-align: left;background-color: #f0f8ff;}#sk-container-id-4 div.sk-toggleable__content pre {margin: 0.2em;color: black;border-radius: 0.25em;background-color: #f0f8ff;}#sk-container-id-4 input.sk-toggleable__control:checked~div.sk-toggleable__content {max-height: 200px;max-width: 100%;overflow: auto;}#sk-container-id-4 input.sk-toggleable__control:checked~label.sk-toggleable__label-arrow:before {content: \"▾\";}#sk-container-id-4 div.sk-estimator input.sk-toggleable__control:checked~label.sk-toggleable__label {background-color: #d4ebff;}#sk-container-id-4 div.sk-label input.sk-toggleable__control:checked~label.sk-toggleable__label {background-color: #d4ebff;}#sk-container-id-4 input.sk-hidden--visually {border: 0;clip: rect(1px 1px 1px 1px);clip: rect(1px, 1px, 1px, 1px);height: 1px;margin: -1px;overflow: hidden;padding: 0;position: absolute;width: 1px;}#sk-container-id-4 div.sk-estimator {font-family: monospace;background-color: #f0f8ff;border: 1px dotted black;border-radius: 0.25em;box-sizing: border-box;margin-bottom: 0.5em;}#sk-container-id-4 div.sk-estimator:hover {background-color: #d4ebff;}#sk-container-id-4 div.sk-parallel-item::after {content: \"\";width: 100%;border-bottom: 1px solid gray;flex-grow: 1;}#sk-container-id-4 div.sk-label:hover label.sk-toggleable__label {background-color: #d4ebff;}#sk-container-id-4 div.sk-serial::before {content: \"\";position: absolute;border-left: 1px solid gray;box-sizing: border-box;top: 0;bottom: 0;left: 50%;z-index: 0;}#sk-container-id-4 div.sk-serial {display: flex;flex-direction: column;align-items: center;background-color: white;padding-right: 0.2em;padding-left: 0.2em;position: relative;}#sk-container-id-4 div.sk-item {position: relative;z-index: 1;}#sk-container-id-4 div.sk-parallel {display: flex;align-items: stretch;justify-content: center;background-color: white;position: relative;}#sk-container-id-4 div.sk-item::before, #sk-container-id-4 div.sk-parallel-item::before {content: \"\";position: absolute;border-left: 1px solid gray;box-sizing: border-box;top: 0;bottom: 0;left: 50%;z-index: -1;}#sk-container-id-4 div.sk-parallel-item {display: flex;flex-direction: column;z-index: 1;position: relative;background-color: white;}#sk-container-id-4 div.sk-parallel-item:first-child::after {align-self: flex-end;width: 50%;}#sk-container-id-4 div.sk-parallel-item:last-child::after {align-self: flex-start;width: 50%;}#sk-container-id-4 div.sk-parallel-item:only-child::after {width: 0;}#sk-container-id-4 div.sk-dashed-wrapped {border: 1px dashed gray;margin: 0 0.4em 0.5em 0.4em;box-sizing: border-box;padding-bottom: 0.4em;background-color: white;}#sk-container-id-4 div.sk-label label {font-family: monospace;font-weight: bold;display: inline-block;line-height: 1.2em;}#sk-container-id-4 div.sk-label-container {text-align: center;}#sk-container-id-4 div.sk-container {/* jupyter's `normalize.less` sets `[hidden] { display: none; }` but bootstrap.min.css set `[hidden] { display: none !important; }` so we also need the `!important` here to be able to override the default hidden behavior on the sphinx rendered scikit-learn.org. See: https://github.com/scikit-learn/scikit-learn/issues/21755 */display: inline-block !important;position: relative;}#sk-container-id-4 div.sk-text-repr-fallback {display: none;}</style><div id=\"sk-container-id-4\" class=\"sk-top-container\"><div class=\"sk-text-repr-fallback\"><pre>GridSearchCV(estimator=LocalOutlierFactor(), n_jobs=-1,\n",
       "             param_grid={&#x27;contamination&#x27;: [0.1, 0.2, 0.3, 0.4, 0.5, 0.6, 0.7,\n",
       "                                           0.8, 0.9],\n",
       "                         &#x27;n_neighbors&#x27;: [5, 6, 7, 8, 9, 10, 11, 12, 13, 14, 15,\n",
       "                                         16, 17, 18, 19, 20, 21, 22, 23, 24, 25,\n",
       "                                         26, 27, 28]},\n",
       "             scoring=&#x27;accuracy&#x27;, verbose=2)</pre><b>In a Jupyter environment, please rerun this cell to show the HTML representation or trust the notebook. <br />On GitHub, the HTML representation is unable to render, please try loading this page with nbviewer.org.</b></div><div class=\"sk-container\" hidden><div class=\"sk-item sk-dashed-wrapped\"><div class=\"sk-label-container\"><div class=\"sk-label sk-toggleable\"><input class=\"sk-toggleable__control sk-hidden--visually\" id=\"sk-estimator-id-4\" type=\"checkbox\" ><label for=\"sk-estimator-id-4\" class=\"sk-toggleable__label sk-toggleable__label-arrow\">GridSearchCV</label><div class=\"sk-toggleable__content\"><pre>GridSearchCV(estimator=LocalOutlierFactor(), n_jobs=-1,\n",
       "             param_grid={&#x27;contamination&#x27;: [0.1, 0.2, 0.3, 0.4, 0.5, 0.6, 0.7,\n",
       "                                           0.8, 0.9],\n",
       "                         &#x27;n_neighbors&#x27;: [5, 6, 7, 8, 9, 10, 11, 12, 13, 14, 15,\n",
       "                                         16, 17, 18, 19, 20, 21, 22, 23, 24, 25,\n",
       "                                         26, 27, 28]},\n",
       "             scoring=&#x27;accuracy&#x27;, verbose=2)</pre></div></div></div><div class=\"sk-parallel\"><div class=\"sk-parallel-item\"><div class=\"sk-item\"><div class=\"sk-label-container\"><div class=\"sk-label sk-toggleable\"><input class=\"sk-toggleable__control sk-hidden--visually\" id=\"sk-estimator-id-5\" type=\"checkbox\" ><label for=\"sk-estimator-id-5\" class=\"sk-toggleable__label sk-toggleable__label-arrow\">estimator: LocalOutlierFactor</label><div class=\"sk-toggleable__content\"><pre>LocalOutlierFactor()</pre></div></div></div><div class=\"sk-serial\"><div class=\"sk-item\"><div class=\"sk-estimator sk-toggleable\"><input class=\"sk-toggleable__control sk-hidden--visually\" id=\"sk-estimator-id-6\" type=\"checkbox\" ><label for=\"sk-estimator-id-6\" class=\"sk-toggleable__label sk-toggleable__label-arrow\">LocalOutlierFactor</label><div class=\"sk-toggleable__content\"><pre>LocalOutlierFactor()</pre></div></div></div></div></div></div></div></div></div></div>"
      ],
      "text/plain": [
       "GridSearchCV(estimator=LocalOutlierFactor(), n_jobs=-1,\n",
       "             param_grid={'contamination': [0.1, 0.2, 0.3, 0.4, 0.5, 0.6, 0.7,\n",
       "                                           0.8, 0.9],\n",
       "                         'n_neighbors': [5, 6, 7, 8, 9, 10, 11, 12, 13, 14, 15,\n",
       "                                         16, 17, 18, 19, 20, 21, 22, 23, 24, 25,\n",
       "                                         26, 27, 28]},\n",
       "             scoring='accuracy', verbose=2)"
      ]
     },
     "execution_count": 65,
     "metadata": {},
     "output_type": "execute_result"
    }
   ],
   "source": [
    "grid_search.fit(train_sc)"
   ]
  },
  {
   "cell_type": "code",
   "execution_count": 66,
   "metadata": {},
   "outputs": [
    {
     "data": {
      "text/plain": [
       "{'contamination': 0.1, 'n_neighbors': 5}"
      ]
     },
     "execution_count": 66,
     "metadata": {},
     "output_type": "execute_result"
    }
   ],
   "source": [
    "grid_search.best_params_"
   ]
  },
  {
   "cell_type": "code",
   "execution_count": 67,
   "metadata": {},
   "outputs": [],
   "source": [
    "clf2 = LocalOutlierFactor(n_neighbors=5, contamination=0.1)"
   ]
  },
  {
   "cell_type": "code",
   "execution_count": 68,
   "metadata": {},
   "outputs": [
    {
     "data": {
      "text/html": [
       "<style>#sk-container-id-5 {color: black;background-color: white;}#sk-container-id-5 pre{padding: 0;}#sk-container-id-5 div.sk-toggleable {background-color: white;}#sk-container-id-5 label.sk-toggleable__label {cursor: pointer;display: block;width: 100%;margin-bottom: 0;padding: 0.3em;box-sizing: border-box;text-align: center;}#sk-container-id-5 label.sk-toggleable__label-arrow:before {content: \"▸\";float: left;margin-right: 0.25em;color: #696969;}#sk-container-id-5 label.sk-toggleable__label-arrow:hover:before {color: black;}#sk-container-id-5 div.sk-estimator:hover label.sk-toggleable__label-arrow:before {color: black;}#sk-container-id-5 div.sk-toggleable__content {max-height: 0;max-width: 0;overflow: hidden;text-align: left;background-color: #f0f8ff;}#sk-container-id-5 div.sk-toggleable__content pre {margin: 0.2em;color: black;border-radius: 0.25em;background-color: #f0f8ff;}#sk-container-id-5 input.sk-toggleable__control:checked~div.sk-toggleable__content {max-height: 200px;max-width: 100%;overflow: auto;}#sk-container-id-5 input.sk-toggleable__control:checked~label.sk-toggleable__label-arrow:before {content: \"▾\";}#sk-container-id-5 div.sk-estimator input.sk-toggleable__control:checked~label.sk-toggleable__label {background-color: #d4ebff;}#sk-container-id-5 div.sk-label input.sk-toggleable__control:checked~label.sk-toggleable__label {background-color: #d4ebff;}#sk-container-id-5 input.sk-hidden--visually {border: 0;clip: rect(1px 1px 1px 1px);clip: rect(1px, 1px, 1px, 1px);height: 1px;margin: -1px;overflow: hidden;padding: 0;position: absolute;width: 1px;}#sk-container-id-5 div.sk-estimator {font-family: monospace;background-color: #f0f8ff;border: 1px dotted black;border-radius: 0.25em;box-sizing: border-box;margin-bottom: 0.5em;}#sk-container-id-5 div.sk-estimator:hover {background-color: #d4ebff;}#sk-container-id-5 div.sk-parallel-item::after {content: \"\";width: 100%;border-bottom: 1px solid gray;flex-grow: 1;}#sk-container-id-5 div.sk-label:hover label.sk-toggleable__label {background-color: #d4ebff;}#sk-container-id-5 div.sk-serial::before {content: \"\";position: absolute;border-left: 1px solid gray;box-sizing: border-box;top: 0;bottom: 0;left: 50%;z-index: 0;}#sk-container-id-5 div.sk-serial {display: flex;flex-direction: column;align-items: center;background-color: white;padding-right: 0.2em;padding-left: 0.2em;position: relative;}#sk-container-id-5 div.sk-item {position: relative;z-index: 1;}#sk-container-id-5 div.sk-parallel {display: flex;align-items: stretch;justify-content: center;background-color: white;position: relative;}#sk-container-id-5 div.sk-item::before, #sk-container-id-5 div.sk-parallel-item::before {content: \"\";position: absolute;border-left: 1px solid gray;box-sizing: border-box;top: 0;bottom: 0;left: 50%;z-index: -1;}#sk-container-id-5 div.sk-parallel-item {display: flex;flex-direction: column;z-index: 1;position: relative;background-color: white;}#sk-container-id-5 div.sk-parallel-item:first-child::after {align-self: flex-end;width: 50%;}#sk-container-id-5 div.sk-parallel-item:last-child::after {align-self: flex-start;width: 50%;}#sk-container-id-5 div.sk-parallel-item:only-child::after {width: 0;}#sk-container-id-5 div.sk-dashed-wrapped {border: 1px dashed gray;margin: 0 0.4em 0.5em 0.4em;box-sizing: border-box;padding-bottom: 0.4em;background-color: white;}#sk-container-id-5 div.sk-label label {font-family: monospace;font-weight: bold;display: inline-block;line-height: 1.2em;}#sk-container-id-5 div.sk-label-container {text-align: center;}#sk-container-id-5 div.sk-container {/* jupyter's `normalize.less` sets `[hidden] { display: none; }` but bootstrap.min.css set `[hidden] { display: none !important; }` so we also need the `!important` here to be able to override the default hidden behavior on the sphinx rendered scikit-learn.org. See: https://github.com/scikit-learn/scikit-learn/issues/21755 */display: inline-block !important;position: relative;}#sk-container-id-5 div.sk-text-repr-fallback {display: none;}</style><div id=\"sk-container-id-5\" class=\"sk-top-container\"><div class=\"sk-text-repr-fallback\"><pre>LocalOutlierFactor(contamination=0.1, n_neighbors=5)</pre><b>In a Jupyter environment, please rerun this cell to show the HTML representation or trust the notebook. <br />On GitHub, the HTML representation is unable to render, please try loading this page with nbviewer.org.</b></div><div class=\"sk-container\" hidden><div class=\"sk-item\"><div class=\"sk-estimator sk-toggleable\"><input class=\"sk-toggleable__control sk-hidden--visually\" id=\"sk-estimator-id-7\" type=\"checkbox\" checked><label for=\"sk-estimator-id-7\" class=\"sk-toggleable__label sk-toggleable__label-arrow\">LocalOutlierFactor</label><div class=\"sk-toggleable__content\"><pre>LocalOutlierFactor(contamination=0.1, n_neighbors=5)</pre></div></div></div></div></div>"
      ],
      "text/plain": [
       "LocalOutlierFactor(contamination=0.1, n_neighbors=5)"
      ]
     },
     "execution_count": 68,
     "metadata": {},
     "output_type": "execute_result"
    }
   ],
   "source": [
    "clf2.fit(train_sc)"
   ]
  },
  {
   "cell_type": "code",
   "execution_count": 69,
   "metadata": {},
   "outputs": [
    {
     "data": {
      "text/plain": [
       "array([-1,  1,  1, ...,  1,  1,  1])"
      ]
     },
     "execution_count": 69,
     "metadata": {},
     "output_type": "execute_result"
    }
   ],
   "source": [
    "clf2.fit_predict(test_sc)"
   ]
  },
  {
   "cell_type": "code",
   "execution_count": 70,
   "metadata": {},
   "outputs": [],
   "source": [
    "lof_score = clf2.negative_outlier_factor_"
   ]
  },
  {
   "cell_type": "code",
   "execution_count": 71,
   "metadata": {},
   "outputs": [],
   "source": [
    "lof_threshold = np.percentile(lof_score, 3)"
   ]
  },
  {
   "cell_type": "code",
   "execution_count": 72,
   "metadata": {},
   "outputs": [
    {
     "data": {
      "text/plain": [
       "(-6.0, 0.5)"
      ]
     },
     "execution_count": 72,
     "metadata": {},
     "output_type": "execute_result"
    },
    {
     "data": {
      "image/png": "[encoded data removed]",
      "text/plain": [
       "<Figure size 640x480 with 1 Axes>"
      ]
     },
     "metadata": {},
     "output_type": "display_data"
    }
   ],
   "source": [
    "plt.plot(lof_score)\n",
    "plt.ylim(-6,0.5)"
   ]
  },
  {
   "cell_type": "code",
   "execution_count": 73,
   "metadata": {},
   "outputs": [
    {
     "data": {
      "image/png": "[encoded data removed]",
      "text/plain": [
       "<Figure size 640x480 with 1 Axes>"
      ]
     },
     "metadata": {},
     "output_type": "display_data"
    }
   ],
   "source": [
    "sns.distplot(lof_score)\n",
    "plt.axvline(lof_threshold, color = 'r')\n",
    "plt.show()"
   ]
  },
  {
   "cell_type": "code",
   "execution_count": 74,
   "metadata": {},
   "outputs": [
    {
     "data": {
      "text/plain": [
       "array([   3,  123,  125,  168,  177,  190,  248,  317,  387,  396,  493,\n",
       "        500,  586,  587,  588,  589,  590,  591,  598,  621,  626,  664,\n",
       "        700,  715,  717,  719,  721,  723,  724,  725,  726,  727,  769,\n",
       "        841,  878,  887,  933,  951,  954,  957,  996, 1027, 1051, 1095,\n",
       "       1137, 1152, 1177, 1277, 1288, 1317, 1446, 1521, 1645, 1677, 1963,\n",
       "       2043, 2343, 2348, 2379, 2407, 2430, 2470, 2642, 2643, 2644, 2645,\n",
       "       2646, 2647, 2648, 2649, 2650, 2651, 2652, 2653, 2654, 2656, 2657,\n",
       "       2658, 2659, 2663, 2666, 2668, 2916, 3256, 3386, 3503, 3505, 3509,\n",
       "       3723, 3732, 3734, 3790, 3901, 3919, 3940, 3941, 3942, 3943, 3944,\n",
       "       3945, 3946, 3947, 3948, 3949, 3950, 3951, 3997, 4114, 4123, 4132,\n",
       "       4154, 4195, 4226, 4230, 4373, 4378, 4455, 4530, 4553, 4643, 4675,\n",
       "       4700, 4717, 4760, 4767, 4794, 4807, 4817, 4822, 4861, 4874, 4886,\n",
       "       4893, 4917, 4918, 4931, 4971, 4994, 5041, 5054, 5055, 5086, 5107,\n",
       "       5189, 5198, 5200, 5214, 5229, 5262, 5266, 5267, 5268, 5269, 5270,\n",
       "       5271, 5325, 5351, 5355, 5374, 5400, 5470, 5547, 5559, 5574, 5623,\n",
       "       5703, 5707, 5722, 5851, 5886, 5891, 5901, 5907, 5987, 6010, 6067,\n",
       "       6152, 6196, 6229, 6234, 6257, 6281, 6317, 6319, 6362, 6424, 6447,\n",
       "       6448, 6476, 6496, 6558, 6602, 6681, 6695, 6737, 6773, 6788, 6790,\n",
       "       6792, 6794, 6796, 6797, 6798, 6799, 6800, 6803, 6815, 6859, 6870,\n",
       "       6898, 6949, 6960, 6983, 7065, 7067, 7115, 7121, 7152, 7266, 7318,\n",
       "       7332, 7342], dtype=int64)"
      ]
     },
     "execution_count": 74,
     "metadata": {},
     "output_type": "execute_result"
    }
   ],
   "source": [
    "np.where(lof_score<lof_threshold)[0]"
   ]
  },
  {
   "cell_type": "code",
   "execution_count": 75,
   "metadata": {},
   "outputs": [],
   "source": [
    "result.loc[np.where(lof_score<lof_threshold)[0], 'LOF'] = 1"
   ]
  },
  {
   "attachments": {},
   "cell_type": "markdown",
   "metadata": {},
   "source": [
    "---\n",
    "\n",
    "## AutoEncoder"
   ]
  },
  {
   "cell_type": "code",
   "execution_count": 76,
   "metadata": {},
   "outputs": [],
   "source": [
    "import tensorflow as tf\n",
    "from tensorflow.keras.layers import Input, Dense\n",
    "from tensorflow.keras.models import Model"
   ]
  },
  {
   "cell_type": "code",
   "execution_count": 77,
   "metadata": {},
   "outputs": [],
   "source": [
    "input_dim = train_sc.shape[1]\n",
    "\n",
    "input_layer = Input(shape=(input_dim,))\n",
    "encoder = Dense(8, activation='relu')(input_layer)\n",
    "decoder = Dense(input_dim, activation='sigmoid')(encoder)\n",
    "\n",
    "autoencoder = Model(input_layer, decoder)\n",
    "autoencoder.compile(optimizer='adam', loss='mse')\n"
   ]
  },
  {
   "cell_type": "code",
   "execution_count": 78,
   "metadata": {},
   "outputs": [
    {
     "name": "stdout",
     "output_type": "stream",
     "text": [
      "Epoch 1/100\n",
      "49/49 [==============================] - 1s 684us/step - loss: 1.0200\n",
      "Epoch 2/100\n",
      "49/49 [==============================] - 0s 625us/step - loss: 0.9339\n",
      "Epoch 3/100\n",
      "49/49 [==============================] - 0s 583us/step - loss: 0.8523\n",
      "Epoch 4/100\n",
      "49/49 [==============================] - 0s 646us/step - loss: 0.7764\n",
      "Epoch 5/100\n",
      "49/49 [==============================] - 0s 604us/step - loss: 0.7025\n",
      "Epoch 6/100\n",
      "49/49 [==============================] - 0s 604us/step - loss: 0.6183\n",
      "Epoch 7/100\n",
      "49/49 [==============================] - 0s 583us/step - loss: 0.5457\n",
      "Epoch 8/100\n",
      "49/49 [==============================] - 0s 621us/step - loss: 0.5016\n",
      "Epoch 9/100\n",
      "49/49 [==============================] - 0s 569us/step - loss: 0.4767\n",
      "Epoch 10/100\n",
      "49/49 [==============================] - 0s 591us/step - loss: 0.4613\n",
      "Epoch 11/100\n",
      "49/49 [==============================] - 0s 590us/step - loss: 0.4511\n",
      "Epoch 12/100\n",
      "49/49 [==============================] - 0s 577us/step - loss: 0.4436\n",
      "Epoch 13/100\n",
      "49/49 [==============================] - 0s 603us/step - loss: 0.4380\n",
      "Epoch 14/100\n",
      "49/49 [==============================] - 0s 596us/step - loss: 0.4335\n",
      "Epoch 15/100\n",
      "49/49 [==============================] - 0s 569us/step - loss: 0.4299\n",
      "Epoch 16/100\n",
      "49/49 [==============================] - 0s 605us/step - loss: 0.4269\n",
      "Epoch 17/100\n",
      "49/49 [==============================] - 0s 564us/step - loss: 0.4243\n",
      "Epoch 18/100\n",
      "49/49 [==============================] - 0s 585us/step - loss: 0.4221\n",
      "Epoch 19/100\n",
      "49/49 [==============================] - 0s 572us/step - loss: 0.4202\n",
      "Epoch 20/100\n",
      "49/49 [==============================] - 0s 590us/step - loss: 0.4185\n",
      "Epoch 21/100\n",
      "49/49 [==============================] - 0s 583us/step - loss: 0.4171\n",
      "Epoch 22/100\n",
      "49/49 [==============================] - 0s 604us/step - loss: 0.4158\n",
      "Epoch 23/100\n",
      "49/49 [==============================] - 0s 604us/step - loss: 0.4147\n",
      "Epoch 24/100\n",
      "49/49 [==============================] - 0s 583us/step - loss: 0.4137\n",
      "Epoch 25/100\n",
      "49/49 [==============================] - 0s 708us/step - loss: 0.4129\n",
      "Epoch 26/100\n",
      "49/49 [==============================] - 0s 744us/step - loss: 0.4121\n",
      "Epoch 27/100\n",
      "49/49 [==============================] - 0s 646us/step - loss: 0.4114\n",
      "Epoch 28/100\n",
      "49/49 [==============================] - 0s 583us/step - loss: 0.4108\n",
      "Epoch 29/100\n",
      "49/49 [==============================] - 0s 581us/step - loss: 0.4103\n",
      "Epoch 30/100\n",
      "49/49 [==============================] - 0s 583us/step - loss: 0.4098\n",
      "Epoch 31/100\n",
      "49/49 [==============================] - 0s 609us/step - loss: 0.4093\n",
      "Epoch 32/100\n",
      "49/49 [==============================] - 0s 604us/step - loss: 0.4089\n",
      "Epoch 33/100\n",
      "49/49 [==============================] - 0s 625us/step - loss: 0.4085\n",
      "Epoch 34/100\n",
      "49/49 [==============================] - 0s 596us/step - loss: 0.4082\n",
      "Epoch 35/100\n",
      "49/49 [==============================] - 0s 595us/step - loss: 0.4079\n",
      "Epoch 36/100\n",
      "49/49 [==============================] - 0s 604us/step - loss: 0.4076\n",
      "Epoch 37/100\n",
      "49/49 [==============================] - 0s 604us/step - loss: 0.4073\n",
      "Epoch 38/100\n",
      "49/49 [==============================] - 0s 604us/step - loss: 0.4071\n",
      "Epoch 39/100\n",
      "49/49 [==============================] - 0s 583us/step - loss: 0.4069\n",
      "Epoch 40/100\n",
      "49/49 [==============================] - 0s 583us/step - loss: 0.4067\n",
      "Epoch 41/100\n",
      "49/49 [==============================] - 0s 577us/step - loss: 0.4065\n",
      "Epoch 42/100\n",
      "49/49 [==============================] - 0s 622us/step - loss: 0.4063\n",
      "Epoch 43/100\n",
      "49/49 [==============================] - 0s 413us/step - loss: 0.4061\n",
      "Epoch 44/100\n",
      "49/49 [==============================] - 0s 818us/step - loss: 0.4060\n",
      "Epoch 45/100\n",
      "49/49 [==============================] - 0s 570us/step - loss: 0.4059\n",
      "Epoch 46/100\n",
      "49/49 [==============================] - 0s 591us/step - loss: 0.4057\n",
      "Epoch 47/100\n",
      "49/49 [==============================] - 0s 583us/step - loss: 0.4056\n",
      "Epoch 48/100\n",
      "49/49 [==============================] - 0s 604us/step - loss: 0.4055\n",
      "Epoch 49/100\n",
      "49/49 [==============================] - 0s 583us/step - loss: 0.4054\n",
      "Epoch 50/100\n",
      "49/49 [==============================] - 0s 622us/step - loss: 0.4053\n",
      "Epoch 51/100\n",
      "49/49 [==============================] - 0s 583us/step - loss: 0.4052\n",
      "Epoch 52/100\n",
      "49/49 [==============================] - 0s 596us/step - loss: 0.4052\n",
      "Epoch 53/100\n",
      "49/49 [==============================] - 0s 646us/step - loss: 0.4051\n",
      "Epoch 54/100\n",
      "49/49 [==============================] - 0s 635us/step - loss: 0.4050\n",
      "Epoch 55/100\n",
      "49/49 [==============================] - 0s 591us/step - loss: 0.4050\n",
      "Epoch 56/100\n",
      "49/49 [==============================] - 0s 598us/step - loss: 0.4049\n",
      "Epoch 57/100\n",
      "49/49 [==============================] - 0s 606us/step - loss: 0.4048\n",
      "Epoch 58/100\n",
      "49/49 [==============================] - 0s 597us/step - loss: 0.4048\n",
      "Epoch 59/100\n",
      "49/49 [==============================] - 0s 589us/step - loss: 0.4047\n",
      "Epoch 60/100\n",
      "49/49 [==============================] - 0s 577us/step - loss: 0.4047\n",
      "Epoch 61/100\n",
      "49/49 [==============================] - 0s 604us/step - loss: 0.4047\n",
      "Epoch 62/100\n",
      "49/49 [==============================] - 0s 582us/step - loss: 0.4046\n",
      "Epoch 63/100\n",
      "49/49 [==============================] - 0s 667us/step - loss: 0.4046\n",
      "Epoch 64/100\n",
      "49/49 [==============================] - 0s 654us/step - loss: 0.4045\n",
      "Epoch 65/100\n",
      "49/49 [==============================] - 0s 641us/step - loss: 0.4045\n",
      "Epoch 66/100\n",
      "49/49 [==============================] - 0s 576us/step - loss: 0.4045\n",
      "Epoch 67/100\n",
      "49/49 [==============================] - 0s 598us/step - loss: 0.4045\n",
      "Epoch 68/100\n",
      "49/49 [==============================] - 0s 621us/step - loss: 0.4044\n",
      "Epoch 69/100\n",
      "49/49 [==============================] - 0s 641us/step - loss: 0.4044\n",
      "Epoch 70/100\n",
      "49/49 [==============================] - 0s 592us/step - loss: 0.4044\n",
      "Epoch 71/100\n",
      "49/49 [==============================] - 0s 576us/step - loss: 0.4044\n",
      "Epoch 72/100\n",
      "49/49 [==============================] - 0s 625us/step - loss: 0.4043\n",
      "Epoch 73/100\n",
      "49/49 [==============================] - 0s 686us/step - loss: 0.4043\n",
      "Epoch 74/100\n",
      "49/49 [==============================] - 0s 590us/step - loss: 0.4043\n",
      "Epoch 75/100\n",
      "49/49 [==============================] - 0s 590us/step - loss: 0.4043\n",
      "Epoch 76/100\n",
      "49/49 [==============================] - 0s 569us/step - loss: 0.4042\n",
      "Epoch 77/100\n",
      "49/49 [==============================] - 0s 605us/step - loss: 0.4042\n",
      "Epoch 78/100\n",
      "49/49 [==============================] - 0s 599us/step - loss: 0.4042\n",
      "Epoch 79/100\n",
      "49/49 [==============================] - 0s 595us/step - loss: 0.4042\n",
      "Epoch 80/100\n",
      "49/49 [==============================] - 0s 576us/step - loss: 0.4042\n",
      "Epoch 81/100\n",
      "49/49 [==============================] - 0s 591us/step - loss: 0.4041\n",
      "Epoch 82/100\n",
      "49/49 [==============================] - 0s 665us/step - loss: 0.4041\n",
      "Epoch 83/100\n",
      "49/49 [==============================] - 0s 642us/step - loss: 0.4041\n",
      "Epoch 84/100\n",
      "49/49 [==============================] - 0s 619us/step - loss: 0.4041\n",
      "Epoch 85/100\n",
      "49/49 [==============================] - 0s 592us/step - loss: 0.4041\n",
      "Epoch 86/100\n",
      "49/49 [==============================] - 0s 593us/step - loss: 0.4041\n",
      "Epoch 87/100\n",
      "49/49 [==============================] - 0s 609us/step - loss: 0.4040\n",
      "Epoch 88/100\n",
      "49/49 [==============================] - 0s 601us/step - loss: 0.4040\n",
      "Epoch 89/100\n",
      "49/49 [==============================] - 0s 592us/step - loss: 0.4040\n",
      "Epoch 90/100\n",
      "49/49 [==============================] - 0s 591us/step - loss: 0.4040\n",
      "Epoch 91/100\n",
      "49/49 [==============================] - 0s 583us/step - loss: 0.4040\n",
      "Epoch 92/100\n",
      "49/49 [==============================] - 0s 583us/step - loss: 0.4039\n",
      "Epoch 93/100\n",
      "49/49 [==============================] - 0s 589us/step - loss: 0.4039\n",
      "Epoch 94/100\n",
      "49/49 [==============================] - 0s 589us/step - loss: 0.4039\n",
      "Epoch 95/100\n",
      "49/49 [==============================] - 0s 592us/step - loss: 0.4039\n",
      "Epoch 96/100\n",
      "49/49 [==============================] - 0s 583us/step - loss: 0.4039\n",
      "Epoch 97/100\n",
      "49/49 [==============================] - 0s 573us/step - loss: 0.4039\n",
      "Epoch 98/100\n",
      "49/49 [==============================] - 0s 597us/step - loss: 0.4038\n",
      "Epoch 99/100\n",
      "49/49 [==============================] - 0s 583us/step - loss: 0.4038\n",
      "Epoch 100/100\n",
      "49/49 [==============================] - 0s 575us/step - loss: 0.4038\n"
     ]
    },
    {
     "data": {
      "text/plain": [
       "<keras.callbacks.History at 0x25147a7c110>"
      ]
     },
     "execution_count": 78,
     "metadata": {},
     "output_type": "execute_result"
    }
   ],
   "source": [
    "autoencoder.fit(train_sc, train_sc, epochs=100, batch_size=50, shuffle=True)"
   ]
  },
  {
   "cell_type": "code",
   "execution_count": 79,
   "metadata": {},
   "outputs": [
    {
     "name": "stdout",
     "output_type": "stream",
     "text": [
      "231/231 [==============================] - 0s 478us/step\n"
     ]
    }
   ],
   "source": [
    "x_pred = autoencoder.predict(test_sc)\n",
    "mse = np.mean(np.power(test_sc - x_pred, 2), axis=1)"
   ]
  },
  {
   "cell_type": "code",
   "execution_count": 80,
   "metadata": {},
   "outputs": [],
   "source": [
    "# 이상치 검출\n",
    "auto_threshold = np.mean(mse) + 3*np.std(mse)\n",
    "auto_outliers = np.where(mse > auto_threshold)[0]"
   ]
  },
  {
   "cell_type": "code",
   "execution_count": 81,
   "metadata": {},
   "outputs": [
    {
     "data": {
      "text/plain": [
       "16.08411460790525"
      ]
     },
     "execution_count": 81,
     "metadata": {},
     "output_type": "execute_result"
    }
   ],
   "source": [
    "auto_threshold"
   ]
  },
  {
   "cell_type": "code",
   "execution_count": 82,
   "metadata": {},
   "outputs": [
    {
     "data": {
      "text/plain": [
       "array([4917, 4918, 4919, 4920, 4921, 4922, 4923], dtype=int64)"
      ]
     },
     "execution_count": 82,
     "metadata": {},
     "output_type": "execute_result"
    }
   ],
   "source": [
    "auto_outliers"
   ]
  },
  {
   "cell_type": "code",
   "execution_count": 83,
   "metadata": {},
   "outputs": [],
   "source": [
    "result.loc[auto_outliers, 'autoencoder'] = 1"
   ]
  },
  {
   "cell_type": "code",
   "execution_count": 84,
   "metadata": {},
   "outputs": [],
   "source": [
    "result['label'] = result.mean(axis=1)"
   ]
  },
  {
   "cell_type": "code",
   "execution_count": 85,
   "metadata": {},
   "outputs": [],
   "source": [
    "for i in range(len(result)):\n",
    "    if result.label[i] > 0.5:\n",
    "        result.label[i] = 1\n",
    "    else:\n",
    "        result.label[i] = 0"
   ]
  },
  {
   "cell_type": "code",
   "execution_count": 86,
   "metadata": {},
   "outputs": [
    {
     "data": {
      "text/plain": [
       "<AxesSubplot: >"
      ]
     },
     "execution_count": 86,
     "metadata": {},
     "output_type": "execute_result"
    },
    {
     "data": {
      "image/png": "[encoded data removed]",
      "text/plain": [
       "<Figure size 640x480 with 1 Axes>"
      ]
     },
     "metadata": {},
     "output_type": "display_data"
    }
   ],
   "source": [
    "result.label.plot()"
   ]
  },
  {
   "cell_type": "code",
   "execution_count": 87,
   "metadata": {},
   "outputs": [
    {
     "data": {
      "text/plain": [
       "0    7093\n",
       "1     296\n",
       "Name: gm, dtype: int64"
      ]
     },
     "execution_count": 87,
     "metadata": {},
     "output_type": "execute_result"
    }
   ],
   "source": [
    "result.gm.value_counts()"
   ]
  },
  {
   "cell_type": "code",
   "execution_count": 95,
   "metadata": {},
   "outputs": [
    {
     "data": {
      "text/plain": [
       "<AxesSubplot: >"
      ]
     },
     "execution_count": 95,
     "metadata": {},
     "output_type": "execute_result"
    },
    {
     "data": {
      "image/png": "[encoded data removed]",
      "text/plain": [
       "<Figure size 640x480 with 1 Axes>"
      ]
     },
     "metadata": {},
     "output_type": "display_data"
    }
   ],
   "source": [
    "result.gm.plot()"
   ]
  },
  {
   "cell_type": "code",
   "execution_count": 88,
   "metadata": {},
   "outputs": [
    {
     "data": {
      "text/plain": [
       "0    7093\n",
       "1     296\n",
       "Name: bgm, dtype: int64"
      ]
     },
     "execution_count": 88,
     "metadata": {},
     "output_type": "execute_result"
    }
   ],
   "source": [
    "result.bgm.value_counts()"
   ]
  },
  {
   "cell_type": "code",
   "execution_count": 97,
   "metadata": {},
   "outputs": [
    {
     "data": {
      "text/plain": [
       "<AxesSubplot: >"
      ]
     },
     "execution_count": 97,
     "metadata": {},
     "output_type": "execute_result"
    },
    {
     "data": {
      "image/png": "[encoded data removed]",
      "text/plain": [
       "<Figure size 640x480 with 1 Axes>"
      ]
     },
     "metadata": {},
     "output_type": "display_data"
    }
   ],
   "source": [
    "result.bgm.plot()"
   ]
  },
  {
   "cell_type": "code",
   "execution_count": 89,
   "metadata": {},
   "outputs": [
    {
     "data": {
      "text/plain": [
       "0    7167\n",
       "1     222\n",
       "Name: LOF, dtype: int64"
      ]
     },
     "execution_count": 89,
     "metadata": {},
     "output_type": "execute_result"
    }
   ],
   "source": [
    "result.LOF.value_counts()"
   ]
  },
  {
   "cell_type": "code",
   "execution_count": 90,
   "metadata": {},
   "outputs": [
    {
     "data": {
      "text/plain": [
       "0    7389\n",
       "Name: hotelling, dtype: int64"
      ]
     },
     "execution_count": 90,
     "metadata": {},
     "output_type": "execute_result"
    }
   ],
   "source": [
    "result.hotelling.value_counts()"
   ]
  },
  {
   "cell_type": "code",
   "execution_count": 91,
   "metadata": {},
   "outputs": [
    {
     "data": {
      "text/plain": [
       "0    7382\n",
       "1       7\n",
       "Name: autoencoder, dtype: int64"
      ]
     },
     "execution_count": 91,
     "metadata": {},
     "output_type": "execute_result"
    }
   ],
   "source": [
    "result.autoencoder.value_counts()"
   ]
  },
  {
   "cell_type": "markdown",
   "metadata": {},
   "source": [
    "result.to_csv('C:/Users/user/Desktop/result.csv', index=False)"
   ]
  },
  {
   "cell_type": "code",
   "execution_count": 92,
   "metadata": {},
   "outputs": [
    {
     "data": {
      "text/plain": [
       "0.0    7353\n",
       "1.0      36\n",
       "Name: label, dtype: int64"
      ]
     },
     "execution_count": 92,
     "metadata": {},
     "output_type": "execute_result"
    }
   ],
   "source": [
    "result.label.value_counts()"
   ]
  },
  {
   "cell_type": "code",
   "execution_count": 93,
   "metadata": {},
   "outputs": [
    {
     "data": {
      "text/plain": [
       "<AxesSubplot: >"
      ]
     },
     "execution_count": 93,
     "metadata": {},
     "output_type": "execute_result"
    },
    {
     "data": {
      "image/png": "[encoded data removed]",
      "text/plain": [
       "<Figure size 2000x800 with 1 Axes>"
      ]
     },
     "metadata": {},
     "output_type": "display_data"
    }
   ],
   "source": [
    "result.plot(figsize=(20,8))"
   ]
  },
  {
   "cell_type": "code",
   "execution_count": 94,
   "metadata": {},
   "outputs": [
    {
     "data": {
      "text/plain": [
       "<AxesSubplot: >"
      ]
     },
     "execution_count": 94,
     "metadata": {},
     "output_type": "execute_result"
    },
    {
     "data": {
      "image/png": "[encoded data removed]",
      "text/plain": [
       "<Figure size 2000x800 with 1 Axes>"
      ]
     },
     "metadata": {},
     "output_type": "display_data"
    }
   ],
   "source": [
    "result.label.plot(figsize=(20,8))"
   ]
  },
  {
   "cell_type": "code",
   "execution_count": null,
   "metadata": {},
   "outputs": [],
   "source": []
  }
 ],
 "metadata": {
  "kernelspec": {
   "display_name": "base",
   "language": "python",
   "name": "python3"
  },
  "language_info": {
   "codemirror_mode": {
    "name": "ipython",
    "version": 3
   },
   "file_extension": ".py",
   "mimetype": "text/x-python",
   "name": "python",
   "nbconvert_exporter": "python",
   "pygments_lexer": "ipython3",
   "version": "3.11.0"
  },
  "orig_nbformat": 4
 },
 "nbformat": 4,
 "nbformat_minor": 2
}
