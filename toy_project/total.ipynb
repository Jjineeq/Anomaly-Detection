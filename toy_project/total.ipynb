{
 "cells": [
  {
   "attachments": {},
   "cell_type": "markdown",
   "metadata": {},
   "source": [
    "## 모든 모델 만든것 추가해서 Ensemble \n",
    "## 0과 1로 나온 결과만 넣고 평균 0.5 이상 -> 1\n",
    "## 0.5 미만 -> 0\n",
    "\n",
    "---\n",
    "\n",
    "### 현재 모델 GM, BGM, LOF, AutoEncoder, Hotelling T2"
   ]
  },
  {
   "cell_type": "code",
   "execution_count": 42,
   "metadata": {},
   "outputs": [],
   "source": [
    "import numpy as np\n",
    "import pandas as pd\n",
    "import matplotlib.pyplot as plt\n",
    "import seaborn as sns\n",
    "import warnings\n",
    "warnings.filterwarnings('ignore')\n",
    "from sklearn.preprocessing import StandardScaler"
   ]
  },
  {
   "cell_type": "code",
   "execution_count": 43,
   "metadata": {},
   "outputs": [],
   "source": [
    "test = pd.read_csv('C:/Users/user/github/Data/aifactory/test_data.csv')\n",
    "train = pd.read_csv('C:/Users/user/github/Data/aifactory/train_data.csv')\n"
   ]
  },
  {
   "cell_type": "code",
   "execution_count": 44,
   "metadata": {},
   "outputs": [],
   "source": [
    "result = pd.DataFrame(index = test.index ,columns=['gm','bgm','hotelling','LOF','autoencoder'], data=0)"
   ]
  },
  {
   "cell_type": "code",
   "execution_count": 45,
   "metadata": {},
   "outputs": [],
   "source": [
    "train = train.drop('out_pressure', axis=1)"
   ]
  },
  {
   "cell_type": "code",
   "execution_count": 46,
   "metadata": {},
   "outputs": [],
   "source": [
    "test = test.drop('out_pressure',axis=1)"
   ]
  },
  {
   "cell_type": "code",
   "execution_count": 47,
   "metadata": {},
   "outputs": [],
   "source": [
    "train_x_1 = train[(train['type']==0) | (train['type']==4)| (train['type']==5) | (train['type']==6) | (train['type']==7)]\n",
    "train_x_2 = train[train['type'] == 1]\n",
    "train_x_3 = train[train['type'] == 2]\n",
    "train_x_4 = train[train['type'] == 3]"
   ]
  },
  {
   "cell_type": "code",
   "execution_count": 48,
   "metadata": {},
   "outputs": [],
   "source": [
    "test_x_1 = test[(test['type']==0) | (test['type']==4)| (test['type']==5) | (test['type']==6) | (test['type']==7)]\n",
    "test_x_2 = test[test['type'] == 1]\n",
    "test_x_3 = test[test['type'] == 2]\n",
    "test_x_4 = test[test['type'] == 3]"
   ]
  },
  {
   "cell_type": "code",
   "execution_count": 49,
   "metadata": {},
   "outputs": [],
   "source": [
    "train_x_1 = train_x_1.drop('type', axis=1)\n",
    "train_x_2 = train_x_2.drop('type', axis=1)\n",
    "train_x_3 = train_x_3.drop('type', axis=1)\n",
    "train_x_4 = train_x_4.drop('type', axis=1)"
   ]
  },
  {
   "cell_type": "code",
   "execution_count": 50,
   "metadata": {},
   "outputs": [],
   "source": [
    "test_x_1 = test_x_1.drop('type', axis=1)\n",
    "test_x_2 = test_x_2.drop('type', axis=1)\n",
    "test_x_3 = test_x_3.drop('type', axis=1)\n",
    "test_x_4 = test_x_4.drop('type', axis=1)"
   ]
  },
  {
   "cell_type": "code",
   "execution_count": 51,
   "metadata": {},
   "outputs": [
    {
     "data": {
      "text/html": [
       "<style>#sk-container-id-2 {color: black;background-color: white;}#sk-container-id-2 pre{padding: 0;}#sk-container-id-2 div.sk-toggleable {background-color: white;}#sk-container-id-2 label.sk-toggleable__label {cursor: pointer;display: block;width: 100%;margin-bottom: 0;padding: 0.3em;box-sizing: border-box;text-align: center;}#sk-container-id-2 label.sk-toggleable__label-arrow:before {content: \"▸\";float: left;margin-right: 0.25em;color: #696969;}#sk-container-id-2 label.sk-toggleable__label-arrow:hover:before {color: black;}#sk-container-id-2 div.sk-estimator:hover label.sk-toggleable__label-arrow:before {color: black;}#sk-container-id-2 div.sk-toggleable__content {max-height: 0;max-width: 0;overflow: hidden;text-align: left;background-color: #f0f8ff;}#sk-container-id-2 div.sk-toggleable__content pre {margin: 0.2em;color: black;border-radius: 0.25em;background-color: #f0f8ff;}#sk-container-id-2 input.sk-toggleable__control:checked~div.sk-toggleable__content {max-height: 200px;max-width: 100%;overflow: auto;}#sk-container-id-2 input.sk-toggleable__control:checked~label.sk-toggleable__label-arrow:before {content: \"▾\";}#sk-container-id-2 div.sk-estimator input.sk-toggleable__control:checked~label.sk-toggleable__label {background-color: #d4ebff;}#sk-container-id-2 div.sk-label input.sk-toggleable__control:checked~label.sk-toggleable__label {background-color: #d4ebff;}#sk-container-id-2 input.sk-hidden--visually {border: 0;clip: rect(1px 1px 1px 1px);clip: rect(1px, 1px, 1px, 1px);height: 1px;margin: -1px;overflow: hidden;padding: 0;position: absolute;width: 1px;}#sk-container-id-2 div.sk-estimator {font-family: monospace;background-color: #f0f8ff;border: 1px dotted black;border-radius: 0.25em;box-sizing: border-box;margin-bottom: 0.5em;}#sk-container-id-2 div.sk-estimator:hover {background-color: #d4ebff;}#sk-container-id-2 div.sk-parallel-item::after {content: \"\";width: 100%;border-bottom: 1px solid gray;flex-grow: 1;}#sk-container-id-2 div.sk-label:hover label.sk-toggleable__label {background-color: #d4ebff;}#sk-container-id-2 div.sk-serial::before {content: \"\";position: absolute;border-left: 1px solid gray;box-sizing: border-box;top: 0;bottom: 0;left: 50%;z-index: 0;}#sk-container-id-2 div.sk-serial {display: flex;flex-direction: column;align-items: center;background-color: white;padding-right: 0.2em;padding-left: 0.2em;position: relative;}#sk-container-id-2 div.sk-item {position: relative;z-index: 1;}#sk-container-id-2 div.sk-parallel {display: flex;align-items: stretch;justify-content: center;background-color: white;position: relative;}#sk-container-id-2 div.sk-item::before, #sk-container-id-2 div.sk-parallel-item::before {content: \"\";position: absolute;border-left: 1px solid gray;box-sizing: border-box;top: 0;bottom: 0;left: 50%;z-index: -1;}#sk-container-id-2 div.sk-parallel-item {display: flex;flex-direction: column;z-index: 1;position: relative;background-color: white;}#sk-container-id-2 div.sk-parallel-item:first-child::after {align-self: flex-end;width: 50%;}#sk-container-id-2 div.sk-parallel-item:last-child::after {align-self: flex-start;width: 50%;}#sk-container-id-2 div.sk-parallel-item:only-child::after {width: 0;}#sk-container-id-2 div.sk-dashed-wrapped {border: 1px dashed gray;margin: 0 0.4em 0.5em 0.4em;box-sizing: border-box;padding-bottom: 0.4em;background-color: white;}#sk-container-id-2 div.sk-label label {font-family: monospace;font-weight: bold;display: inline-block;line-height: 1.2em;}#sk-container-id-2 div.sk-label-container {text-align: center;}#sk-container-id-2 div.sk-container {/* jupyter's `normalize.less` sets `[hidden] { display: none; }` but bootstrap.min.css set `[hidden] { display: none !important; }` so we also need the `!important` here to be able to override the default hidden behavior on the sphinx rendered scikit-learn.org. See: https://github.com/scikit-learn/scikit-learn/issues/21755 */display: inline-block !important;position: relative;}#sk-container-id-2 div.sk-text-repr-fallback {display: none;}</style><div id=\"sk-container-id-2\" class=\"sk-top-container\"><div class=\"sk-text-repr-fallback\"><pre>GaussianMixture(n_components=4, n_init=30, random_state=42)</pre><b>In a Jupyter environment, please rerun this cell to show the HTML representation or trust the notebook. <br />On GitHub, the HTML representation is unable to render, please try loading this page with nbviewer.org.</b></div><div class=\"sk-container\" hidden><div class=\"sk-item\"><div class=\"sk-estimator sk-toggleable\"><input class=\"sk-toggleable__control sk-hidden--visually\" id=\"sk-estimator-id-2\" type=\"checkbox\" checked><label for=\"sk-estimator-id-2\" class=\"sk-toggleable__label sk-toggleable__label-arrow\">GaussianMixture</label><div class=\"sk-toggleable__content\"><pre>GaussianMixture(n_components=4, n_init=30, random_state=42)</pre></div></div></div></div></div>"
      ],
      "text/plain": [
       "GaussianMixture(n_components=4, n_init=30, random_state=42)"
      ]
     },
     "execution_count": 51,
     "metadata": {},
     "output_type": "execute_result"
    }
   ],
   "source": [
    "from sklearn.mixture import GaussianMixture\n",
    "\n",
    "# GMM: n_components = 모델의 총 수\n",
    "gm_1 = GaussianMixture(n_components=4, covariance_type = 'full',n_init=30, random_state=42)\n",
    "gm_1.fit(train)"
   ]
  },
  {
   "cell_type": "code",
   "execution_count": 52,
   "metadata": {},
   "outputs": [
    {
     "data": {
      "text/plain": [
       "array([0.58, 0.29, 0.12, 0.01])"
      ]
     },
     "execution_count": 52,
     "metadata": {},
     "output_type": "execute_result"
    }
   ],
   "source": [
    "from sklearn.mixture import BayesianGaussianMixture\n",
    "\n",
    "bgm = BayesianGaussianMixture(n_components=4, n_init=15, random_state=42)\n",
    "bgm.fit(train)\n",
    "np.round(bgm.weights_, 2)"
   ]
  },
  {
   "cell_type": "code",
   "execution_count": 53,
   "metadata": {},
   "outputs": [
    {
     "name": "stdout",
     "output_type": "stream",
     "text": [
      "True\n",
      "True\n"
     ]
    }
   ],
   "source": [
    "print(gm_1.converged_)\n",
    "print(bgm.converged_)"
   ]
  },
  {
   "cell_type": "code",
   "execution_count": 54,
   "metadata": {},
   "outputs": [],
   "source": [
    "densities = gm_1.score_samples(test)\n",
    "density_threshold = np.percentile(densities, 2)"
   ]
  },
  {
   "cell_type": "code",
   "execution_count": 55,
   "metadata": {},
   "outputs": [],
   "source": [
    "bgm_densities = bgm.score_samples(test)\n",
    "bgm_density_threshold = np.percentile(bgm_densities, 2)"
   ]
  },
  {
   "cell_type": "code",
   "execution_count": 56,
   "metadata": {},
   "outputs": [
    {
     "name": "stdout",
     "output_type": "stream",
     "text": [
      "-146388.260813247\n",
      "-1592.7521038903644\n"
     ]
    }
   ],
   "source": [
    "print(density_threshold)\n",
    "print(bgm_density_threshold)"
   ]
  },
  {
   "cell_type": "code",
   "execution_count": 57,
   "metadata": {},
   "outputs": [
    {
     "data": {
      "text/plain": [
       "Text(0.5, 1.0, 'gmm result')"
      ]
     },
     "execution_count": 57,
     "metadata": {},
     "output_type": "execute_result"
    },
    {
     "data": {
      "image/png": "[encoded data removed]",
      "text/plain": [
       "<Figure size 2000x800 with 1 Axes>"
      ]
     },
     "metadata": {},
     "output_type": "display_data"
    }
   ],
   "source": [
    "plt.figure(figsize=(20,8))\n",
    "sns.distplot(densities, kde=True, color=\"b\")\n",
    "plt.axvline(density_threshold, color = 'red')\n",
    "plt.title('gmm result')"
   ]
  },
  {
   "cell_type": "code",
   "execution_count": 58,
   "metadata": {},
   "outputs": [
    {
     "data": {
      "text/plain": [
       "Text(0.5, 1.0, 'bgm result')"
      ]
     },
     "execution_count": 58,
     "metadata": {},
     "output_type": "execute_result"
    },
    {
     "data": {
      "image/png": "[encoded data removed]",
      "text/plain": [
       "<Figure size 2000x800 with 1 Axes>"
      ]
     },
     "metadata": {},
     "output_type": "display_data"
    }
   ],
   "source": [
    "plt.figure(figsize=(20,8))\n",
    "sns.distplot(bgm_densities, kde=True, color=\"b\")\n",
    "plt.axvline(bgm_density_threshold, color = 'red')\n",
    "plt.title('bgm result')"
   ]
  },
  {
   "cell_type": "code",
   "execution_count": 59,
   "metadata": {},
   "outputs": [
    {
     "data": {
      "image/png": "[encoded data removed]",
      "text/plain": [
       "<Figure size 640x480 with 1 Axes>"
      ]
     },
     "metadata": {},
     "output_type": "display_data"
    }
   ],
   "source": [
    "plt.plot(densities)\n",
    "plt.axhline(density_threshold, color = 'r')\n",
    "#plt.ylim(-90000,10)\n",
    "plt.show()"
   ]
  },
  {
   "cell_type": "code",
   "execution_count": 60,
   "metadata": {},
   "outputs": [
    {
     "data": {
      "image/png": "[encoded data removed]",
      "text/plain": [
       "<Figure size 640x480 with 1 Axes>"
      ]
     },
     "metadata": {},
     "output_type": "display_data"
    }
   ],
   "source": [
    "plt.plot(bgm_densities)\n",
    "plt.axhline(bgm_density_threshold, color = 'r')\n",
    "#plt.ylim(-2000,15)\n",
    "plt.show()"
   ]
  },
  {
   "cell_type": "code",
   "execution_count": 61,
   "metadata": {},
   "outputs": [],
   "source": [
    "anomalies = test[densities < density_threshold]"
   ]
  },
  {
   "cell_type": "code",
   "execution_count": 62,
   "metadata": {},
   "outputs": [],
   "source": [
    "bgm_anomalies = test[bgm_densities < bgm_density_threshold]"
   ]
  },
  {
   "cell_type": "code",
   "execution_count": 63,
   "metadata": {},
   "outputs": [
    {
     "data": {
      "text/html": [
       "<div>\n",
       "<style scoped>\n",
       "    .dataframe tbody tr th:only-of-type {\n",
       "        vertical-align: middle;\n",
       "    }\n",
       "\n",
       "    .dataframe tbody tr th {\n",
       "        vertical-align: top;\n",
       "    }\n",
       "\n",
       "    .dataframe thead th {\n",
       "        text-align: right;\n",
       "    }\n",
       "</style>\n",
       "<table border=\"1\" class=\"dataframe\">\n",
       "  <thead>\n",
       "    <tr style=\"text-align: right;\">\n",
       "      <th></th>\n",
       "      <th>air_inflow</th>\n",
       "      <th>air_end_temp</th>\n",
       "      <th>motor_current</th>\n",
       "      <th>motor_rpm</th>\n",
       "      <th>motor_temp</th>\n",
       "      <th>motor_vibe</th>\n",
       "      <th>type</th>\n",
       "    </tr>\n",
       "  </thead>\n",
       "  <tbody>\n",
       "    <tr>\n",
       "      <th>586</th>\n",
       "      <td>2.06</td>\n",
       "      <td>51.95</td>\n",
       "      <td>31.64</td>\n",
       "      <td>2476.0</td>\n",
       "      <td>59.34</td>\n",
       "      <td>3.58</td>\n",
       "      <td>0</td>\n",
       "    </tr>\n",
       "    <tr>\n",
       "      <th>588</th>\n",
       "      <td>2.86</td>\n",
       "      <td>63.93</td>\n",
       "      <td>43.88</td>\n",
       "      <td>3434.0</td>\n",
       "      <td>61.34</td>\n",
       "      <td>4.11</td>\n",
       "      <td>0</td>\n",
       "    </tr>\n",
       "    <tr>\n",
       "      <th>590</th>\n",
       "      <td>2.89</td>\n",
       "      <td>64.34</td>\n",
       "      <td>44.30</td>\n",
       "      <td>3467.0</td>\n",
       "      <td>63.34</td>\n",
       "      <td>4.13</td>\n",
       "      <td>0</td>\n",
       "    </tr>\n",
       "    <tr>\n",
       "      <th>591</th>\n",
       "      <td>1.21</td>\n",
       "      <td>39.08</td>\n",
       "      <td>18.48</td>\n",
       "      <td>1446.0</td>\n",
       "      <td>64.34</td>\n",
       "      <td>3.00</td>\n",
       "      <td>0</td>\n",
       "    </tr>\n",
       "    <tr>\n",
       "      <th>717</th>\n",
       "      <td>2.51</td>\n",
       "      <td>60.91</td>\n",
       "      <td>40.64</td>\n",
       "      <td>3113.0</td>\n",
       "      <td>74.59</td>\n",
       "      <td>4.03</td>\n",
       "      <td>0</td>\n",
       "    </tr>\n",
       "    <tr>\n",
       "      <th>...</th>\n",
       "      <td>...</td>\n",
       "      <td>...</td>\n",
       "      <td>...</td>\n",
       "      <td>...</td>\n",
       "      <td>...</td>\n",
       "      <td>...</td>\n",
       "      <td>...</td>\n",
       "    </tr>\n",
       "    <tr>\n",
       "      <th>6798</th>\n",
       "      <td>1.83</td>\n",
       "      <td>57.98</td>\n",
       "      <td>34.44</td>\n",
       "      <td>2638.0</td>\n",
       "      <td>69.31</td>\n",
       "      <td>3.87</td>\n",
       "      <td>6</td>\n",
       "    </tr>\n",
       "    <tr>\n",
       "      <th>6799</th>\n",
       "      <td>1.99</td>\n",
       "      <td>60.84</td>\n",
       "      <td>37.43</td>\n",
       "      <td>2867.0</td>\n",
       "      <td>71.86</td>\n",
       "      <td>3.99</td>\n",
       "      <td>6</td>\n",
       "    </tr>\n",
       "    <tr>\n",
       "      <th>6800</th>\n",
       "      <td>1.44</td>\n",
       "      <td>50.90</td>\n",
       "      <td>27.05</td>\n",
       "      <td>2072.0</td>\n",
       "      <td>63.02</td>\n",
       "      <td>3.55</td>\n",
       "      <td>6</td>\n",
       "    </tr>\n",
       "    <tr>\n",
       "      <th>7348</th>\n",
       "      <td>2.76</td>\n",
       "      <td>62.36</td>\n",
       "      <td>42.28</td>\n",
       "      <td>3309.0</td>\n",
       "      <td>76.77</td>\n",
       "      <td>4.04</td>\n",
       "      <td>7</td>\n",
       "    </tr>\n",
       "    <tr>\n",
       "      <th>7360</th>\n",
       "      <td>1.74</td>\n",
       "      <td>47.05</td>\n",
       "      <td>26.63</td>\n",
       "      <td>2084.0</td>\n",
       "      <td>63.16</td>\n",
       "      <td>3.36</td>\n",
       "      <td>7</td>\n",
       "    </tr>\n",
       "  </tbody>\n",
       "</table>\n",
       "<p>148 rows × 7 columns</p>\n",
       "</div>"
      ],
      "text/plain": [
       "      air_inflow  air_end_temp  motor_current  motor_rpm  motor_temp  \\\n",
       "586         2.06         51.95          31.64     2476.0       59.34   \n",
       "588         2.86         63.93          43.88     3434.0       61.34   \n",
       "590         2.89         64.34          44.30     3467.0       63.34   \n",
       "591         1.21         39.08          18.48     1446.0       64.34   \n",
       "717         2.51         60.91          40.64     3113.0       74.59   \n",
       "...          ...           ...            ...        ...         ...   \n",
       "6798        1.83         57.98          34.44     2638.0       69.31   \n",
       "6799        1.99         60.84          37.43     2867.0       71.86   \n",
       "6800        1.44         50.90          27.05     2072.0       63.02   \n",
       "7348        2.76         62.36          42.28     3309.0       76.77   \n",
       "7360        1.74         47.05          26.63     2084.0       63.16   \n",
       "\n",
       "      motor_vibe  type  \n",
       "586         3.58     0  \n",
       "588         4.11     0  \n",
       "590         4.13     0  \n",
       "591         3.00     0  \n",
       "717         4.03     0  \n",
       "...          ...   ...  \n",
       "6798        3.87     6  \n",
       "6799        3.99     6  \n",
       "6800        3.55     6  \n",
       "7348        4.04     7  \n",
       "7360        3.36     7  \n",
       "\n",
       "[148 rows x 7 columns]"
      ]
     },
     "execution_count": 63,
     "metadata": {},
     "output_type": "execute_result"
    }
   ],
   "source": [
    "anomalies"
   ]
  },
  {
   "cell_type": "code",
   "execution_count": 64,
   "metadata": {},
   "outputs": [
    {
     "data": {
      "text/html": [
       "<div>\n",
       "<style scoped>\n",
       "    .dataframe tbody tr th:only-of-type {\n",
       "        vertical-align: middle;\n",
       "    }\n",
       "\n",
       "    .dataframe tbody tr th {\n",
       "        vertical-align: top;\n",
       "    }\n",
       "\n",
       "    .dataframe thead th {\n",
       "        text-align: right;\n",
       "    }\n",
       "</style>\n",
       "<table border=\"1\" class=\"dataframe\">\n",
       "  <thead>\n",
       "    <tr style=\"text-align: right;\">\n",
       "      <th></th>\n",
       "      <th>air_inflow</th>\n",
       "      <th>air_end_temp</th>\n",
       "      <th>motor_current</th>\n",
       "      <th>motor_rpm</th>\n",
       "      <th>motor_temp</th>\n",
       "      <th>motor_vibe</th>\n",
       "      <th>type</th>\n",
       "    </tr>\n",
       "  </thead>\n",
       "  <tbody>\n",
       "    <tr>\n",
       "      <th>586</th>\n",
       "      <td>2.06</td>\n",
       "      <td>51.95</td>\n",
       "      <td>31.64</td>\n",
       "      <td>2476.0</td>\n",
       "      <td>59.34</td>\n",
       "      <td>3.58</td>\n",
       "      <td>0</td>\n",
       "    </tr>\n",
       "    <tr>\n",
       "      <th>587</th>\n",
       "      <td>1.35</td>\n",
       "      <td>41.20</td>\n",
       "      <td>20.65</td>\n",
       "      <td>1616.0</td>\n",
       "      <td>60.34</td>\n",
       "      <td>3.10</td>\n",
       "      <td>0</td>\n",
       "    </tr>\n",
       "    <tr>\n",
       "      <th>588</th>\n",
       "      <td>2.86</td>\n",
       "      <td>63.93</td>\n",
       "      <td>43.88</td>\n",
       "      <td>3434.0</td>\n",
       "      <td>61.34</td>\n",
       "      <td>4.11</td>\n",
       "      <td>0</td>\n",
       "    </tr>\n",
       "    <tr>\n",
       "      <th>590</th>\n",
       "      <td>2.89</td>\n",
       "      <td>64.34</td>\n",
       "      <td>44.30</td>\n",
       "      <td>3467.0</td>\n",
       "      <td>63.34</td>\n",
       "      <td>4.13</td>\n",
       "      <td>0</td>\n",
       "    </tr>\n",
       "    <tr>\n",
       "      <th>591</th>\n",
       "      <td>1.21</td>\n",
       "      <td>39.08</td>\n",
       "      <td>18.48</td>\n",
       "      <td>1446.0</td>\n",
       "      <td>64.34</td>\n",
       "      <td>3.00</td>\n",
       "      <td>0</td>\n",
       "    </tr>\n",
       "    <tr>\n",
       "      <th>...</th>\n",
       "      <td>...</td>\n",
       "      <td>...</td>\n",
       "      <td>...</td>\n",
       "      <td>...</td>\n",
       "      <td>...</td>\n",
       "      <td>...</td>\n",
       "      <td>...</td>\n",
       "    </tr>\n",
       "    <tr>\n",
       "      <th>6797</th>\n",
       "      <td>1.57</td>\n",
       "      <td>53.23</td>\n",
       "      <td>29.48</td>\n",
       "      <td>2258.0</td>\n",
       "      <td>65.09</td>\n",
       "      <td>3.65</td>\n",
       "      <td>6</td>\n",
       "    </tr>\n",
       "    <tr>\n",
       "      <th>6798</th>\n",
       "      <td>1.83</td>\n",
       "      <td>57.98</td>\n",
       "      <td>34.44</td>\n",
       "      <td>2638.0</td>\n",
       "      <td>69.31</td>\n",
       "      <td>3.87</td>\n",
       "      <td>6</td>\n",
       "    </tr>\n",
       "    <tr>\n",
       "      <th>6799</th>\n",
       "      <td>1.99</td>\n",
       "      <td>60.84</td>\n",
       "      <td>37.43</td>\n",
       "      <td>2867.0</td>\n",
       "      <td>71.86</td>\n",
       "      <td>3.99</td>\n",
       "      <td>6</td>\n",
       "    </tr>\n",
       "    <tr>\n",
       "      <th>6800</th>\n",
       "      <td>1.44</td>\n",
       "      <td>50.90</td>\n",
       "      <td>27.05</td>\n",
       "      <td>2072.0</td>\n",
       "      <td>63.02</td>\n",
       "      <td>3.55</td>\n",
       "      <td>6</td>\n",
       "    </tr>\n",
       "    <tr>\n",
       "      <th>7348</th>\n",
       "      <td>2.76</td>\n",
       "      <td>62.36</td>\n",
       "      <td>42.28</td>\n",
       "      <td>3309.0</td>\n",
       "      <td>76.77</td>\n",
       "      <td>4.04</td>\n",
       "      <td>7</td>\n",
       "    </tr>\n",
       "  </tbody>\n",
       "</table>\n",
       "<p>148 rows × 7 columns</p>\n",
       "</div>"
      ],
      "text/plain": [
       "      air_inflow  air_end_temp  motor_current  motor_rpm  motor_temp  \\\n",
       "586         2.06         51.95          31.64     2476.0       59.34   \n",
       "587         1.35         41.20          20.65     1616.0       60.34   \n",
       "588         2.86         63.93          43.88     3434.0       61.34   \n",
       "590         2.89         64.34          44.30     3467.0       63.34   \n",
       "591         1.21         39.08          18.48     1446.0       64.34   \n",
       "...          ...           ...            ...        ...         ...   \n",
       "6797        1.57         53.23          29.48     2258.0       65.09   \n",
       "6798        1.83         57.98          34.44     2638.0       69.31   \n",
       "6799        1.99         60.84          37.43     2867.0       71.86   \n",
       "6800        1.44         50.90          27.05     2072.0       63.02   \n",
       "7348        2.76         62.36          42.28     3309.0       76.77   \n",
       "\n",
       "      motor_vibe  type  \n",
       "586         3.58     0  \n",
       "587         3.10     0  \n",
       "588         4.11     0  \n",
       "590         4.13     0  \n",
       "591         3.00     0  \n",
       "...          ...   ...  \n",
       "6797        3.65     6  \n",
       "6798        3.87     6  \n",
       "6799        3.99     6  \n",
       "6800        3.55     6  \n",
       "7348        4.04     7  \n",
       "\n",
       "[148 rows x 7 columns]"
      ]
     },
     "execution_count": 64,
     "metadata": {},
     "output_type": "execute_result"
    }
   ],
   "source": [
    "bgm_anomalies"
   ]
  },
  {
   "cell_type": "code",
   "execution_count": 65,
   "metadata": {},
   "outputs": [],
   "source": [
    "result.loc[anomalies.index.tolist(), 'gm'] = 1\n",
    "result.loc[bgm_anomalies.index.tolist(), 'bgm'] = 1"
   ]
  },
  {
   "attachments": {},
   "cell_type": "markdown",
   "metadata": {},
   "source": [
    "---\n",
    "\n",
    "## Hotellings T2"
   ]
  },
  {
   "cell_type": "code",
   "execution_count": 66,
   "metadata": {},
   "outputs": [],
   "source": [
    "import numpy as np\n",
    "\n",
    "def hotellings_tsquare(trdat, tedat):\n",
    "    '''\n",
    "    Hotellings T-square : 공분산을 반영한 유클리디안 거리 (마할라노비스 거리)\n",
    "    \n",
    "    @param trdat : train data\n",
    "    @param tedat : test data\n",
    "    '''\n",
    "    obs = trdat.shape[0]\n",
    "    dim = trdat.shape[1]\n",
    "    \n",
    "    mu = trdat.apply(np.mean, axis=0) # 열단위 평균계산\n",
    "    sinv = np.linalg.pinv(trdat.cov()) # 공분산 역행렬\n",
    "\n",
    "    dte = (tedat-mu).values \n",
    "    \n",
    "    Tsq_mat = np.zeros(tedat.shape[0])\n",
    "    for i in range(tedat.shape[0]):\n",
    "        Tsq_mat[i] = dte[i,:] @ sinv @ dte[i,:].transpose() # t-square distance\n",
    "        \n",
    "    return Tsq_mat\n",
    "\n",
    "def bootstrap_limit(stat, alpha=0.05, bootstrap=100):\n",
    "    '''\n",
    "    Bootstrap sampling을 활용한 Control Limit 산출 기법\n",
    "    \n",
    "    @param stat : 통계량\n",
    "    @param alpha : Control Limit을 정하기 위한 유의수준\n",
    "    @param : bootstrap : 샘플링 횟수\n",
    "    '''\n",
    "    alpha = (alpha/2)*100\n",
    "    alpha = 100 - alpha\n",
    "    samsize = max(10000, len(stat))\n",
    "    limit = np.mean(list(map(lambda x:np.percentile(np.random.choice(stat,samsize,replace=True),alpha), range(0,bootstrap))))\n",
    "    # stat에서 samsize만큼 선택 후 75%분위수(alpha에따라 변경) 뽑기 이후 bootstrap만큼 반복 후 리스트로 만들고 평균 계산\n",
    "    return limit"
   ]
  },
  {
   "cell_type": "code",
   "execution_count": 67,
   "metadata": {},
   "outputs": [],
   "source": [
    "hotellings_1 = hotellings_tsquare(pd.DataFrame(test_x_1), pd.DataFrame(train_x_1))\n",
    "hotellings_2 = hotellings_tsquare(pd.DataFrame(train_x_2), pd.DataFrame(train_x_2))\n",
    "hotellings_3 = hotellings_tsquare(pd.DataFrame(train_x_3), pd.DataFrame(train_x_3))\n",
    "hotellings_4 = hotellings_tsquare(pd.DataFrame(train_x_4), pd.DataFrame(train_x_4))\n"
   ]
  },
  {
   "cell_type": "code",
   "execution_count": 68,
   "metadata": {},
   "outputs": [],
   "source": [
    "hotellings_1_all = hotellings_tsquare(pd.DataFrame(train_x_1), pd.DataFrame(test_x_1))\n",
    "hotellings_2_all = hotellings_tsquare(pd.DataFrame(train_x_2), pd.DataFrame(test_x_2))\n",
    "hotellings_3_all = hotellings_tsquare(pd.DataFrame(train_x_3), pd.DataFrame(test_x_3))\n",
    "hotellings_4_all = hotellings_tsquare(pd.DataFrame(train_x_4), pd.DataFrame(test_x_4))\n"
   ]
  },
  {
   "cell_type": "code",
   "execution_count": 69,
   "metadata": {},
   "outputs": [
    {
     "data": {
      "image/png": "[encoded data removed]",
      "text/plain": [
       "<Figure size 640x480 with 1 Axes>"
      ]
     },
     "metadata": {},
     "output_type": "display_data"
    }
   ],
   "source": [
    "plt.plot(hotellings_1_all)\n",
    "plt.axhline(y = bootstrap_limit(hotellings_1), color = 'r')\n",
    "plt.show()"
   ]
  },
  {
   "cell_type": "code",
   "execution_count": 70,
   "metadata": {},
   "outputs": [
    {
     "data": {
      "image/png": "[encoded data removed]",
      "text/plain": [
       "<Figure size 640x480 with 1 Axes>"
      ]
     },
     "metadata": {},
     "output_type": "display_data"
    }
   ],
   "source": [
    "plt.plot(hotellings_2_all)\n",
    "plt.axhline(y = bootstrap_limit(hotellings_2), color = 'r')\n",
    "plt.ylim(0,70)\n",
    "plt.show()"
   ]
  },
  {
   "cell_type": "code",
   "execution_count": 71,
   "metadata": {},
   "outputs": [
    {
     "data": {
      "image/png": "[encoded data removed]",
      "text/plain": [
       "<Figure size 640x480 with 1 Axes>"
      ]
     },
     "metadata": {},
     "output_type": "display_data"
    }
   ],
   "source": [
    "plt.plot(hotellings_3_all)\n",
    "plt.axhline(y = bootstrap_limit(hotellings_3), color = 'r')\n",
    "plt.show()"
   ]
  },
  {
   "cell_type": "code",
   "execution_count": 72,
   "metadata": {},
   "outputs": [
    {
     "data": {
      "image/png": "[encoded data removed]",
      "text/plain": [
       "<Figure size 640x480 with 1 Axes>"
      ]
     },
     "metadata": {},
     "output_type": "display_data"
    }
   ],
   "source": [
    "plt.plot(hotellings_4_all)\n",
    "plt.axhline(y = bootstrap_limit(hotellings_4), color = 'r')\n",
    "plt.show()"
   ]
  },
  {
   "cell_type": "code",
   "execution_count": 73,
   "metadata": {},
   "outputs": [],
   "source": [
    "hotellings_1_anomalies = test_x_1[hotellings_1_all > bootstrap_limit(hotellings_1)]\n",
    "hotellings_2_anomalies = test_x_2[hotellings_2_all > bootstrap_limit(hotellings_2)]\n",
    "hotellings_3_anomalies = test_x_3[hotellings_3_all > bootstrap_limit(hotellings_3)]\n",
    "hotellings_4_anomalies = test_x_4[hotellings_4_all > bootstrap_limit(hotellings_4)]"
   ]
  },
  {
   "cell_type": "code",
   "execution_count": 74,
   "metadata": {},
   "outputs": [],
   "source": [
    "result.loc[hotellings_1_anomalies.index.tolist(), 'hotelling'] = 1\n",
    "result.loc[hotellings_2_anomalies.index.tolist(), 'hotelling'] = 1\n",
    "result.loc[hotellings_3_anomalies.index.tolist(), 'hotelling'] = 1\n",
    "result.loc[hotellings_4_anomalies.index.tolist(), 'hotelling'] = 1"
   ]
  },
  {
   "attachments": {},
   "cell_type": "markdown",
   "metadata": {},
   "source": [
    "---\n",
    "\n",
    "## LOF"
   ]
  },
  {
   "cell_type": "code",
   "execution_count": 75,
   "metadata": {},
   "outputs": [],
   "source": [
    "from sklearn.neighbors import LocalOutlierFactor\n",
    "from sklearn.model_selection import GridSearchCV"
   ]
  },
  {
   "cell_type": "code",
   "execution_count": 76,
   "metadata": {},
   "outputs": [],
   "source": [
    "clf = LocalOutlierFactor(n_neighbors=10, contamination=0.5)"
   ]
  },
  {
   "cell_type": "code",
   "execution_count": 77,
   "metadata": {},
   "outputs": [],
   "source": [
    "param_grid = {'n_neighbors' : [5,6,7,8,9,10,11,12,13,14,15,16,17,18,19,20,21,22,23,24,25,26,27,28], 'contamination' : [0.1,0.2,0.3,0.4,0.5,0.6,0.7,0.8,0.9],}"
   ]
  },
  {
   "cell_type": "code",
   "execution_count": 78,
   "metadata": {},
   "outputs": [],
   "source": [
    "clf = LocalOutlierFactor()"
   ]
  },
  {
   "cell_type": "code",
   "execution_count": 79,
   "metadata": {},
   "outputs": [],
   "source": [
    "grid_search = GridSearchCV(estimator=clf, \n",
    "                           param_grid=param_grid,\n",
    "                           scoring='accuracy', \n",
    "                           n_jobs=-1, \n",
    "                           verbose=2\n",
    "                          )"
   ]
  },
  {
   "cell_type": "code",
   "execution_count": 80,
   "metadata": {},
   "outputs": [
    {
     "name": "stdout",
     "output_type": "stream",
     "text": [
      "Fitting 5 folds for each of 216 candidates, totalling 1080 fits\n"
     ]
    },
    {
     "data": {
      "text/html": [
       "<style>#sk-container-id-3 {color: black;background-color: white;}#sk-container-id-3 pre{padding: 0;}#sk-container-id-3 div.sk-toggleable {background-color: white;}#sk-container-id-3 label.sk-toggleable__label {cursor: pointer;display: block;width: 100%;margin-bottom: 0;padding: 0.3em;box-sizing: border-box;text-align: center;}#sk-container-id-3 label.sk-toggleable__label-arrow:before {content: \"▸\";float: left;margin-right: 0.25em;color: #696969;}#sk-container-id-3 label.sk-toggleable__label-arrow:hover:before {color: black;}#sk-container-id-3 div.sk-estimator:hover label.sk-toggleable__label-arrow:before {color: black;}#sk-container-id-3 div.sk-toggleable__content {max-height: 0;max-width: 0;overflow: hidden;text-align: left;background-color: #f0f8ff;}#sk-container-id-3 div.sk-toggleable__content pre {margin: 0.2em;color: black;border-radius: 0.25em;background-color: #f0f8ff;}#sk-container-id-3 input.sk-toggleable__control:checked~div.sk-toggleable__content {max-height: 200px;max-width: 100%;overflow: auto;}#sk-container-id-3 input.sk-toggleable__control:checked~label.sk-toggleable__label-arrow:before {content: \"▾\";}#sk-container-id-3 div.sk-estimator input.sk-toggleable__control:checked~label.sk-toggleable__label {background-color: #d4ebff;}#sk-container-id-3 div.sk-label input.sk-toggleable__control:checked~label.sk-toggleable__label {background-color: #d4ebff;}#sk-container-id-3 input.sk-hidden--visually {border: 0;clip: rect(1px 1px 1px 1px);clip: rect(1px, 1px, 1px, 1px);height: 1px;margin: -1px;overflow: hidden;padding: 0;position: absolute;width: 1px;}#sk-container-id-3 div.sk-estimator {font-family: monospace;background-color: #f0f8ff;border: 1px dotted black;border-radius: 0.25em;box-sizing: border-box;margin-bottom: 0.5em;}#sk-container-id-3 div.sk-estimator:hover {background-color: #d4ebff;}#sk-container-id-3 div.sk-parallel-item::after {content: \"\";width: 100%;border-bottom: 1px solid gray;flex-grow: 1;}#sk-container-id-3 div.sk-label:hover label.sk-toggleable__label {background-color: #d4ebff;}#sk-container-id-3 div.sk-serial::before {content: \"\";position: absolute;border-left: 1px solid gray;box-sizing: border-box;top: 0;bottom: 0;left: 50%;z-index: 0;}#sk-container-id-3 div.sk-serial {display: flex;flex-direction: column;align-items: center;background-color: white;padding-right: 0.2em;padding-left: 0.2em;position: relative;}#sk-container-id-3 div.sk-item {position: relative;z-index: 1;}#sk-container-id-3 div.sk-parallel {display: flex;align-items: stretch;justify-content: center;background-color: white;position: relative;}#sk-container-id-3 div.sk-item::before, #sk-container-id-3 div.sk-parallel-item::before {content: \"\";position: absolute;border-left: 1px solid gray;box-sizing: border-box;top: 0;bottom: 0;left: 50%;z-index: -1;}#sk-container-id-3 div.sk-parallel-item {display: flex;flex-direction: column;z-index: 1;position: relative;background-color: white;}#sk-container-id-3 div.sk-parallel-item:first-child::after {align-self: flex-end;width: 50%;}#sk-container-id-3 div.sk-parallel-item:last-child::after {align-self: flex-start;width: 50%;}#sk-container-id-3 div.sk-parallel-item:only-child::after {width: 0;}#sk-container-id-3 div.sk-dashed-wrapped {border: 1px dashed gray;margin: 0 0.4em 0.5em 0.4em;box-sizing: border-box;padding-bottom: 0.4em;background-color: white;}#sk-container-id-3 div.sk-label label {font-family: monospace;font-weight: bold;display: inline-block;line-height: 1.2em;}#sk-container-id-3 div.sk-label-container {text-align: center;}#sk-container-id-3 div.sk-container {/* jupyter's `normalize.less` sets `[hidden] { display: none; }` but bootstrap.min.css set `[hidden] { display: none !important; }` so we also need the `!important` here to be able to override the default hidden behavior on the sphinx rendered scikit-learn.org. See: https://github.com/scikit-learn/scikit-learn/issues/21755 */display: inline-block !important;position: relative;}#sk-container-id-3 div.sk-text-repr-fallback {display: none;}</style><div id=\"sk-container-id-3\" class=\"sk-top-container\"><div class=\"sk-text-repr-fallback\"><pre>GridSearchCV(estimator=LocalOutlierFactor(), n_jobs=-1,\n",
       "             param_grid={&#x27;contamination&#x27;: [0.1, 0.2, 0.3, 0.4, 0.5, 0.6, 0.7,\n",
       "                                           0.8, 0.9],\n",
       "                         &#x27;n_neighbors&#x27;: [5, 6, 7, 8, 9, 10, 11, 12, 13, 14, 15,\n",
       "                                         16, 17, 18, 19, 20, 21, 22, 23, 24, 25,\n",
       "                                         26, 27, 28]},\n",
       "             scoring=&#x27;accuracy&#x27;, verbose=2)</pre><b>In a Jupyter environment, please rerun this cell to show the HTML representation or trust the notebook. <br />On GitHub, the HTML representation is unable to render, please try loading this page with nbviewer.org.</b></div><div class=\"sk-container\" hidden><div class=\"sk-item sk-dashed-wrapped\"><div class=\"sk-label-container\"><div class=\"sk-label sk-toggleable\"><input class=\"sk-toggleable__control sk-hidden--visually\" id=\"sk-estimator-id-3\" type=\"checkbox\" ><label for=\"sk-estimator-id-3\" class=\"sk-toggleable__label sk-toggleable__label-arrow\">GridSearchCV</label><div class=\"sk-toggleable__content\"><pre>GridSearchCV(estimator=LocalOutlierFactor(), n_jobs=-1,\n",
       "             param_grid={&#x27;contamination&#x27;: [0.1, 0.2, 0.3, 0.4, 0.5, 0.6, 0.7,\n",
       "                                           0.8, 0.9],\n",
       "                         &#x27;n_neighbors&#x27;: [5, 6, 7, 8, 9, 10, 11, 12, 13, 14, 15,\n",
       "                                         16, 17, 18, 19, 20, 21, 22, 23, 24, 25,\n",
       "                                         26, 27, 28]},\n",
       "             scoring=&#x27;accuracy&#x27;, verbose=2)</pre></div></div></div><div class=\"sk-parallel\"><div class=\"sk-parallel-item\"><div class=\"sk-item\"><div class=\"sk-label-container\"><div class=\"sk-label sk-toggleable\"><input class=\"sk-toggleable__control sk-hidden--visually\" id=\"sk-estimator-id-4\" type=\"checkbox\" ><label for=\"sk-estimator-id-4\" class=\"sk-toggleable__label sk-toggleable__label-arrow\">estimator: LocalOutlierFactor</label><div class=\"sk-toggleable__content\"><pre>LocalOutlierFactor()</pre></div></div></div><div class=\"sk-serial\"><div class=\"sk-item\"><div class=\"sk-estimator sk-toggleable\"><input class=\"sk-toggleable__control sk-hidden--visually\" id=\"sk-estimator-id-5\" type=\"checkbox\" ><label for=\"sk-estimator-id-5\" class=\"sk-toggleable__label sk-toggleable__label-arrow\">LocalOutlierFactor</label><div class=\"sk-toggleable__content\"><pre>LocalOutlierFactor()</pre></div></div></div></div></div></div></div></div></div></div>"
      ],
      "text/plain": [
       "GridSearchCV(estimator=LocalOutlierFactor(), n_jobs=-1,\n",
       "             param_grid={'contamination': [0.1, 0.2, 0.3, 0.4, 0.5, 0.6, 0.7,\n",
       "                                           0.8, 0.9],\n",
       "                         'n_neighbors': [5, 6, 7, 8, 9, 10, 11, 12, 13, 14, 15,\n",
       "                                         16, 17, 18, 19, 20, 21, 22, 23, 24, 25,\n",
       "                                         26, 27, 28]},\n",
       "             scoring='accuracy', verbose=2)"
      ]
     },
     "execution_count": 80,
     "metadata": {},
     "output_type": "execute_result"
    }
   ],
   "source": [
    "grid_search.fit(train)"
   ]
  },
  {
   "cell_type": "code",
   "execution_count": 81,
   "metadata": {},
   "outputs": [
    {
     "data": {
      "text/plain": [
       "{'contamination': 0.1, 'n_neighbors': 5}"
      ]
     },
     "execution_count": 81,
     "metadata": {},
     "output_type": "execute_result"
    }
   ],
   "source": [
    "grid_search.best_params_"
   ]
  },
  {
   "cell_type": "code",
   "execution_count": 82,
   "metadata": {},
   "outputs": [],
   "source": [
    "clf2 = LocalOutlierFactor(n_neighbors=5, contamination=0.1)"
   ]
  },
  {
   "cell_type": "code",
   "execution_count": 83,
   "metadata": {},
   "outputs": [
    {
     "data": {
      "text/html": [
       "<style>#sk-container-id-4 {color: black;background-color: white;}#sk-container-id-4 pre{padding: 0;}#sk-container-id-4 div.sk-toggleable {background-color: white;}#sk-container-id-4 label.sk-toggleable__label {cursor: pointer;display: block;width: 100%;margin-bottom: 0;padding: 0.3em;box-sizing: border-box;text-align: center;}#sk-container-id-4 label.sk-toggleable__label-arrow:before {content: \"▸\";float: left;margin-right: 0.25em;color: #696969;}#sk-container-id-4 label.sk-toggleable__label-arrow:hover:before {color: black;}#sk-container-id-4 div.sk-estimator:hover label.sk-toggleable__label-arrow:before {color: black;}#sk-container-id-4 div.sk-toggleable__content {max-height: 0;max-width: 0;overflow: hidden;text-align: left;background-color: #f0f8ff;}#sk-container-id-4 div.sk-toggleable__content pre {margin: 0.2em;color: black;border-radius: 0.25em;background-color: #f0f8ff;}#sk-container-id-4 input.sk-toggleable__control:checked~div.sk-toggleable__content {max-height: 200px;max-width: 100%;overflow: auto;}#sk-container-id-4 input.sk-toggleable__control:checked~label.sk-toggleable__label-arrow:before {content: \"▾\";}#sk-container-id-4 div.sk-estimator input.sk-toggleable__control:checked~label.sk-toggleable__label {background-color: #d4ebff;}#sk-container-id-4 div.sk-label input.sk-toggleable__control:checked~label.sk-toggleable__label {background-color: #d4ebff;}#sk-container-id-4 input.sk-hidden--visually {border: 0;clip: rect(1px 1px 1px 1px);clip: rect(1px, 1px, 1px, 1px);height: 1px;margin: -1px;overflow: hidden;padding: 0;position: absolute;width: 1px;}#sk-container-id-4 div.sk-estimator {font-family: monospace;background-color: #f0f8ff;border: 1px dotted black;border-radius: 0.25em;box-sizing: border-box;margin-bottom: 0.5em;}#sk-container-id-4 div.sk-estimator:hover {background-color: #d4ebff;}#sk-container-id-4 div.sk-parallel-item::after {content: \"\";width: 100%;border-bottom: 1px solid gray;flex-grow: 1;}#sk-container-id-4 div.sk-label:hover label.sk-toggleable__label {background-color: #d4ebff;}#sk-container-id-4 div.sk-serial::before {content: \"\";position: absolute;border-left: 1px solid gray;box-sizing: border-box;top: 0;bottom: 0;left: 50%;z-index: 0;}#sk-container-id-4 div.sk-serial {display: flex;flex-direction: column;align-items: center;background-color: white;padding-right: 0.2em;padding-left: 0.2em;position: relative;}#sk-container-id-4 div.sk-item {position: relative;z-index: 1;}#sk-container-id-4 div.sk-parallel {display: flex;align-items: stretch;justify-content: center;background-color: white;position: relative;}#sk-container-id-4 div.sk-item::before, #sk-container-id-4 div.sk-parallel-item::before {content: \"\";position: absolute;border-left: 1px solid gray;box-sizing: border-box;top: 0;bottom: 0;left: 50%;z-index: -1;}#sk-container-id-4 div.sk-parallel-item {display: flex;flex-direction: column;z-index: 1;position: relative;background-color: white;}#sk-container-id-4 div.sk-parallel-item:first-child::after {align-self: flex-end;width: 50%;}#sk-container-id-4 div.sk-parallel-item:last-child::after {align-self: flex-start;width: 50%;}#sk-container-id-4 div.sk-parallel-item:only-child::after {width: 0;}#sk-container-id-4 div.sk-dashed-wrapped {border: 1px dashed gray;margin: 0 0.4em 0.5em 0.4em;box-sizing: border-box;padding-bottom: 0.4em;background-color: white;}#sk-container-id-4 div.sk-label label {font-family: monospace;font-weight: bold;display: inline-block;line-height: 1.2em;}#sk-container-id-4 div.sk-label-container {text-align: center;}#sk-container-id-4 div.sk-container {/* jupyter's `normalize.less` sets `[hidden] { display: none; }` but bootstrap.min.css set `[hidden] { display: none !important; }` so we also need the `!important` here to be able to override the default hidden behavior on the sphinx rendered scikit-learn.org. See: https://github.com/scikit-learn/scikit-learn/issues/21755 */display: inline-block !important;position: relative;}#sk-container-id-4 div.sk-text-repr-fallback {display: none;}</style><div id=\"sk-container-id-4\" class=\"sk-top-container\"><div class=\"sk-text-repr-fallback\"><pre>LocalOutlierFactor(contamination=0.1, n_neighbors=5)</pre><b>In a Jupyter environment, please rerun this cell to show the HTML representation or trust the notebook. <br />On GitHub, the HTML representation is unable to render, please try loading this page with nbviewer.org.</b></div><div class=\"sk-container\" hidden><div class=\"sk-item\"><div class=\"sk-estimator sk-toggleable\"><input class=\"sk-toggleable__control sk-hidden--visually\" id=\"sk-estimator-id-6\" type=\"checkbox\" checked><label for=\"sk-estimator-id-6\" class=\"sk-toggleable__label sk-toggleable__label-arrow\">LocalOutlierFactor</label><div class=\"sk-toggleable__content\"><pre>LocalOutlierFactor(contamination=0.1, n_neighbors=5)</pre></div></div></div></div></div>"
      ],
      "text/plain": [
       "LocalOutlierFactor(contamination=0.1, n_neighbors=5)"
      ]
     },
     "execution_count": 83,
     "metadata": {},
     "output_type": "execute_result"
    }
   ],
   "source": [
    "clf2.fit(train)"
   ]
  },
  {
   "cell_type": "code",
   "execution_count": 84,
   "metadata": {},
   "outputs": [
    {
     "data": {
      "text/plain": [
       "array([-1,  1,  1, ...,  1,  1,  1])"
      ]
     },
     "execution_count": 84,
     "metadata": {},
     "output_type": "execute_result"
    }
   ],
   "source": [
    "clf2.fit_predict(test)"
   ]
  },
  {
   "cell_type": "code",
   "execution_count": 85,
   "metadata": {},
   "outputs": [],
   "source": [
    "lof_score = clf2.negative_outlier_factor_"
   ]
  },
  {
   "cell_type": "code",
   "execution_count": 86,
   "metadata": {},
   "outputs": [],
   "source": [
    "lof_threshold = np.percentile(lof_score, 5)"
   ]
  },
  {
   "cell_type": "code",
   "execution_count": 88,
   "metadata": {},
   "outputs": [
    {
     "data": {
      "text/plain": [
       "(-6.0, 0.5)"
      ]
     },
     "execution_count": 88,
     "metadata": {},
     "output_type": "execute_result"
    },
    {
     "data": {
      "image/png": "[encoded data removed]",
      "text/plain": [
       "<Figure size 640x480 with 1 Axes>"
      ]
     },
     "metadata": {},
     "output_type": "display_data"
    }
   ],
   "source": [
    "plt.plot(lof_score)\n",
    "plt.ylim(-6,0.5)"
   ]
  },
  {
   "cell_type": "code",
   "execution_count": 90,
   "metadata": {},
   "outputs": [
    {
     "data": {
      "image/png": "[encoded data removed]",
      "text/plain": [
       "<Figure size 640x480 with 1 Axes>"
      ]
     },
     "metadata": {},
     "output_type": "display_data"
    }
   ],
   "source": [
    "sns.distplot(lof_score)\n",
    "plt.axvline(lof_threshold, color = 'r')\n",
    "plt.show()"
   ]
  },
  {
   "cell_type": "code",
   "execution_count": 92,
   "metadata": {},
   "outputs": [
    {
     "data": {
      "text/plain": [
       "array([   6,   18,   23,   27,   40,   67,   69,   80,   84,   97,   98,\n",
       "        121,  124,  140,  147,  164,  165,  167,  171,  173,  195,  210,\n",
       "        220,  227,  230,  236,  243,  246,  256,  265,  266,  283,  287,\n",
       "        297,  304,  305,  314,  317,  322,  327,  336,  339,  340,  357,\n",
       "        359,  384,  408,  413,  459,  462,  473,  489,  504,  506,  517,\n",
       "        550,  555,  562,  565,  586,  587,  588,  590,  591,  597,  599,\n",
       "        632,  669,  675,  676,  677,  683,  688,  697,  709,  712,  715,\n",
       "        724,  725,  743,  750,  768,  789,  794,  805,  811,  813,  819,\n",
       "        824,  830,  831,  832,  837,  842,  852,  874,  877,  879,  890,\n",
       "        898,  905,  914,  963,  971,  972,  973,  977,  978,  980,  985,\n",
       "        989,  991, 1011, 1012, 1018, 1020, 1025, 1033, 1068, 1072, 1073,\n",
       "       1077, 1089, 1093, 1106, 1112, 1118, 1132, 1137, 1138, 1140, 1142,\n",
       "       1156, 1158, 1162, 1171, 1183, 1190, 1222, 1229, 1236, 1260, 1265,\n",
       "       1269, 1270, 1312, 1329, 1335, 1342, 1356, 1387, 1389, 1404, 1446,\n",
       "       1460, 1467, 1479, 1498, 1505, 1520, 1521, 1527, 1534, 1549, 1565,\n",
       "       1573, 1591, 1629, 1645, 1677, 1678, 1729, 1736, 1758, 1800, 1847,\n",
       "       1848, 1852, 1904, 1906, 1912, 1922, 1948, 1960, 1963, 1985, 1998,\n",
       "       2018, 2027, 2043, 2048, 2059, 2077, 2078, 2092, 2128, 2189, 2202,\n",
       "       2215, 2249, 2254, 2262, 2300, 2307, 2343, 2348, 2354, 2363, 2373,\n",
       "       2379, 2407, 2417, 2420, 2450, 2454, 2467, 2470, 2471, 2489, 2502,\n",
       "       2519, 2545, 2561, 2565, 2573, 2582, 2589, 2604, 2630, 2642, 2643,\n",
       "       2650, 2653, 2655, 2656, 2658, 2660, 2661, 2662, 2664, 2665, 2666,\n",
       "       2667, 2670, 2697, 2706, 2729, 2733, 2751, 2826, 2828, 2844, 2847,\n",
       "       2867, 2908, 2928, 2930, 2971, 3030, 3054, 3070, 3086, 3126, 3127,\n",
       "       3136, 3156, 3201, 3215, 3223, 3224, 3238, 3251, 3256, 3260, 3268,\n",
       "       3284, 3295, 3312, 3318, 3338, 3365, 3376, 3386, 3391, 3423, 3434,\n",
       "       3444, 3447, 3452, 3462, 3559, 3560, 3595, 3612, 3615, 3621, 3630,\n",
       "       3653, 3698, 3709, 3723, 3732, 3734, 3737, 3748, 3756, 3774, 3784,\n",
       "       3788, 3790, 3834, 3848, 3850, 3880, 3901, 3917, 3940, 3943, 3951,\n",
       "       3952, 3955, 3958, 3960, 3965, 3968, 3990, 3997, 4001, 4003, 4009,\n",
       "       4064, 4080, 4120, 4123, 4173, 4182, 4195, 4241, 4246, 4255, 4307,\n",
       "       4339, 4355, 4378, 4405, 4643, 4831, 4966, 5054, 5267, 5269, 5270,\n",
       "       5271, 5645, 6114, 6196, 6281, 6583, 6771, 6772, 6788, 6795, 6797,\n",
       "       6798, 6799, 6860, 6987, 7017, 7271, 7329], dtype=int64)"
      ]
     },
     "execution_count": 92,
     "metadata": {},
     "output_type": "execute_result"
    }
   ],
   "source": [
    "np.where(lof_score<lof_threshold)[0]"
   ]
  },
  {
   "cell_type": "code",
   "execution_count": 94,
   "metadata": {},
   "outputs": [],
   "source": [
    "result.loc[np.where(lof_score<lof_threshold)[0], 'LOF'] = 1"
   ]
  },
  {
   "attachments": {},
   "cell_type": "markdown",
   "metadata": {},
   "source": [
    "---\n",
    "\n",
    "## AutoEncoder"
   ]
  },
  {
   "cell_type": "code",
   "execution_count": 95,
   "metadata": {},
   "outputs": [],
   "source": [
    "scaler = StandardScaler()"
   ]
  },
  {
   "cell_type": "code",
   "execution_count": 96,
   "metadata": {},
   "outputs": [],
   "source": [
    "train = scaler.fit_transform(train)"
   ]
  },
  {
   "cell_type": "code",
   "execution_count": 97,
   "metadata": {},
   "outputs": [],
   "source": [
    "test = scaler.fit_transform(test)"
   ]
  },
  {
   "cell_type": "code",
   "execution_count": 98,
   "metadata": {},
   "outputs": [],
   "source": [
    "import tensorflow as tf\n",
    "from tensorflow.keras.layers import Input, Dense\n",
    "from tensorflow.keras.models import Model"
   ]
  },
  {
   "cell_type": "code",
   "execution_count": 99,
   "metadata": {},
   "outputs": [],
   "source": [
    "input_dim = train.shape[1]\n",
    "\n",
    "input_layer = Input(shape=(input_dim,))\n",
    "encoder = Dense(8, activation='relu')(input_layer)\n",
    "decoder = Dense(input_dim, activation='sigmoid')(encoder)\n",
    "\n",
    "autoencoder = Model(input_layer, decoder)\n",
    "autoencoder.compile(optimizer='adam', loss='mse')\n"
   ]
  },
  {
   "cell_type": "code",
   "execution_count": 100,
   "metadata": {},
   "outputs": [
    {
     "name": "stdout",
     "output_type": "stream",
     "text": [
      "Epoch 1/100\n",
      "50/50 [==============================] - 0s 572us/step - loss: 1.1897\n",
      "Epoch 2/100\n",
      "50/50 [==============================] - 0s 510us/step - loss: 1.1089\n",
      "Epoch 3/100\n",
      "50/50 [==============================] - 0s 510us/step - loss: 1.0159\n",
      "Epoch 4/100\n",
      "50/50 [==============================] - 0s 535us/step - loss: 0.9229\n",
      "Epoch 5/100\n",
      "50/50 [==============================] - 0s 528us/step - loss: 0.8442\n",
      "Epoch 6/100\n",
      "50/50 [==============================] - 0s 500us/step - loss: 0.7839\n",
      "Epoch 7/100\n",
      "50/50 [==============================] - 0s 521us/step - loss: 0.7421\n",
      "Epoch 8/100\n",
      "50/50 [==============================] - 0s 519us/step - loss: 0.7131\n",
      "Epoch 9/100\n",
      "50/50 [==============================] - 0s 510us/step - loss: 0.6914\n",
      "Epoch 10/100\n",
      "50/50 [==============================] - 0s 513us/step - loss: 0.6746\n",
      "Epoch 11/100\n",
      "50/50 [==============================] - 0s 674us/step - loss: 0.6619\n",
      "Epoch 12/100\n",
      "50/50 [==============================] - 0s 531us/step - loss: 0.6521\n",
      "Epoch 13/100\n",
      "50/50 [==============================] - 0s 531us/step - loss: 0.6442\n",
      "Epoch 14/100\n",
      "50/50 [==============================] - 0s 510us/step - loss: 0.6377\n",
      "Epoch 15/100\n",
      "50/50 [==============================] - 0s 490us/step - loss: 0.6321\n",
      "Epoch 16/100\n",
      "50/50 [==============================] - 0s 531us/step - loss: 0.6273\n",
      "Epoch 17/100\n",
      "50/50 [==============================] - 0s 546us/step - loss: 0.6231\n",
      "Epoch 18/100\n",
      "50/50 [==============================] - 0s 531us/step - loss: 0.6193\n",
      "Epoch 19/100\n",
      "50/50 [==============================] - 0s 531us/step - loss: 0.6159\n",
      "Epoch 20/100\n",
      "50/50 [==============================] - 0s 536us/step - loss: 0.6128\n",
      "Epoch 21/100\n",
      "50/50 [==============================] - 0s 545us/step - loss: 0.6100\n",
      "Epoch 22/100\n",
      "50/50 [==============================] - 0s 510us/step - loss: 0.6074\n",
      "Epoch 23/100\n",
      "50/50 [==============================] - 0s 506us/step - loss: 0.6050\n",
      "Epoch 24/100\n",
      "50/50 [==============================] - 0s 510us/step - loss: 0.6026\n",
      "Epoch 25/100\n",
      "50/50 [==============================] - 0s 529us/step - loss: 0.6005\n",
      "Epoch 26/100\n",
      "50/50 [==============================] - 0s 531us/step - loss: 0.5984\n",
      "Epoch 27/100\n",
      "50/50 [==============================] - 0s 510us/step - loss: 0.5966\n",
      "Epoch 28/100\n",
      "50/50 [==============================] - 0s 510us/step - loss: 0.5949\n",
      "Epoch 29/100\n",
      "50/50 [==============================] - 0s 509us/step - loss: 0.5934\n",
      "Epoch 30/100\n",
      "50/50 [==============================] - 0s 508us/step - loss: 0.5920\n",
      "Epoch 31/100\n",
      "50/50 [==============================] - 0s 526us/step - loss: 0.5907\n",
      "Epoch 32/100\n",
      "50/50 [==============================] - 0s 510us/step - loss: 0.5896\n",
      "Epoch 33/100\n",
      "50/50 [==============================] - 0s 535us/step - loss: 0.5886\n",
      "Epoch 34/100\n",
      "50/50 [==============================] - 0s 510us/step - loss: 0.5877\n",
      "Epoch 35/100\n",
      "50/50 [==============================] - 0s 528us/step - loss: 0.5868\n",
      "Epoch 36/100\n",
      "50/50 [==============================] - 0s 510us/step - loss: 0.5861\n",
      "Epoch 37/100\n",
      "50/50 [==============================] - 0s 510us/step - loss: 0.5854\n",
      "Epoch 38/100\n",
      "50/50 [==============================] - 0s 506us/step - loss: 0.5848\n",
      "Epoch 39/100\n",
      "50/50 [==============================] - 0s 490us/step - loss: 0.5842\n",
      "Epoch 40/100\n",
      "50/50 [==============================] - 0s 531us/step - loss: 0.5837\n",
      "Epoch 41/100\n",
      "50/50 [==============================] - 0s 510us/step - loss: 0.5833\n",
      "Epoch 42/100\n",
      "50/50 [==============================] - 0s 521us/step - loss: 0.5829\n",
      "Epoch 43/100\n",
      "50/50 [==============================] - 0s 572us/step - loss: 0.5825\n",
      "Epoch 44/100\n",
      "50/50 [==============================] - 0s 633us/step - loss: 0.5822\n",
      "Epoch 45/100\n",
      "50/50 [==============================] - 0s 531us/step - loss: 0.5818\n",
      "Epoch 46/100\n",
      "50/50 [==============================] - 0s 510us/step - loss: 0.5815\n",
      "Epoch 47/100\n",
      "50/50 [==============================] - 0s 510us/step - loss: 0.5813\n",
      "Epoch 48/100\n",
      "50/50 [==============================] - 0s 520us/step - loss: 0.5810\n",
      "Epoch 49/100\n",
      "50/50 [==============================] - 0s 521us/step - loss: 0.5808\n",
      "Epoch 50/100\n",
      "50/50 [==============================] - 0s 551us/step - loss: 0.5805\n",
      "Epoch 51/100\n",
      "50/50 [==============================] - 0s 531us/step - loss: 0.5803\n",
      "Epoch 52/100\n",
      "50/50 [==============================] - 0s 531us/step - loss: 0.5801\n",
      "Epoch 53/100\n",
      "50/50 [==============================] - 0s 531us/step - loss: 0.5799\n",
      "Epoch 54/100\n",
      "50/50 [==============================] - 0s 518us/step - loss: 0.5797\n",
      "Epoch 55/100\n",
      "50/50 [==============================] - 0s 512us/step - loss: 0.5796\n",
      "Epoch 56/100\n",
      "50/50 [==============================] - 0s 551us/step - loss: 0.5794\n",
      "Epoch 57/100\n",
      "50/50 [==============================] - 0s 541us/step - loss: 0.5792\n",
      "Epoch 58/100\n",
      "50/50 [==============================] - 0s 531us/step - loss: 0.5791\n",
      "Epoch 59/100\n",
      "50/50 [==============================] - 0s 506us/step - loss: 0.5790\n",
      "Epoch 60/100\n",
      "50/50 [==============================] - 0s 531us/step - loss: 0.5788\n",
      "Epoch 61/100\n",
      "50/50 [==============================] - 0s 531us/step - loss: 0.5787\n",
      "Epoch 62/100\n",
      "50/50 [==============================] - 0s 531us/step - loss: 0.5786\n",
      "Epoch 63/100\n",
      "50/50 [==============================] - 0s 531us/step - loss: 0.5784\n",
      "Epoch 64/100\n",
      "50/50 [==============================] - 0s 551us/step - loss: 0.5783\n",
      "Epoch 65/100\n",
      "50/50 [==============================] - 0s 551us/step - loss: 0.5782\n",
      "Epoch 66/100\n",
      "50/50 [==============================] - 0s 526us/step - loss: 0.5781\n",
      "Epoch 67/100\n",
      "50/50 [==============================] - 0s 531us/step - loss: 0.5780\n",
      "Epoch 68/100\n",
      "50/50 [==============================] - 0s 551us/step - loss: 0.5779\n",
      "Epoch 69/100\n",
      "50/50 [==============================] - 0s 538us/step - loss: 0.5778\n",
      "Epoch 70/100\n",
      "50/50 [==============================] - 0s 817us/step - loss: 0.5777\n",
      "Epoch 71/100\n",
      "50/50 [==============================] - 0s 707us/step - loss: 0.5777\n",
      "Epoch 72/100\n",
      "50/50 [==============================] - 0s 612us/step - loss: 0.5776\n",
      "Epoch 73/100\n",
      "50/50 [==============================] - 0s 551us/step - loss: 0.5775\n",
      "Epoch 74/100\n",
      "50/50 [==============================] - 0s 531us/step - loss: 0.5774\n",
      "Epoch 75/100\n",
      "50/50 [==============================] - 0s 523us/step - loss: 0.5774\n",
      "Epoch 76/100\n",
      "50/50 [==============================] - 0s 531us/step - loss: 0.5773\n",
      "Epoch 77/100\n",
      "50/50 [==============================] - 0s 536us/step - loss: 0.5772\n",
      "Epoch 78/100\n",
      "50/50 [==============================] - 0s 510us/step - loss: 0.5772\n",
      "Epoch 79/100\n",
      "50/50 [==============================] - 0s 551us/step - loss: 0.5771\n",
      "Epoch 80/100\n",
      "50/50 [==============================] - 0s 531us/step - loss: 0.5770\n",
      "Epoch 81/100\n",
      "50/50 [==============================] - 0s 633us/step - loss: 0.5770\n",
      "Epoch 82/100\n",
      "50/50 [==============================] - 0s 531us/step - loss: 0.5769\n",
      "Epoch 83/100\n",
      "50/50 [==============================] - 0s 531us/step - loss: 0.5769\n",
      "Epoch 84/100\n",
      "50/50 [==============================] - 0s 531us/step - loss: 0.5768\n",
      "Epoch 85/100\n",
      "50/50 [==============================] - 0s 510us/step - loss: 0.5767\n",
      "Epoch 86/100\n",
      "50/50 [==============================] - 0s 531us/step - loss: 0.5767\n",
      "Epoch 87/100\n",
      "50/50 [==============================] - 0s 551us/step - loss: 0.5766\n",
      "Epoch 88/100\n",
      "50/50 [==============================] - 0s 531us/step - loss: 0.5766\n",
      "Epoch 89/100\n",
      "50/50 [==============================] - 0s 528us/step - loss: 0.5765\n",
      "Epoch 90/100\n",
      "50/50 [==============================] - 0s 531us/step - loss: 0.5765\n",
      "Epoch 91/100\n",
      "50/50 [==============================] - 0s 510us/step - loss: 0.5764\n",
      "Epoch 92/100\n",
      "50/50 [==============================] - 0s 531us/step - loss: 0.5764\n",
      "Epoch 93/100\n",
      "50/50 [==============================] - 0s 531us/step - loss: 0.5763\n",
      "Epoch 94/100\n",
      "50/50 [==============================] - 0s 531us/step - loss: 0.5763\n",
      "Epoch 95/100\n",
      "50/50 [==============================] - 0s 551us/step - loss: 0.5763\n",
      "Epoch 96/100\n",
      "50/50 [==============================] - 0s 510us/step - loss: 0.5762\n",
      "Epoch 97/100\n",
      "50/50 [==============================] - 0s 531us/step - loss: 0.5762\n",
      "Epoch 98/100\n",
      "50/50 [==============================] - 0s 531us/step - loss: 0.5761\n",
      "Epoch 99/100\n",
      "50/50 [==============================] - 0s 531us/step - loss: 0.5761\n",
      "Epoch 100/100\n",
      "50/50 [==============================] - 0s 526us/step - loss: 0.5760\n"
     ]
    },
    {
     "data": {
      "text/plain": [
       "<keras.callbacks.History at 0x20c55825cd0>"
      ]
     },
     "execution_count": 100,
     "metadata": {},
     "output_type": "execute_result"
    }
   ],
   "source": [
    "autoencoder.fit(train, train, epochs=100, batch_size=50, shuffle=True)"
   ]
  },
  {
   "cell_type": "code",
   "execution_count": 101,
   "metadata": {},
   "outputs": [
    {
     "name": "stdout",
     "output_type": "stream",
     "text": [
      "231/231 [==============================] - 0s 442us/step\n"
     ]
    }
   ],
   "source": [
    "x_pred = autoencoder.predict(test)\n",
    "mse = np.mean(np.power(test - x_pred, 2), axis=1)"
   ]
  },
  {
   "cell_type": "code",
   "execution_count": 103,
   "metadata": {},
   "outputs": [],
   "source": [
    "# 이상치 검출\n",
    "auto_threshold = np.mean(mse) + 3*np.std(mse)\n",
    "auto_outliers = np.where(mse > auto_threshold)[0]"
   ]
  },
  {
   "cell_type": "code",
   "execution_count": 104,
   "metadata": {},
   "outputs": [
    {
     "data": {
      "text/plain": [
       "2.299791531091828"
      ]
     },
     "execution_count": 104,
     "metadata": {},
     "output_type": "execute_result"
    }
   ],
   "source": [
    "auto_threshold"
   ]
  },
  {
   "cell_type": "code",
   "execution_count": 106,
   "metadata": {},
   "outputs": [
    {
     "data": {
      "text/plain": [
       "array([2406, 2413, 2416, 2418, 2420, 2425, 2428, 2429, 2430, 2455, 2457,\n",
       "       2464, 2468, 2478, 2479, 2488, 2492, 2509, 2510, 2517, 2518, 2529,\n",
       "       2536, 2541, 2560, 2573, 2575, 2594, 2612, 2619, 2622, 2624, 2637,\n",
       "       2668, 2683, 2691, 2697, 2699, 2701, 2715, 2716, 2724, 2735, 2736,\n",
       "       2739, 2745, 2750, 2753, 2758, 2764, 2768, 2781, 2782, 2793, 2797,\n",
       "       2802, 2805, 2806, 2810, 2813, 2816, 2817, 2825, 2836, 2847, 2853,\n",
       "       2862, 2873, 2879, 2887, 2888, 2889, 2895, 2913, 2915, 2918, 2935,\n",
       "       2940, 2941, 2946, 2972, 2980, 2986, 2987, 3007, 3086, 3088, 3094,\n",
       "       3109, 3110, 3112, 3142, 3143, 3154, 3155, 3170, 3182, 3185, 3198,\n",
       "       3211, 3225, 3258, 3269, 3282, 3299, 3316, 3322, 3341, 3368, 3396,\n",
       "       3400, 3407, 3416, 3417, 3431, 3500, 3507, 3529, 3542, 3559, 3572,\n",
       "       3605, 3616, 3625, 3636, 3647, 3648, 3654, 3706, 3710, 3748, 3757,\n",
       "       3822, 3858, 3866, 3867, 3871, 3880, 3888, 3896, 3897, 3935, 3942,\n",
       "       3950, 3955, 3958, 3960, 4061, 4109, 4195, 4233, 4286, 4367, 4377,\n",
       "       4417], dtype=int64)"
      ]
     },
     "execution_count": 106,
     "metadata": {},
     "output_type": "execute_result"
    }
   ],
   "source": [
    "auto_outliers"
   ]
  },
  {
   "cell_type": "code",
   "execution_count": 108,
   "metadata": {},
   "outputs": [],
   "source": [
    "result.loc[auto_outliers, 'autoencoder'] = 1"
   ]
  },
  {
   "cell_type": "code",
   "execution_count": 109,
   "metadata": {},
   "outputs": [],
   "source": [
    "result['label'] = result.mean(axis=1)"
   ]
  },
  {
   "cell_type": "code",
   "execution_count": 110,
   "metadata": {},
   "outputs": [],
   "source": [
    "for i in range(len(result)):\n",
    "    if result.label[i] > 0.5:\n",
    "        result.label[i] = 1\n",
    "    else:\n",
    "        result.label[i] = 0"
   ]
  },
  {
   "cell_type": "code",
   "execution_count": 111,
   "metadata": {},
   "outputs": [
    {
     "data": {
      "text/plain": [
       "<Axes: >"
      ]
     },
     "execution_count": 111,
     "metadata": {},
     "output_type": "execute_result"
    },
    {
     "data": {
      "image/png": "[encoded data removed]",
      "text/plain": [
       "<Figure size 640x480 with 1 Axes>"
      ]
     },
     "metadata": {},
     "output_type": "display_data"
    }
   ],
   "source": [
    "result.label.plot()"
   ]
  },
  {
   "cell_type": "markdown",
   "metadata": {},
   "source": [
    "result.to_csv('C:/Users/user/Desktop/result.csv', index=False)"
   ]
  },
  {
   "cell_type": "code",
   "execution_count": 113,
   "metadata": {},
   "outputs": [
    {
     "data": {
      "text/plain": [
       "0.0    7282\n",
       "1.0     107\n",
       "Name: label, dtype: int64"
      ]
     },
     "execution_count": 113,
     "metadata": {},
     "output_type": "execute_result"
    }
   ],
   "source": [
    "result.label.value_counts()"
   ]
  },
  {
   "cell_type": "code",
   "execution_count": null,
   "metadata": {},
   "outputs": [],
   "source": []
  }
 ],
 "metadata": {
  "kernelspec": {
   "display_name": "base",
   "language": "python",
   "name": "python3"
  },
  "language_info": {
   "codemirror_mode": {
    "name": "ipython",
    "version": 3
   },
   "file_extension": ".py",
   "mimetype": "text/x-python",
   "name": "python",
   "nbconvert_exporter": "python",
   "pygments_lexer": "ipython3",
   "version": "3.11.1"
  },
  "orig_nbformat": 4
 },
 "nbformat": 4,
 "nbformat_minor": 2
}
