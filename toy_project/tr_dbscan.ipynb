{
 "cells": [
  {
   "cell_type": "code",
   "execution_count": 1,
   "metadata": {},
   "outputs": [],
   "source": [
    "import numpy as np\n",
    "import pandas as pd\n",
    "import matplotlib.pyplot as plt\n",
    "import seaborn as sns\n",
    "from sklearn.preprocessing import StandardScaler\n",
    "import warnings\n",
    "warnings.filterwarnings('ignore')"
   ]
  },
  {
   "cell_type": "code",
   "execution_count": 2,
   "metadata": {},
   "outputs": [],
   "source": [
    "test = pd.read_csv('C:/Users/user/github/Data/aifactory/test_data.csv')\n",
    "train = pd.read_csv('C:/Users/user/github/Data/aifactory/train_data.csv')"
   ]
  },
  {
   "cell_type": "code",
   "execution_count": 3,
   "metadata": {},
   "outputs": [],
   "source": [
    "test.drop('out_pressure',axis=1, inplace=True)\n",
    "train.drop('out_pressure',axis=1, inplace=True)"
   ]
  },
  {
   "cell_type": "code",
   "execution_count": 4,
   "metadata": {},
   "outputs": [],
   "source": [
    "te = test.drop(['type'], axis=1)\n",
    "tr = train.drop(['type'], axis= 1)"
   ]
  },
  {
   "cell_type": "code",
   "execution_count": 5,
   "metadata": {},
   "outputs": [],
   "source": [
    "ss = StandardScaler()"
   ]
  },
  {
   "cell_type": "code",
   "execution_count": 6,
   "metadata": {},
   "outputs": [
    {
     "data": {
      "text/html": [
       "<style>#sk-container-id-1 {color: black;background-color: white;}#sk-container-id-1 pre{padding: 0;}#sk-container-id-1 div.sk-toggleable {background-color: white;}#sk-container-id-1 label.sk-toggleable__label {cursor: pointer;display: block;width: 100%;margin-bottom: 0;padding: 0.3em;box-sizing: border-box;text-align: center;}#sk-container-id-1 label.sk-toggleable__label-arrow:before {content: \"▸\";float: left;margin-right: 0.25em;color: #696969;}#sk-container-id-1 label.sk-toggleable__label-arrow:hover:before {color: black;}#sk-container-id-1 div.sk-estimator:hover label.sk-toggleable__label-arrow:before {color: black;}#sk-container-id-1 div.sk-toggleable__content {max-height: 0;max-width: 0;overflow: hidden;text-align: left;background-color: #f0f8ff;}#sk-container-id-1 div.sk-toggleable__content pre {margin: 0.2em;color: black;border-radius: 0.25em;background-color: #f0f8ff;}#sk-container-id-1 input.sk-toggleable__control:checked~div.sk-toggleable__content {max-height: 200px;max-width: 100%;overflow: auto;}#sk-container-id-1 input.sk-toggleable__control:checked~label.sk-toggleable__label-arrow:before {content: \"▾\";}#sk-container-id-1 div.sk-estimator input.sk-toggleable__control:checked~label.sk-toggleable__label {background-color: #d4ebff;}#sk-container-id-1 div.sk-label input.sk-toggleable__control:checked~label.sk-toggleable__label {background-color: #d4ebff;}#sk-container-id-1 input.sk-hidden--visually {border: 0;clip: rect(1px 1px 1px 1px);clip: rect(1px, 1px, 1px, 1px);height: 1px;margin: -1px;overflow: hidden;padding: 0;position: absolute;width: 1px;}#sk-container-id-1 div.sk-estimator {font-family: monospace;background-color: #f0f8ff;border: 1px dotted black;border-radius: 0.25em;box-sizing: border-box;margin-bottom: 0.5em;}#sk-container-id-1 div.sk-estimator:hover {background-color: #d4ebff;}#sk-container-id-1 div.sk-parallel-item::after {content: \"\";width: 100%;border-bottom: 1px solid gray;flex-grow: 1;}#sk-container-id-1 div.sk-label:hover label.sk-toggleable__label {background-color: #d4ebff;}#sk-container-id-1 div.sk-serial::before {content: \"\";position: absolute;border-left: 1px solid gray;box-sizing: border-box;top: 0;bottom: 0;left: 50%;z-index: 0;}#sk-container-id-1 div.sk-serial {display: flex;flex-direction: column;align-items: center;background-color: white;padding-right: 0.2em;padding-left: 0.2em;position: relative;}#sk-container-id-1 div.sk-item {position: relative;z-index: 1;}#sk-container-id-1 div.sk-parallel {display: flex;align-items: stretch;justify-content: center;background-color: white;position: relative;}#sk-container-id-1 div.sk-item::before, #sk-container-id-1 div.sk-parallel-item::before {content: \"\";position: absolute;border-left: 1px solid gray;box-sizing: border-box;top: 0;bottom: 0;left: 50%;z-index: -1;}#sk-container-id-1 div.sk-parallel-item {display: flex;flex-direction: column;z-index: 1;position: relative;background-color: white;}#sk-container-id-1 div.sk-parallel-item:first-child::after {align-self: flex-end;width: 50%;}#sk-container-id-1 div.sk-parallel-item:last-child::after {align-self: flex-start;width: 50%;}#sk-container-id-1 div.sk-parallel-item:only-child::after {width: 0;}#sk-container-id-1 div.sk-dashed-wrapped {border: 1px dashed gray;margin: 0 0.4em 0.5em 0.4em;box-sizing: border-box;padding-bottom: 0.4em;background-color: white;}#sk-container-id-1 div.sk-label label {font-family: monospace;font-weight: bold;display: inline-block;line-height: 1.2em;}#sk-container-id-1 div.sk-label-container {text-align: center;}#sk-container-id-1 div.sk-container {/* jupyter's `normalize.less` sets `[hidden] { display: none; }` but bootstrap.min.css set `[hidden] { display: none !important; }` so we also need the `!important` here to be able to override the default hidden behavior on the sphinx rendered scikit-learn.org. See: https://github.com/scikit-learn/scikit-learn/issues/21755 */display: inline-block !important;position: relative;}#sk-container-id-1 div.sk-text-repr-fallback {display: none;}</style><div id=\"sk-container-id-1\" class=\"sk-top-container\"><div class=\"sk-text-repr-fallback\"><pre>StandardScaler()</pre><b>In a Jupyter environment, please rerun this cell to show the HTML representation or trust the notebook. <br />On GitHub, the HTML representation is unable to render, please try loading this page with nbviewer.org.</b></div><div class=\"sk-container\" hidden><div class=\"sk-item\"><div class=\"sk-estimator sk-toggleable\"><input class=\"sk-toggleable__control sk-hidden--visually\" id=\"sk-estimator-id-1\" type=\"checkbox\" checked><label for=\"sk-estimator-id-1\" class=\"sk-toggleable__label sk-toggleable__label-arrow\">StandardScaler</label><div class=\"sk-toggleable__content\"><pre>StandardScaler()</pre></div></div></div></div></div>"
      ],
      "text/plain": [
       "StandardScaler()"
      ]
     },
     "execution_count": 6,
     "metadata": {},
     "output_type": "execute_result"
    }
   ],
   "source": [
    "ss.fit(tr)"
   ]
  },
  {
   "cell_type": "code",
   "execution_count": 7,
   "metadata": {},
   "outputs": [],
   "source": [
    "train_sc = ss.transform(tr)"
   ]
  },
  {
   "cell_type": "code",
   "execution_count": 8,
   "metadata": {},
   "outputs": [],
   "source": [
    "from sklearn.cluster import DBSCAN"
   ]
  },
  {
   "cell_type": "code",
   "execution_count": 9,
   "metadata": {},
   "outputs": [],
   "source": [
    "epsilon = 0.3\n",
    "min_samples = 10\n",
    "dbscan = DBSCAN(eps=epsilon, min_samples=min_samples).fit(train_sc)"
   ]
  },
  {
   "cell_type": "code",
   "execution_count": 10,
   "metadata": {},
   "outputs": [],
   "source": [
    "labels = dbscan.fit_predict(train_sc)"
   ]
  },
  {
   "cell_type": "code",
   "execution_count": 11,
   "metadata": {},
   "outputs": [
    {
     "data": {
      "text/plain": [
       "[<matplotlib.lines.Line2D at 0x22ea05e0910>]"
      ]
     },
     "execution_count": 11,
     "metadata": {},
     "output_type": "execute_result"
    },
    {
     "data": {
      "image/png": "[encoded data removed]",
      "text/plain": [
       "<Figure size 640x480 with 1 Axes>"
      ]
     },
     "metadata": {},
     "output_type": "display_data"
    }
   ],
   "source": [
    "plt.plot(labels)"
   ]
  },
  {
   "cell_type": "code",
   "execution_count": 12,
   "metadata": {},
   "outputs": [],
   "source": [
    "train_sc = pd.DataFrame(train_sc)"
   ]
  },
  {
   "cell_type": "code",
   "execution_count": 13,
   "metadata": {},
   "outputs": [],
   "source": [
    "train_sc['label'] = labels"
   ]
  },
  {
   "cell_type": "code",
   "execution_count": 14,
   "metadata": {},
   "outputs": [],
   "source": [
    "delete = np.where(train_sc['label']== -1)"
   ]
  },
  {
   "cell_type": "code",
   "execution_count": 15,
   "metadata": {},
   "outputs": [],
   "source": [
    "train_real = train.drop(delete[0], axis=0)"
   ]
  },
  {
   "cell_type": "code",
   "execution_count": 16,
   "metadata": {},
   "outputs": [
    {
     "data": {
      "text/html": [
       "<div>\n",
       "<style scoped>\n",
       "    .dataframe tbody tr th:only-of-type {\n",
       "        vertical-align: middle;\n",
       "    }\n",
       "\n",
       "    .dataframe tbody tr th {\n",
       "        vertical-align: top;\n",
       "    }\n",
       "\n",
       "    .dataframe thead th {\n",
       "        text-align: right;\n",
       "    }\n",
       "</style>\n",
       "<table border=\"1\" class=\"dataframe\">\n",
       "  <thead>\n",
       "    <tr style=\"text-align: right;\">\n",
       "      <th></th>\n",
       "      <th>air_inflow</th>\n",
       "      <th>air_end_temp</th>\n",
       "      <th>motor_current</th>\n",
       "      <th>motor_rpm</th>\n",
       "      <th>motor_temp</th>\n",
       "      <th>motor_vibe</th>\n",
       "      <th>type</th>\n",
       "    </tr>\n",
       "  </thead>\n",
       "  <tbody>\n",
       "    <tr>\n",
       "      <th>0</th>\n",
       "      <td>1.59</td>\n",
       "      <td>41.00</td>\n",
       "      <td>20.53</td>\n",
       "      <td>1680.0</td>\n",
       "      <td>58.67</td>\n",
       "      <td>2.93</td>\n",
       "      <td>0</td>\n",
       "    </tr>\n",
       "    <tr>\n",
       "      <th>1</th>\n",
       "      <td>2.97</td>\n",
       "      <td>59.28</td>\n",
       "      <td>38.40</td>\n",
       "      <td>3142.0</td>\n",
       "      <td>74.91</td>\n",
       "      <td>3.75</td>\n",
       "      <td>0</td>\n",
       "    </tr>\n",
       "    <tr>\n",
       "      <th>2</th>\n",
       "      <td>1.91</td>\n",
       "      <td>45.29</td>\n",
       "      <td>24.73</td>\n",
       "      <td>2023.0</td>\n",
       "      <td>62.48</td>\n",
       "      <td>3.12</td>\n",
       "      <td>0</td>\n",
       "    </tr>\n",
       "    <tr>\n",
       "      <th>3</th>\n",
       "      <td>2.37</td>\n",
       "      <td>51.33</td>\n",
       "      <td>30.63</td>\n",
       "      <td>2506.0</td>\n",
       "      <td>67.84</td>\n",
       "      <td>3.39</td>\n",
       "      <td>0</td>\n",
       "    </tr>\n",
       "    <tr>\n",
       "      <th>4</th>\n",
       "      <td>1.90</td>\n",
       "      <td>45.21</td>\n",
       "      <td>24.65</td>\n",
       "      <td>2017.0</td>\n",
       "      <td>62.41</td>\n",
       "      <td>3.12</td>\n",
       "      <td>0</td>\n",
       "    </tr>\n",
       "    <tr>\n",
       "      <th>...</th>\n",
       "      <td>...</td>\n",
       "      <td>...</td>\n",
       "      <td>...</td>\n",
       "      <td>...</td>\n",
       "      <td>...</td>\n",
       "      <td>...</td>\n",
       "      <td>...</td>\n",
       "    </tr>\n",
       "    <tr>\n",
       "      <th>2458</th>\n",
       "      <td>2.28</td>\n",
       "      <td>50.20</td>\n",
       "      <td>29.53</td>\n",
       "      <td>2416.0</td>\n",
       "      <td>66.84</td>\n",
       "      <td>3.34</td>\n",
       "      <td>7</td>\n",
       "    </tr>\n",
       "    <tr>\n",
       "      <th>2459</th>\n",
       "      <td>2.04</td>\n",
       "      <td>46.94</td>\n",
       "      <td>26.34</td>\n",
       "      <td>2155.0</td>\n",
       "      <td>63.94</td>\n",
       "      <td>3.20</td>\n",
       "      <td>7</td>\n",
       "    </tr>\n",
       "    <tr>\n",
       "      <th>2460</th>\n",
       "      <td>1.19</td>\n",
       "      <td>35.74</td>\n",
       "      <td>15.39</td>\n",
       "      <td>1259.0</td>\n",
       "      <td>53.99</td>\n",
       "      <td>2.70</td>\n",
       "      <td>7</td>\n",
       "    </tr>\n",
       "    <tr>\n",
       "      <th>2461</th>\n",
       "      <td>1.21</td>\n",
       "      <td>36.00</td>\n",
       "      <td>15.64</td>\n",
       "      <td>1280.0</td>\n",
       "      <td>54.22</td>\n",
       "      <td>2.71</td>\n",
       "      <td>7</td>\n",
       "    </tr>\n",
       "    <tr>\n",
       "      <th>2462</th>\n",
       "      <td>2.72</td>\n",
       "      <td>55.99</td>\n",
       "      <td>35.19</td>\n",
       "      <td>2879.0</td>\n",
       "      <td>71.99</td>\n",
       "      <td>3.60</td>\n",
       "      <td>7</td>\n",
       "    </tr>\n",
       "  </tbody>\n",
       "</table>\n",
       "<p>2447 rows × 7 columns</p>\n",
       "</div>"
      ],
      "text/plain": [
       "      air_inflow  air_end_temp  motor_current  motor_rpm  motor_temp  \\\n",
       "0           1.59         41.00          20.53     1680.0       58.67   \n",
       "1           2.97         59.28          38.40     3142.0       74.91   \n",
       "2           1.91         45.29          24.73     2023.0       62.48   \n",
       "3           2.37         51.33          30.63     2506.0       67.84   \n",
       "4           1.90         45.21          24.65     2017.0       62.41   \n",
       "...          ...           ...            ...        ...         ...   \n",
       "2458        2.28         50.20          29.53     2416.0       66.84   \n",
       "2459        2.04         46.94          26.34     2155.0       63.94   \n",
       "2460        1.19         35.74          15.39     1259.0       53.99   \n",
       "2461        1.21         36.00          15.64     1280.0       54.22   \n",
       "2462        2.72         55.99          35.19     2879.0       71.99   \n",
       "\n",
       "      motor_vibe  type  \n",
       "0           2.93     0  \n",
       "1           3.75     0  \n",
       "2           3.12     0  \n",
       "3           3.39     0  \n",
       "4           3.12     0  \n",
       "...          ...   ...  \n",
       "2458        3.34     7  \n",
       "2459        3.20     7  \n",
       "2460        2.70     7  \n",
       "2461        2.71     7  \n",
       "2462        3.60     7  \n",
       "\n",
       "[2447 rows x 7 columns]"
      ]
     },
     "execution_count": 16,
     "metadata": {},
     "output_type": "execute_result"
    }
   ],
   "source": [
    "train_real"
   ]
  },
  {
   "cell_type": "code",
   "execution_count": 17,
   "metadata": {},
   "outputs": [],
   "source": [
    "tr = train_real.drop(['type'], axis= 1)"
   ]
  },
  {
   "cell_type": "code",
   "execution_count": 18,
   "metadata": {},
   "outputs": [],
   "source": [
    "sc = StandardScaler()"
   ]
  },
  {
   "cell_type": "code",
   "execution_count": 19,
   "metadata": {},
   "outputs": [
    {
     "data": {
      "text/html": [
       "<style>#sk-container-id-2 {color: black;background-color: white;}#sk-container-id-2 pre{padding: 0;}#sk-container-id-2 div.sk-toggleable {background-color: white;}#sk-container-id-2 label.sk-toggleable__label {cursor: pointer;display: block;width: 100%;margin-bottom: 0;padding: 0.3em;box-sizing: border-box;text-align: center;}#sk-container-id-2 label.sk-toggleable__label-arrow:before {content: \"▸\";float: left;margin-right: 0.25em;color: #696969;}#sk-container-id-2 label.sk-toggleable__label-arrow:hover:before {color: black;}#sk-container-id-2 div.sk-estimator:hover label.sk-toggleable__label-arrow:before {color: black;}#sk-container-id-2 div.sk-toggleable__content {max-height: 0;max-width: 0;overflow: hidden;text-align: left;background-color: #f0f8ff;}#sk-container-id-2 div.sk-toggleable__content pre {margin: 0.2em;color: black;border-radius: 0.25em;background-color: #f0f8ff;}#sk-container-id-2 input.sk-toggleable__control:checked~div.sk-toggleable__content {max-height: 200px;max-width: 100%;overflow: auto;}#sk-container-id-2 input.sk-toggleable__control:checked~label.sk-toggleable__label-arrow:before {content: \"▾\";}#sk-container-id-2 div.sk-estimator input.sk-toggleable__control:checked~label.sk-toggleable__label {background-color: #d4ebff;}#sk-container-id-2 div.sk-label input.sk-toggleable__control:checked~label.sk-toggleable__label {background-color: #d4ebff;}#sk-container-id-2 input.sk-hidden--visually {border: 0;clip: rect(1px 1px 1px 1px);clip: rect(1px, 1px, 1px, 1px);height: 1px;margin: -1px;overflow: hidden;padding: 0;position: absolute;width: 1px;}#sk-container-id-2 div.sk-estimator {font-family: monospace;background-color: #f0f8ff;border: 1px dotted black;border-radius: 0.25em;box-sizing: border-box;margin-bottom: 0.5em;}#sk-container-id-2 div.sk-estimator:hover {background-color: #d4ebff;}#sk-container-id-2 div.sk-parallel-item::after {content: \"\";width: 100%;border-bottom: 1px solid gray;flex-grow: 1;}#sk-container-id-2 div.sk-label:hover label.sk-toggleable__label {background-color: #d4ebff;}#sk-container-id-2 div.sk-serial::before {content: \"\";position: absolute;border-left: 1px solid gray;box-sizing: border-box;top: 0;bottom: 0;left: 50%;z-index: 0;}#sk-container-id-2 div.sk-serial {display: flex;flex-direction: column;align-items: center;background-color: white;padding-right: 0.2em;padding-left: 0.2em;position: relative;}#sk-container-id-2 div.sk-item {position: relative;z-index: 1;}#sk-container-id-2 div.sk-parallel {display: flex;align-items: stretch;justify-content: center;background-color: white;position: relative;}#sk-container-id-2 div.sk-item::before, #sk-container-id-2 div.sk-parallel-item::before {content: \"\";position: absolute;border-left: 1px solid gray;box-sizing: border-box;top: 0;bottom: 0;left: 50%;z-index: -1;}#sk-container-id-2 div.sk-parallel-item {display: flex;flex-direction: column;z-index: 1;position: relative;background-color: white;}#sk-container-id-2 div.sk-parallel-item:first-child::after {align-self: flex-end;width: 50%;}#sk-container-id-2 div.sk-parallel-item:last-child::after {align-self: flex-start;width: 50%;}#sk-container-id-2 div.sk-parallel-item:only-child::after {width: 0;}#sk-container-id-2 div.sk-dashed-wrapped {border: 1px dashed gray;margin: 0 0.4em 0.5em 0.4em;box-sizing: border-box;padding-bottom: 0.4em;background-color: white;}#sk-container-id-2 div.sk-label label {font-family: monospace;font-weight: bold;display: inline-block;line-height: 1.2em;}#sk-container-id-2 div.sk-label-container {text-align: center;}#sk-container-id-2 div.sk-container {/* jupyter's `normalize.less` sets `[hidden] { display: none; }` but bootstrap.min.css set `[hidden] { display: none !important; }` so we also need the `!important` here to be able to override the default hidden behavior on the sphinx rendered scikit-learn.org. See: https://github.com/scikit-learn/scikit-learn/issues/21755 */display: inline-block !important;position: relative;}#sk-container-id-2 div.sk-text-repr-fallback {display: none;}</style><div id=\"sk-container-id-2\" class=\"sk-top-container\"><div class=\"sk-text-repr-fallback\"><pre>StandardScaler()</pre><b>In a Jupyter environment, please rerun this cell to show the HTML representation or trust the notebook. <br />On GitHub, the HTML representation is unable to render, please try loading this page with nbviewer.org.</b></div><div class=\"sk-container\" hidden><div class=\"sk-item\"><div class=\"sk-estimator sk-toggleable\"><input class=\"sk-toggleable__control sk-hidden--visually\" id=\"sk-estimator-id-2\" type=\"checkbox\" checked><label for=\"sk-estimator-id-2\" class=\"sk-toggleable__label sk-toggleable__label-arrow\">StandardScaler</label><div class=\"sk-toggleable__content\"><pre>StandardScaler()</pre></div></div></div></div></div>"
      ],
      "text/plain": [
       "StandardScaler()"
      ]
     },
     "execution_count": 19,
     "metadata": {},
     "output_type": "execute_result"
    }
   ],
   "source": [
    "sc.fit(tr)"
   ]
  },
  {
   "cell_type": "code",
   "execution_count": 20,
   "metadata": {},
   "outputs": [],
   "source": [
    "tr_sc = ss.fit_transform(tr)"
   ]
  },
  {
   "cell_type": "code",
   "execution_count": 21,
   "metadata": {},
   "outputs": [],
   "source": [
    "te_sc = sc.fit_transform(te)"
   ]
  },
  {
   "cell_type": "code",
   "execution_count": 22,
   "metadata": {},
   "outputs": [],
   "source": [
    "tr_sc = pd.DataFrame(tr_sc)"
   ]
  },
  {
   "cell_type": "code",
   "execution_count": 23,
   "metadata": {},
   "outputs": [],
   "source": [
    "te_sc = pd.DataFrame(te_sc)"
   ]
  },
  {
   "cell_type": "code",
   "execution_count": 24,
   "metadata": {},
   "outputs": [
    {
     "data": {
      "text/html": [
       "<div>\n",
       "<style scoped>\n",
       "    .dataframe tbody tr th:only-of-type {\n",
       "        vertical-align: middle;\n",
       "    }\n",
       "\n",
       "    .dataframe tbody tr th {\n",
       "        vertical-align: top;\n",
       "    }\n",
       "\n",
       "    .dataframe thead th {\n",
       "        text-align: right;\n",
       "    }\n",
       "</style>\n",
       "<table border=\"1\" class=\"dataframe\">\n",
       "  <thead>\n",
       "    <tr style=\"text-align: right;\">\n",
       "      <th></th>\n",
       "      <th>0</th>\n",
       "      <th>1</th>\n",
       "      <th>2</th>\n",
       "      <th>3</th>\n",
       "      <th>4</th>\n",
       "      <th>5</th>\n",
       "    </tr>\n",
       "  </thead>\n",
       "  <tbody>\n",
       "    <tr>\n",
       "      <th>0</th>\n",
       "      <td>-0.451541</td>\n",
       "      <td>-0.917260</td>\n",
       "      <td>-0.514570</td>\n",
       "      <td>-1.007673</td>\n",
       "      <td>-0.910371</td>\n",
       "      <td>-0.626443</td>\n",
       "    </tr>\n",
       "    <tr>\n",
       "      <th>1</th>\n",
       "      <td>0.694479</td>\n",
       "      <td>1.175766</td>\n",
       "      <td>0.796894</td>\n",
       "      <td>1.115975</td>\n",
       "      <td>1.170323</td>\n",
       "      <td>0.636336</td>\n",
       "    </tr>\n",
       "    <tr>\n",
       "      <th>2</th>\n",
       "      <td>-0.185797</td>\n",
       "      <td>-0.426063</td>\n",
       "      <td>-0.206336</td>\n",
       "      <td>-0.509444</td>\n",
       "      <td>-0.422228</td>\n",
       "      <td>-0.333848</td>\n",
       "    </tr>\n",
       "    <tr>\n",
       "      <th>3</th>\n",
       "      <td>0.196209</td>\n",
       "      <td>0.265506</td>\n",
       "      <td>0.226660</td>\n",
       "      <td>0.192144</td>\n",
       "      <td>0.264504</td>\n",
       "      <td>0.081945</td>\n",
       "    </tr>\n",
       "    <tr>\n",
       "      <th>4</th>\n",
       "      <td>-0.194102</td>\n",
       "      <td>-0.435223</td>\n",
       "      <td>-0.212207</td>\n",
       "      <td>-0.518159</td>\n",
       "      <td>-0.431196</td>\n",
       "      <td>-0.333848</td>\n",
       "    </tr>\n",
       "    <tr>\n",
       "      <th>...</th>\n",
       "      <td>...</td>\n",
       "      <td>...</td>\n",
       "      <td>...</td>\n",
       "      <td>...</td>\n",
       "      <td>...</td>\n",
       "      <td>...</td>\n",
       "    </tr>\n",
       "    <tr>\n",
       "      <th>2442</th>\n",
       "      <td>0.121469</td>\n",
       "      <td>0.136123</td>\n",
       "      <td>0.145932</td>\n",
       "      <td>0.061414</td>\n",
       "      <td>0.136382</td>\n",
       "      <td>0.004947</td>\n",
       "    </tr>\n",
       "    <tr>\n",
       "      <th>2443</th>\n",
       "      <td>-0.077839</td>\n",
       "      <td>-0.237141</td>\n",
       "      <td>-0.088179</td>\n",
       "      <td>-0.317705</td>\n",
       "      <td>-0.235170</td>\n",
       "      <td>-0.210650</td>\n",
       "    </tr>\n",
       "    <tr>\n",
       "      <th>2444</th>\n",
       "      <td>-0.783721</td>\n",
       "      <td>-1.519520</td>\n",
       "      <td>-0.891790</td>\n",
       "      <td>-1.619203</td>\n",
       "      <td>-1.509979</td>\n",
       "      <td>-0.980636</td>\n",
       "    </tr>\n",
       "    <tr>\n",
       "      <th>2445</th>\n",
       "      <td>-0.767112</td>\n",
       "      <td>-1.489751</td>\n",
       "      <td>-0.873443</td>\n",
       "      <td>-1.588699</td>\n",
       "      <td>-1.480511</td>\n",
       "      <td>-0.965237</td>\n",
       "    </tr>\n",
       "    <tr>\n",
       "      <th>2446</th>\n",
       "      <td>0.486866</td>\n",
       "      <td>0.799067</td>\n",
       "      <td>0.561315</td>\n",
       "      <td>0.733951</td>\n",
       "      <td>0.796208</td>\n",
       "      <td>0.405340</td>\n",
       "    </tr>\n",
       "  </tbody>\n",
       "</table>\n",
       "<p>2447 rows × 6 columns</p>\n",
       "</div>"
      ],
      "text/plain": [
       "             0         1         2         3         4         5\n",
       "0    -0.451541 -0.917260 -0.514570 -1.007673 -0.910371 -0.626443\n",
       "1     0.694479  1.175766  0.796894  1.115975  1.170323  0.636336\n",
       "2    -0.185797 -0.426063 -0.206336 -0.509444 -0.422228 -0.333848\n",
       "3     0.196209  0.265506  0.226660  0.192144  0.264504  0.081945\n",
       "4    -0.194102 -0.435223 -0.212207 -0.518159 -0.431196 -0.333848\n",
       "...        ...       ...       ...       ...       ...       ...\n",
       "2442  0.121469  0.136123  0.145932  0.061414  0.136382  0.004947\n",
       "2443 -0.077839 -0.237141 -0.088179 -0.317705 -0.235170 -0.210650\n",
       "2444 -0.783721 -1.519520 -0.891790 -1.619203 -1.509979 -0.980636\n",
       "2445 -0.767112 -1.489751 -0.873443 -1.588699 -1.480511 -0.965237\n",
       "2446  0.486866  0.799067  0.561315  0.733951  0.796208  0.405340\n",
       "\n",
       "[2447 rows x 6 columns]"
      ]
     },
     "execution_count": 24,
     "metadata": {},
     "output_type": "execute_result"
    }
   ],
   "source": [
    "tr_sc"
   ]
  },
  {
   "attachments": {},
   "cell_type": "markdown",
   "metadata": {},
   "source": [
    "---\n",
    "#### 공분산에는 scale 개념이 있어 공분산을 사용하는 GMM, BGM, CBM에는 scale한 데이터를 사용하지 않음\n",
    "#### 나머지 데이터는 scale한 데이터 사용하여 fitting\n",
    "\n",
    "#### tr과 te // tr_sc와 te_sc 사용"
   ]
  },
  {
   "cell_type": "code",
   "execution_count": 25,
   "metadata": {},
   "outputs": [],
   "source": [
    "result = pd.DataFrame(index = test.index ,columns=['gm','bgm','LOF','autoencoder','svm','gan' ,'CBM'], data=0)"
   ]
  },
  {
   "cell_type": "code",
   "execution_count": 26,
   "metadata": {},
   "outputs": [],
   "source": [
    "result = pd.DataFrame(index = test.index ,columns=['gm','bgm','LOF','CBM'], data=0)"
   ]
  },
  {
   "attachments": {},
   "cell_type": "markdown",
   "metadata": {},
   "source": [
    "---\n",
    "### GMM, BGM"
   ]
  },
  {
   "cell_type": "code",
   "execution_count": 27,
   "metadata": {},
   "outputs": [
    {
     "data": {
      "text/html": [
       "<style>#sk-container-id-3 {color: black;background-color: white;}#sk-container-id-3 pre{padding: 0;}#sk-container-id-3 div.sk-toggleable {background-color: white;}#sk-container-id-3 label.sk-toggleable__label {cursor: pointer;display: block;width: 100%;margin-bottom: 0;padding: 0.3em;box-sizing: border-box;text-align: center;}#sk-container-id-3 label.sk-toggleable__label-arrow:before {content: \"▸\";float: left;margin-right: 0.25em;color: #696969;}#sk-container-id-3 label.sk-toggleable__label-arrow:hover:before {color: black;}#sk-container-id-3 div.sk-estimator:hover label.sk-toggleable__label-arrow:before {color: black;}#sk-container-id-3 div.sk-toggleable__content {max-height: 0;max-width: 0;overflow: hidden;text-align: left;background-color: #f0f8ff;}#sk-container-id-3 div.sk-toggleable__content pre {margin: 0.2em;color: black;border-radius: 0.25em;background-color: #f0f8ff;}#sk-container-id-3 input.sk-toggleable__control:checked~div.sk-toggleable__content {max-height: 200px;max-width: 100%;overflow: auto;}#sk-container-id-3 input.sk-toggleable__control:checked~label.sk-toggleable__label-arrow:before {content: \"▾\";}#sk-container-id-3 div.sk-estimator input.sk-toggleable__control:checked~label.sk-toggleable__label {background-color: #d4ebff;}#sk-container-id-3 div.sk-label input.sk-toggleable__control:checked~label.sk-toggleable__label {background-color: #d4ebff;}#sk-container-id-3 input.sk-hidden--visually {border: 0;clip: rect(1px 1px 1px 1px);clip: rect(1px, 1px, 1px, 1px);height: 1px;margin: -1px;overflow: hidden;padding: 0;position: absolute;width: 1px;}#sk-container-id-3 div.sk-estimator {font-family: monospace;background-color: #f0f8ff;border: 1px dotted black;border-radius: 0.25em;box-sizing: border-box;margin-bottom: 0.5em;}#sk-container-id-3 div.sk-estimator:hover {background-color: #d4ebff;}#sk-container-id-3 div.sk-parallel-item::after {content: \"\";width: 100%;border-bottom: 1px solid gray;flex-grow: 1;}#sk-container-id-3 div.sk-label:hover label.sk-toggleable__label {background-color: #d4ebff;}#sk-container-id-3 div.sk-serial::before {content: \"\";position: absolute;border-left: 1px solid gray;box-sizing: border-box;top: 0;bottom: 0;left: 50%;z-index: 0;}#sk-container-id-3 div.sk-serial {display: flex;flex-direction: column;align-items: center;background-color: white;padding-right: 0.2em;padding-left: 0.2em;position: relative;}#sk-container-id-3 div.sk-item {position: relative;z-index: 1;}#sk-container-id-3 div.sk-parallel {display: flex;align-items: stretch;justify-content: center;background-color: white;position: relative;}#sk-container-id-3 div.sk-item::before, #sk-container-id-3 div.sk-parallel-item::before {content: \"\";position: absolute;border-left: 1px solid gray;box-sizing: border-box;top: 0;bottom: 0;left: 50%;z-index: -1;}#sk-container-id-3 div.sk-parallel-item {display: flex;flex-direction: column;z-index: 1;position: relative;background-color: white;}#sk-container-id-3 div.sk-parallel-item:first-child::after {align-self: flex-end;width: 50%;}#sk-container-id-3 div.sk-parallel-item:last-child::after {align-self: flex-start;width: 50%;}#sk-container-id-3 div.sk-parallel-item:only-child::after {width: 0;}#sk-container-id-3 div.sk-dashed-wrapped {border: 1px dashed gray;margin: 0 0.4em 0.5em 0.4em;box-sizing: border-box;padding-bottom: 0.4em;background-color: white;}#sk-container-id-3 div.sk-label label {font-family: monospace;font-weight: bold;display: inline-block;line-height: 1.2em;}#sk-container-id-3 div.sk-label-container {text-align: center;}#sk-container-id-3 div.sk-container {/* jupyter's `normalize.less` sets `[hidden] { display: none; }` but bootstrap.min.css set `[hidden] { display: none !important; }` so we also need the `!important` here to be able to override the default hidden behavior on the sphinx rendered scikit-learn.org. See: https://github.com/scikit-learn/scikit-learn/issues/21755 */display: inline-block !important;position: relative;}#sk-container-id-3 div.sk-text-repr-fallback {display: none;}</style><div id=\"sk-container-id-3\" class=\"sk-top-container\"><div class=\"sk-text-repr-fallback\"><pre>GaussianMixture(n_components=4, n_init=30, random_state=42)</pre><b>In a Jupyter environment, please rerun this cell to show the HTML representation or trust the notebook. <br />On GitHub, the HTML representation is unable to render, please try loading this page with nbviewer.org.</b></div><div class=\"sk-container\" hidden><div class=\"sk-item\"><div class=\"sk-estimator sk-toggleable\"><input class=\"sk-toggleable__control sk-hidden--visually\" id=\"sk-estimator-id-3\" type=\"checkbox\" checked><label for=\"sk-estimator-id-3\" class=\"sk-toggleable__label sk-toggleable__label-arrow\">GaussianMixture</label><div class=\"sk-toggleable__content\"><pre>GaussianMixture(n_components=4, n_init=30, random_state=42)</pre></div></div></div></div></div>"
      ],
      "text/plain": [
       "GaussianMixture(n_components=4, n_init=30, random_state=42)"
      ]
     },
     "execution_count": 27,
     "metadata": {},
     "output_type": "execute_result"
    }
   ],
   "source": [
    "from sklearn.mixture import GaussianMixture\n",
    "\n",
    "# GMM: n_components = 모델의 총 수\n",
    "gm = GaussianMixture(n_components=4, covariance_type = 'full',n_init=30, random_state=42)\n",
    "gm.fit(tr)"
   ]
  },
  {
   "cell_type": "code",
   "execution_count": 28,
   "metadata": {},
   "outputs": [
    {
     "data": {
      "text/html": [
       "<style>#sk-container-id-4 {color: black;background-color: white;}#sk-container-id-4 pre{padding: 0;}#sk-container-id-4 div.sk-toggleable {background-color: white;}#sk-container-id-4 label.sk-toggleable__label {cursor: pointer;display: block;width: 100%;margin-bottom: 0;padding: 0.3em;box-sizing: border-box;text-align: center;}#sk-container-id-4 label.sk-toggleable__label-arrow:before {content: \"▸\";float: left;margin-right: 0.25em;color: #696969;}#sk-container-id-4 label.sk-toggleable__label-arrow:hover:before {color: black;}#sk-container-id-4 div.sk-estimator:hover label.sk-toggleable__label-arrow:before {color: black;}#sk-container-id-4 div.sk-toggleable__content {max-height: 0;max-width: 0;overflow: hidden;text-align: left;background-color: #f0f8ff;}#sk-container-id-4 div.sk-toggleable__content pre {margin: 0.2em;color: black;border-radius: 0.25em;background-color: #f0f8ff;}#sk-container-id-4 input.sk-toggleable__control:checked~div.sk-toggleable__content {max-height: 200px;max-width: 100%;overflow: auto;}#sk-container-id-4 input.sk-toggleable__control:checked~label.sk-toggleable__label-arrow:before {content: \"▾\";}#sk-container-id-4 div.sk-estimator input.sk-toggleable__control:checked~label.sk-toggleable__label {background-color: #d4ebff;}#sk-container-id-4 div.sk-label input.sk-toggleable__control:checked~label.sk-toggleable__label {background-color: #d4ebff;}#sk-container-id-4 input.sk-hidden--visually {border: 0;clip: rect(1px 1px 1px 1px);clip: rect(1px, 1px, 1px, 1px);height: 1px;margin: -1px;overflow: hidden;padding: 0;position: absolute;width: 1px;}#sk-container-id-4 div.sk-estimator {font-family: monospace;background-color: #f0f8ff;border: 1px dotted black;border-radius: 0.25em;box-sizing: border-box;margin-bottom: 0.5em;}#sk-container-id-4 div.sk-estimator:hover {background-color: #d4ebff;}#sk-container-id-4 div.sk-parallel-item::after {content: \"\";width: 100%;border-bottom: 1px solid gray;flex-grow: 1;}#sk-container-id-4 div.sk-label:hover label.sk-toggleable__label {background-color: #d4ebff;}#sk-container-id-4 div.sk-serial::before {content: \"\";position: absolute;border-left: 1px solid gray;box-sizing: border-box;top: 0;bottom: 0;left: 50%;z-index: 0;}#sk-container-id-4 div.sk-serial {display: flex;flex-direction: column;align-items: center;background-color: white;padding-right: 0.2em;padding-left: 0.2em;position: relative;}#sk-container-id-4 div.sk-item {position: relative;z-index: 1;}#sk-container-id-4 div.sk-parallel {display: flex;align-items: stretch;justify-content: center;background-color: white;position: relative;}#sk-container-id-4 div.sk-item::before, #sk-container-id-4 div.sk-parallel-item::before {content: \"\";position: absolute;border-left: 1px solid gray;box-sizing: border-box;top: 0;bottom: 0;left: 50%;z-index: -1;}#sk-container-id-4 div.sk-parallel-item {display: flex;flex-direction: column;z-index: 1;position: relative;background-color: white;}#sk-container-id-4 div.sk-parallel-item:first-child::after {align-self: flex-end;width: 50%;}#sk-container-id-4 div.sk-parallel-item:last-child::after {align-self: flex-start;width: 50%;}#sk-container-id-4 div.sk-parallel-item:only-child::after {width: 0;}#sk-container-id-4 div.sk-dashed-wrapped {border: 1px dashed gray;margin: 0 0.4em 0.5em 0.4em;box-sizing: border-box;padding-bottom: 0.4em;background-color: white;}#sk-container-id-4 div.sk-label label {font-family: monospace;font-weight: bold;display: inline-block;line-height: 1.2em;}#sk-container-id-4 div.sk-label-container {text-align: center;}#sk-container-id-4 div.sk-container {/* jupyter's `normalize.less` sets `[hidden] { display: none; }` but bootstrap.min.css set `[hidden] { display: none !important; }` so we also need the `!important` here to be able to override the default hidden behavior on the sphinx rendered scikit-learn.org. See: https://github.com/scikit-learn/scikit-learn/issues/21755 */display: inline-block !important;position: relative;}#sk-container-id-4 div.sk-text-repr-fallback {display: none;}</style><div id=\"sk-container-id-4\" class=\"sk-top-container\"><div class=\"sk-text-repr-fallback\"><pre>BayesianGaussianMixture(n_components=4, n_init=15, random_state=42)</pre><b>In a Jupyter environment, please rerun this cell to show the HTML representation or trust the notebook. <br />On GitHub, the HTML representation is unable to render, please try loading this page with nbviewer.org.</b></div><div class=\"sk-container\" hidden><div class=\"sk-item\"><div class=\"sk-estimator sk-toggleable\"><input class=\"sk-toggleable__control sk-hidden--visually\" id=\"sk-estimator-id-4\" type=\"checkbox\" checked><label for=\"sk-estimator-id-4\" class=\"sk-toggleable__label sk-toggleable__label-arrow\">BayesianGaussianMixture</label><div class=\"sk-toggleable__content\"><pre>BayesianGaussianMixture(n_components=4, n_init=15, random_state=42)</pre></div></div></div></div></div>"
      ],
      "text/plain": [
       "BayesianGaussianMixture(n_components=4, n_init=15, random_state=42)"
      ]
     },
     "execution_count": 28,
     "metadata": {},
     "output_type": "execute_result"
    }
   ],
   "source": [
    "from sklearn.mixture import BayesianGaussianMixture\n",
    "\n",
    "bgm = BayesianGaussianMixture(n_components=4, n_init=15, random_state=42)\n",
    "bgm.fit(tr)"
   ]
  },
  {
   "cell_type": "code",
   "execution_count": 29,
   "metadata": {},
   "outputs": [
    {
     "name": "stdout",
     "output_type": "stream",
     "text": [
      "True\n",
      "True\n"
     ]
    }
   ],
   "source": [
    "print(gm.converged_)\n",
    "print(bgm.converged_)"
   ]
  },
  {
   "cell_type": "code",
   "execution_count": 30,
   "metadata": {},
   "outputs": [],
   "source": [
    "densities = gm.score_samples(te)\n",
    "density_threshold = -20\n",
    "\n",
    "bgm_densities = bgm.score_samples(te)\n",
    "bgm_density_threshold = -20"
   ]
  },
  {
   "cell_type": "code",
   "execution_count": 31,
   "metadata": {},
   "outputs": [
    {
     "data": {
      "text/plain": [
       "Text(0.5, 1.0, 'gmm result')"
      ]
     },
     "execution_count": 31,
     "metadata": {},
     "output_type": "execute_result"
    },
    {
     "data": {
      "image/png": "[encoded data removed]",
      "text/plain": [
       "<Figure size 2000x800 with 1 Axes>"
      ]
     },
     "metadata": {},
     "output_type": "display_data"
    }
   ],
   "source": [
    "plt.figure(figsize=(20,8))\n",
    "sns.distplot(densities, kde=True, color=\"b\")\n",
    "plt.axvline(density_threshold, color = 'red')\n",
    "plt.title('gmm result')"
   ]
  },
  {
   "cell_type": "code",
   "execution_count": 32,
   "metadata": {},
   "outputs": [
    {
     "data": {
      "text/plain": [
       "Text(0.5, 1.0, 'bgm result')"
      ]
     },
     "execution_count": 32,
     "metadata": {},
     "output_type": "execute_result"
    },
    {
     "data": {
      "image/png": "[encoded data removed]",
      "text/plain": [
       "<Figure size 2000x800 with 1 Axes>"
      ]
     },
     "metadata": {},
     "output_type": "display_data"
    }
   ],
   "source": [
    "plt.figure(figsize=(20,8))\n",
    "sns.distplot(bgm_densities, kde=True, color=\"b\")\n",
    "plt.axvline(bgm_density_threshold, color = 'red')\n",
    "plt.title('bgm result')"
   ]
  },
  {
   "cell_type": "code",
   "execution_count": 33,
   "metadata": {},
   "outputs": [
    {
     "data": {
      "text/plain": [
       "(-10.0, 50.0)"
      ]
     },
     "execution_count": 33,
     "metadata": {},
     "output_type": "execute_result"
    },
    {
     "data": {
      "image/png": "[encoded data removed]",
      "text/plain": [
       "<Figure size 640x480 with 1 Axes>"
      ]
     },
     "metadata": {},
     "output_type": "display_data"
    }
   ],
   "source": [
    "plt.plot(bgm_densities)\n",
    "plt.ylim(-10,50)"
   ]
  },
  {
   "cell_type": "code",
   "execution_count": 34,
   "metadata": {},
   "outputs": [
    {
     "data": {
      "text/plain": [
       "(-10.0, 50.0)"
      ]
     },
     "execution_count": 34,
     "metadata": {},
     "output_type": "execute_result"
    },
    {
     "data": {
      "image/png": "[encoded data removed]",
      "text/plain": [
       "<Figure size 640x480 with 1 Axes>"
      ]
     },
     "metadata": {},
     "output_type": "display_data"
    }
   ],
   "source": [
    "plt.plot(densities)\n",
    "plt.ylim(-10,50)"
   ]
  },
  {
   "cell_type": "code",
   "execution_count": 35,
   "metadata": {},
   "outputs": [],
   "source": [
    "anomalies = te[densities < density_threshold]\n",
    "\n",
    "bgm_anomalies = te[bgm_densities < bgm_density_threshold]"
   ]
  },
  {
   "cell_type": "code",
   "execution_count": 36,
   "metadata": {},
   "outputs": [],
   "source": [
    "result.loc[anomalies.index.tolist(), 'gm'] = 1\n",
    "result.loc[bgm_anomalies.index.tolist(), 'bgm'] = 1"
   ]
  },
  {
   "attachments": {},
   "cell_type": "markdown",
   "metadata": {},
   "source": [
    "---\n",
    "## LOF"
   ]
  },
  {
   "cell_type": "code",
   "execution_count": 37,
   "metadata": {},
   "outputs": [],
   "source": [
    "from sklearn.neighbors import LocalOutlierFactor\n",
    "from sklearn.model_selection import GridSearchCV"
   ]
  },
  {
   "cell_type": "code",
   "execution_count": 38,
   "metadata": {},
   "outputs": [],
   "source": [
    "clf = LocalOutlierFactor()"
   ]
  },
  {
   "cell_type": "code",
   "execution_count": 39,
   "metadata": {},
   "outputs": [],
   "source": [
    "param_grid = {'n_neighbors' : [5,6,7,8,9,10,11,12,13,14,15,16,17,18,19,20,21,22,23,24,25,26,27,28], 'contamination' : [0.1,0.2,0.3,0.4,0.5,0.6,0.7,0.8,0.9],}"
   ]
  },
  {
   "cell_type": "code",
   "execution_count": 40,
   "metadata": {},
   "outputs": [],
   "source": [
    "grid_search = GridSearchCV(estimator=clf, \n",
    "                           param_grid=param_grid,\n",
    "                           scoring='accuracy', \n",
    "                           n_jobs=-1, \n",
    "                           verbose=2\n",
    "                          )"
   ]
  },
  {
   "cell_type": "code",
   "execution_count": 41,
   "metadata": {},
   "outputs": [
    {
     "name": "stdout",
     "output_type": "stream",
     "text": [
      "Fitting 5 folds for each of 216 candidates, totalling 1080 fits\n"
     ]
    },
    {
     "data": {
      "text/html": [
       "<style>#sk-container-id-5 {color: black;background-color: white;}#sk-container-id-5 pre{padding: 0;}#sk-container-id-5 div.sk-toggleable {background-color: white;}#sk-container-id-5 label.sk-toggleable__label {cursor: pointer;display: block;width: 100%;margin-bottom: 0;padding: 0.3em;box-sizing: border-box;text-align: center;}#sk-container-id-5 label.sk-toggleable__label-arrow:before {content: \"▸\";float: left;margin-right: 0.25em;color: #696969;}#sk-container-id-5 label.sk-toggleable__label-arrow:hover:before {color: black;}#sk-container-id-5 div.sk-estimator:hover label.sk-toggleable__label-arrow:before {color: black;}#sk-container-id-5 div.sk-toggleable__content {max-height: 0;max-width: 0;overflow: hidden;text-align: left;background-color: #f0f8ff;}#sk-container-id-5 div.sk-toggleable__content pre {margin: 0.2em;color: black;border-radius: 0.25em;background-color: #f0f8ff;}#sk-container-id-5 input.sk-toggleable__control:checked~div.sk-toggleable__content {max-height: 200px;max-width: 100%;overflow: auto;}#sk-container-id-5 input.sk-toggleable__control:checked~label.sk-toggleable__label-arrow:before {content: \"▾\";}#sk-container-id-5 div.sk-estimator input.sk-toggleable__control:checked~label.sk-toggleable__label {background-color: #d4ebff;}#sk-container-id-5 div.sk-label input.sk-toggleable__control:checked~label.sk-toggleable__label {background-color: #d4ebff;}#sk-container-id-5 input.sk-hidden--visually {border: 0;clip: rect(1px 1px 1px 1px);clip: rect(1px, 1px, 1px, 1px);height: 1px;margin: -1px;overflow: hidden;padding: 0;position: absolute;width: 1px;}#sk-container-id-5 div.sk-estimator {font-family: monospace;background-color: #f0f8ff;border: 1px dotted black;border-radius: 0.25em;box-sizing: border-box;margin-bottom: 0.5em;}#sk-container-id-5 div.sk-estimator:hover {background-color: #d4ebff;}#sk-container-id-5 div.sk-parallel-item::after {content: \"\";width: 100%;border-bottom: 1px solid gray;flex-grow: 1;}#sk-container-id-5 div.sk-label:hover label.sk-toggleable__label {background-color: #d4ebff;}#sk-container-id-5 div.sk-serial::before {content: \"\";position: absolute;border-left: 1px solid gray;box-sizing: border-box;top: 0;bottom: 0;left: 50%;z-index: 0;}#sk-container-id-5 div.sk-serial {display: flex;flex-direction: column;align-items: center;background-color: white;padding-right: 0.2em;padding-left: 0.2em;position: relative;}#sk-container-id-5 div.sk-item {position: relative;z-index: 1;}#sk-container-id-5 div.sk-parallel {display: flex;align-items: stretch;justify-content: center;background-color: white;position: relative;}#sk-container-id-5 div.sk-item::before, #sk-container-id-5 div.sk-parallel-item::before {content: \"\";position: absolute;border-left: 1px solid gray;box-sizing: border-box;top: 0;bottom: 0;left: 50%;z-index: -1;}#sk-container-id-5 div.sk-parallel-item {display: flex;flex-direction: column;z-index: 1;position: relative;background-color: white;}#sk-container-id-5 div.sk-parallel-item:first-child::after {align-self: flex-end;width: 50%;}#sk-container-id-5 div.sk-parallel-item:last-child::after {align-self: flex-start;width: 50%;}#sk-container-id-5 div.sk-parallel-item:only-child::after {width: 0;}#sk-container-id-5 div.sk-dashed-wrapped {border: 1px dashed gray;margin: 0 0.4em 0.5em 0.4em;box-sizing: border-box;padding-bottom: 0.4em;background-color: white;}#sk-container-id-5 div.sk-label label {font-family: monospace;font-weight: bold;display: inline-block;line-height: 1.2em;}#sk-container-id-5 div.sk-label-container {text-align: center;}#sk-container-id-5 div.sk-container {/* jupyter's `normalize.less` sets `[hidden] { display: none; }` but bootstrap.min.css set `[hidden] { display: none !important; }` so we also need the `!important` here to be able to override the default hidden behavior on the sphinx rendered scikit-learn.org. See: https://github.com/scikit-learn/scikit-learn/issues/21755 */display: inline-block !important;position: relative;}#sk-container-id-5 div.sk-text-repr-fallback {display: none;}</style><div id=\"sk-container-id-5\" class=\"sk-top-container\"><div class=\"sk-text-repr-fallback\"><pre>GridSearchCV(estimator=LocalOutlierFactor(), n_jobs=-1,\n",
       "             param_grid={&#x27;contamination&#x27;: [0.1, 0.2, 0.3, 0.4, 0.5, 0.6, 0.7,\n",
       "                                           0.8, 0.9],\n",
       "                         &#x27;n_neighbors&#x27;: [5, 6, 7, 8, 9, 10, 11, 12, 13, 14, 15,\n",
       "                                         16, 17, 18, 19, 20, 21, 22, 23, 24, 25,\n",
       "                                         26, 27, 28]},\n",
       "             scoring=&#x27;accuracy&#x27;, verbose=2)</pre><b>In a Jupyter environment, please rerun this cell to show the HTML representation or trust the notebook. <br />On GitHub, the HTML representation is unable to render, please try loading this page with nbviewer.org.</b></div><div class=\"sk-container\" hidden><div class=\"sk-item sk-dashed-wrapped\"><div class=\"sk-label-container\"><div class=\"sk-label sk-toggleable\"><input class=\"sk-toggleable__control sk-hidden--visually\" id=\"sk-estimator-id-5\" type=\"checkbox\" ><label for=\"sk-estimator-id-5\" class=\"sk-toggleable__label sk-toggleable__label-arrow\">GridSearchCV</label><div class=\"sk-toggleable__content\"><pre>GridSearchCV(estimator=LocalOutlierFactor(), n_jobs=-1,\n",
       "             param_grid={&#x27;contamination&#x27;: [0.1, 0.2, 0.3, 0.4, 0.5, 0.6, 0.7,\n",
       "                                           0.8, 0.9],\n",
       "                         &#x27;n_neighbors&#x27;: [5, 6, 7, 8, 9, 10, 11, 12, 13, 14, 15,\n",
       "                                         16, 17, 18, 19, 20, 21, 22, 23, 24, 25,\n",
       "                                         26, 27, 28]},\n",
       "             scoring=&#x27;accuracy&#x27;, verbose=2)</pre></div></div></div><div class=\"sk-parallel\"><div class=\"sk-parallel-item\"><div class=\"sk-item\"><div class=\"sk-label-container\"><div class=\"sk-label sk-toggleable\"><input class=\"sk-toggleable__control sk-hidden--visually\" id=\"sk-estimator-id-6\" type=\"checkbox\" ><label for=\"sk-estimator-id-6\" class=\"sk-toggleable__label sk-toggleable__label-arrow\">estimator: LocalOutlierFactor</label><div class=\"sk-toggleable__content\"><pre>LocalOutlierFactor()</pre></div></div></div><div class=\"sk-serial\"><div class=\"sk-item\"><div class=\"sk-estimator sk-toggleable\"><input class=\"sk-toggleable__control sk-hidden--visually\" id=\"sk-estimator-id-7\" type=\"checkbox\" ><label for=\"sk-estimator-id-7\" class=\"sk-toggleable__label sk-toggleable__label-arrow\">LocalOutlierFactor</label><div class=\"sk-toggleable__content\"><pre>LocalOutlierFactor()</pre></div></div></div></div></div></div></div></div></div></div>"
      ],
      "text/plain": [
       "GridSearchCV(estimator=LocalOutlierFactor(), n_jobs=-1,\n",
       "             param_grid={'contamination': [0.1, 0.2, 0.3, 0.4, 0.5, 0.6, 0.7,\n",
       "                                           0.8, 0.9],\n",
       "                         'n_neighbors': [5, 6, 7, 8, 9, 10, 11, 12, 13, 14, 15,\n",
       "                                         16, 17, 18, 19, 20, 21, 22, 23, 24, 25,\n",
       "                                         26, 27, 28]},\n",
       "             scoring='accuracy', verbose=2)"
      ]
     },
     "execution_count": 41,
     "metadata": {},
     "output_type": "execute_result"
    }
   ],
   "source": [
    "grid_search.fit(tr_sc)"
   ]
  },
  {
   "cell_type": "code",
   "execution_count": 42,
   "metadata": {},
   "outputs": [],
   "source": [
    "best_param = grid_search.best_params_"
   ]
  },
  {
   "cell_type": "code",
   "execution_count": 43,
   "metadata": {},
   "outputs": [
    {
     "data": {
      "text/plain": [
       "{'contamination': 0.1, 'n_neighbors': 5}"
      ]
     },
     "execution_count": 43,
     "metadata": {},
     "output_type": "execute_result"
    }
   ],
   "source": [
    "best_param"
   ]
  },
  {
   "cell_type": "code",
   "execution_count": 44,
   "metadata": {},
   "outputs": [],
   "source": [
    "clf2 = LocalOutlierFactor(**best_param)"
   ]
  },
  {
   "cell_type": "code",
   "execution_count": 45,
   "metadata": {},
   "outputs": [
    {
     "data": {
      "text/html": [
       "<style>#sk-container-id-6 {color: black;background-color: white;}#sk-container-id-6 pre{padding: 0;}#sk-container-id-6 div.sk-toggleable {background-color: white;}#sk-container-id-6 label.sk-toggleable__label {cursor: pointer;display: block;width: 100%;margin-bottom: 0;padding: 0.3em;box-sizing: border-box;text-align: center;}#sk-container-id-6 label.sk-toggleable__label-arrow:before {content: \"▸\";float: left;margin-right: 0.25em;color: #696969;}#sk-container-id-6 label.sk-toggleable__label-arrow:hover:before {color: black;}#sk-container-id-6 div.sk-estimator:hover label.sk-toggleable__label-arrow:before {color: black;}#sk-container-id-6 div.sk-toggleable__content {max-height: 0;max-width: 0;overflow: hidden;text-align: left;background-color: #f0f8ff;}#sk-container-id-6 div.sk-toggleable__content pre {margin: 0.2em;color: black;border-radius: 0.25em;background-color: #f0f8ff;}#sk-container-id-6 input.sk-toggleable__control:checked~div.sk-toggleable__content {max-height: 200px;max-width: 100%;overflow: auto;}#sk-container-id-6 input.sk-toggleable__control:checked~label.sk-toggleable__label-arrow:before {content: \"▾\";}#sk-container-id-6 div.sk-estimator input.sk-toggleable__control:checked~label.sk-toggleable__label {background-color: #d4ebff;}#sk-container-id-6 div.sk-label input.sk-toggleable__control:checked~label.sk-toggleable__label {background-color: #d4ebff;}#sk-container-id-6 input.sk-hidden--visually {border: 0;clip: rect(1px 1px 1px 1px);clip: rect(1px, 1px, 1px, 1px);height: 1px;margin: -1px;overflow: hidden;padding: 0;position: absolute;width: 1px;}#sk-container-id-6 div.sk-estimator {font-family: monospace;background-color: #f0f8ff;border: 1px dotted black;border-radius: 0.25em;box-sizing: border-box;margin-bottom: 0.5em;}#sk-container-id-6 div.sk-estimator:hover {background-color: #d4ebff;}#sk-container-id-6 div.sk-parallel-item::after {content: \"\";width: 100%;border-bottom: 1px solid gray;flex-grow: 1;}#sk-container-id-6 div.sk-label:hover label.sk-toggleable__label {background-color: #d4ebff;}#sk-container-id-6 div.sk-serial::before {content: \"\";position: absolute;border-left: 1px solid gray;box-sizing: border-box;top: 0;bottom: 0;left: 50%;z-index: 0;}#sk-container-id-6 div.sk-serial {display: flex;flex-direction: column;align-items: center;background-color: white;padding-right: 0.2em;padding-left: 0.2em;position: relative;}#sk-container-id-6 div.sk-item {position: relative;z-index: 1;}#sk-container-id-6 div.sk-parallel {display: flex;align-items: stretch;justify-content: center;background-color: white;position: relative;}#sk-container-id-6 div.sk-item::before, #sk-container-id-6 div.sk-parallel-item::before {content: \"\";position: absolute;border-left: 1px solid gray;box-sizing: border-box;top: 0;bottom: 0;left: 50%;z-index: -1;}#sk-container-id-6 div.sk-parallel-item {display: flex;flex-direction: column;z-index: 1;position: relative;background-color: white;}#sk-container-id-6 div.sk-parallel-item:first-child::after {align-self: flex-end;width: 50%;}#sk-container-id-6 div.sk-parallel-item:last-child::after {align-self: flex-start;width: 50%;}#sk-container-id-6 div.sk-parallel-item:only-child::after {width: 0;}#sk-container-id-6 div.sk-dashed-wrapped {border: 1px dashed gray;margin: 0 0.4em 0.5em 0.4em;box-sizing: border-box;padding-bottom: 0.4em;background-color: white;}#sk-container-id-6 div.sk-label label {font-family: monospace;font-weight: bold;display: inline-block;line-height: 1.2em;}#sk-container-id-6 div.sk-label-container {text-align: center;}#sk-container-id-6 div.sk-container {/* jupyter's `normalize.less` sets `[hidden] { display: none; }` but bootstrap.min.css set `[hidden] { display: none !important; }` so we also need the `!important` here to be able to override the default hidden behavior on the sphinx rendered scikit-learn.org. See: https://github.com/scikit-learn/scikit-learn/issues/21755 */display: inline-block !important;position: relative;}#sk-container-id-6 div.sk-text-repr-fallback {display: none;}</style><div id=\"sk-container-id-6\" class=\"sk-top-container\"><div class=\"sk-text-repr-fallback\"><pre>LocalOutlierFactor(contamination=0.1, n_neighbors=5)</pre><b>In a Jupyter environment, please rerun this cell to show the HTML representation or trust the notebook. <br />On GitHub, the HTML representation is unable to render, please try loading this page with nbviewer.org.</b></div><div class=\"sk-container\" hidden><div class=\"sk-item\"><div class=\"sk-estimator sk-toggleable\"><input class=\"sk-toggleable__control sk-hidden--visually\" id=\"sk-estimator-id-8\" type=\"checkbox\" checked><label for=\"sk-estimator-id-8\" class=\"sk-toggleable__label sk-toggleable__label-arrow\">LocalOutlierFactor</label><div class=\"sk-toggleable__content\"><pre>LocalOutlierFactor(contamination=0.1, n_neighbors=5)</pre></div></div></div></div></div>"
      ],
      "text/plain": [
       "LocalOutlierFactor(contamination=0.1, n_neighbors=5)"
      ]
     },
     "execution_count": 45,
     "metadata": {},
     "output_type": "execute_result"
    }
   ],
   "source": [
    "clf2.fit(tr_sc)"
   ]
  },
  {
   "attachments": {},
   "cell_type": "markdown",
   "metadata": {},
   "source": [
    "#### LOF 비지도학습 알고리즘이라 학습할 필요없이 그냥 바로 fit_predict 해도 될듯?"
   ]
  },
  {
   "cell_type": "code",
   "execution_count": 46,
   "metadata": {},
   "outputs": [
    {
     "data": {
      "text/plain": [
       "array([-1,  1,  1, ...,  1,  1,  1])"
      ]
     },
     "execution_count": 46,
     "metadata": {},
     "output_type": "execute_result"
    }
   ],
   "source": [
    "clf2.fit_predict(te_sc)"
   ]
  },
  {
   "cell_type": "code",
   "execution_count": 47,
   "metadata": {},
   "outputs": [],
   "source": [
    "lof_score = clf2.negative_outlier_factor_"
   ]
  },
  {
   "cell_type": "code",
   "execution_count": 48,
   "metadata": {},
   "outputs": [],
   "source": [
    "lof_threshold = -12"
   ]
  },
  {
   "cell_type": "code",
   "execution_count": 49,
   "metadata": {},
   "outputs": [
    {
     "data": {
      "text/plain": [
       "(-15.0, 0.0)"
      ]
     },
     "execution_count": 49,
     "metadata": {},
     "output_type": "execute_result"
    },
    {
     "data": {
      "image/png": "[encoded data removed]",
      "text/plain": [
       "<Figure size 2000x1000 with 1 Axes>"
      ]
     },
     "metadata": {},
     "output_type": "display_data"
    }
   ],
   "source": [
    "plt.figure(figsize=(20,10))\n",
    "plt.plot(lof_score)\n",
    "plt.axhline(lof_threshold,  color = 'g')\n",
    "plt.ylim(-15,0)"
   ]
  },
  {
   "cell_type": "code",
   "execution_count": 50,
   "metadata": {},
   "outputs": [
    {
     "data": {
      "image/png": "[encoded data removed]",
      "text/plain": [
       "<Figure size 640x480 with 1 Axes>"
      ]
     },
     "metadata": {},
     "output_type": "display_data"
    }
   ],
   "source": [
    "sns.distplot(lof_score)\n",
    "plt.axvline(lof_threshold, color = 'r')\n",
    "plt.show()"
   ]
  },
  {
   "cell_type": "code",
   "execution_count": 51,
   "metadata": {},
   "outputs": [],
   "source": [
    "result.loc[np.where(lof_score<lof_threshold)[0], 'LOF'] = 1"
   ]
  },
  {
   "cell_type": "markdown",
   "metadata": {},
   "source": [
    "---\n",
    "\n",
    "## AutoEncoder"
   ]
  },
  {
   "cell_type": "code",
   "execution_count": 52,
   "metadata": {},
   "outputs": [],
   "source": [
    "import tensorflow as tf\n",
    "from tensorflow.keras.layers import Input, Dense\n",
    "from tensorflow.keras.models import Model"
   ]
  },
  {
   "cell_type": "code",
   "execution_count": 53,
   "metadata": {},
   "outputs": [],
   "source": [
    "input_dim = tr_sc.shape[1]\n",
    "\n",
    "input_layer = Input(shape=(input_dim,))\n",
    "encoder = Dense(32, activation='relu')(input_layer)\n",
    "decoder = Dense(input_dim, activation='relu')(encoder)\n",
    "\n",
    "autoencoder = Model(input_layer, decoder)\n",
    "autoencoder.compile(optimizer='adam', loss='mse')"
   ]
  },
  {
   "cell_type": "code",
   "execution_count": 54,
   "metadata": {},
   "outputs": [
    {
     "name": "stdout",
     "output_type": "stream",
     "text": [
      "Epoch 1/500\n",
      "25/25 [==============================] - 0s 833us/step - loss: 0.7221\n",
      "Epoch 2/500\n",
      "25/25 [==============================] - 0s 667us/step - loss: 0.6001\n",
      "Epoch 3/500\n",
      "25/25 [==============================] - 0s 708us/step - loss: 0.5588\n",
      "Epoch 4/500\n",
      "25/25 [==============================] - 0s 708us/step - loss: 0.5428\n",
      "Epoch 5/500\n",
      "25/25 [==============================] - 0s 667us/step - loss: 0.5355\n",
      "Epoch 6/500\n",
      "25/25 [==============================] - 0s 708us/step - loss: 0.5322\n",
      "Epoch 7/500\n",
      "25/25 [==============================] - 0s 667us/step - loss: 0.5306\n",
      "Epoch 8/500\n",
      "25/25 [==============================] - 0s 667us/step - loss: 0.5297\n",
      "Epoch 9/500\n",
      "25/25 [==============================] - 0s 875us/step - loss: 0.5292\n",
      "Epoch 10/500\n",
      "25/25 [==============================] - 0s 917us/step - loss: 0.5288\n",
      "Epoch 11/500\n",
      "25/25 [==============================] - 0s 667us/step - loss: 0.5285\n",
      "Epoch 12/500\n",
      "25/25 [==============================] - 0s 667us/step - loss: 0.5282\n",
      "Epoch 13/500\n",
      "25/25 [==============================] - 0s 667us/step - loss: 0.5281\n",
      "Epoch 14/500\n",
      "25/25 [==============================] - 0s 619us/step - loss: 0.5279\n",
      "Epoch 15/500\n",
      "25/25 [==============================] - 0s 667us/step - loss: 0.5278\n",
      "Epoch 16/500\n",
      "25/25 [==============================] - 0s 625us/step - loss: 0.5277\n",
      "Epoch 17/500\n",
      "25/25 [==============================] - 0s 667us/step - loss: 0.5276\n",
      "Epoch 18/500\n",
      "25/25 [==============================] - 0s 667us/step - loss: 0.5275\n",
      "Epoch 19/500\n",
      "25/25 [==============================] - 0s 625us/step - loss: 0.5275\n",
      "Epoch 20/500\n",
      "25/25 [==============================] - 0s 625us/step - loss: 0.5274\n",
      "Epoch 21/500\n",
      "25/25 [==============================] - 0s 667us/step - loss: 0.5274\n",
      "Epoch 22/500\n",
      "25/25 [==============================] - 0s 667us/step - loss: 0.5273\n",
      "Epoch 23/500\n",
      "25/25 [==============================] - 0s 625us/step - loss: 0.5273\n",
      "Epoch 24/500\n",
      "25/25 [==============================] - 0s 625us/step - loss: 0.5273\n",
      "Epoch 25/500\n",
      "25/25 [==============================] - 0s 667us/step - loss: 0.5272\n",
      "Epoch 26/500\n",
      "25/25 [==============================] - 0s 625us/step - loss: 0.5272\n",
      "Epoch 27/500\n",
      "25/25 [==============================] - 0s 625us/step - loss: 0.5272\n",
      "Epoch 28/500\n",
      "25/25 [==============================] - 0s 667us/step - loss: 0.5272\n",
      "Epoch 29/500\n",
      "25/25 [==============================] - 0s 667us/step - loss: 0.5272\n",
      "Epoch 30/500\n",
      "25/25 [==============================] - 0s 625us/step - loss: 0.5271\n",
      "Epoch 31/500\n",
      "25/25 [==============================] - 0s 625us/step - loss: 0.5271\n",
      "Epoch 32/500\n",
      "25/25 [==============================] - 0s 625us/step - loss: 0.5271\n",
      "Epoch 33/500\n",
      "25/25 [==============================] - 0s 625us/step - loss: 0.5271\n",
      "Epoch 34/500\n",
      "25/25 [==============================] - 0s 625us/step - loss: 0.5271\n",
      "Epoch 35/500\n",
      "25/25 [==============================] - 0s 625us/step - loss: 0.5271\n",
      "Epoch 36/500\n",
      "25/25 [==============================] - 0s 667us/step - loss: 0.5271\n",
      "Epoch 37/500\n",
      "25/25 [==============================] - 0s 625us/step - loss: 0.5270\n",
      "Epoch 38/500\n",
      "25/25 [==============================] - 0s 625us/step - loss: 0.5270\n",
      "Epoch 39/500\n",
      "25/25 [==============================] - 0s 625us/step - loss: 0.5270\n",
      "Epoch 40/500\n",
      "25/25 [==============================] - 0s 625us/step - loss: 0.5270\n",
      "Epoch 41/500\n",
      "25/25 [==============================] - 0s 625us/step - loss: 0.5270\n",
      "Epoch 42/500\n",
      "25/25 [==============================] - 0s 625us/step - loss: 0.5270\n",
      "Epoch 43/500\n",
      "25/25 [==============================] - 0s 619us/step - loss: 0.5270\n",
      "Epoch 44/500\n",
      "25/25 [==============================] - 0s 625us/step - loss: 0.5270\n",
      "Epoch 45/500\n",
      "25/25 [==============================] - 0s 625us/step - loss: 0.5270\n",
      "Epoch 46/500\n",
      "25/25 [==============================] - 0s 667us/step - loss: 0.5270\n",
      "Epoch 47/500\n",
      "25/25 [==============================] - 0s 625us/step - loss: 0.5270\n",
      "Epoch 48/500\n",
      "25/25 [==============================] - 0s 583us/step - loss: 0.5270\n",
      "Epoch 49/500\n",
      "25/25 [==============================] - 0s 625us/step - loss: 0.5270\n",
      "Epoch 50/500\n",
      "25/25 [==============================] - 0s 792us/step - loss: 0.5270\n",
      "Epoch 51/500\n",
      "25/25 [==============================] - 0s 625us/step - loss: 0.5270\n",
      "Epoch 52/500\n",
      "25/25 [==============================] - 0s 625us/step - loss: 0.5270\n",
      "Epoch 53/500\n",
      "25/25 [==============================] - 0s 625us/step - loss: 0.5269\n",
      "Epoch 54/500\n",
      "25/25 [==============================] - 0s 625us/step - loss: 0.5269\n",
      "Epoch 55/500\n",
      "25/25 [==============================] - 0s 667us/step - loss: 0.5269\n",
      "Epoch 56/500\n",
      "25/25 [==============================] - 0s 625us/step - loss: 0.5269\n",
      "Epoch 57/500\n",
      "25/25 [==============================] - 0s 625us/step - loss: 0.5269\n",
      "Epoch 58/500\n",
      "25/25 [==============================] - 0s 625us/step - loss: 0.5269\n",
      "Epoch 59/500\n",
      "25/25 [==============================] - 0s 625us/step - loss: 0.5269\n",
      "Epoch 60/500\n",
      "25/25 [==============================] - 0s 625us/step - loss: 0.5269\n",
      "Epoch 61/500\n",
      "25/25 [==============================] - 0s 667us/step - loss: 0.5269\n",
      "Epoch 62/500\n",
      "25/25 [==============================] - 0s 625us/step - loss: 0.5269\n",
      "Epoch 63/500\n",
      "25/25 [==============================] - 0s 625us/step - loss: 0.5269\n",
      "Epoch 64/500\n",
      "25/25 [==============================] - 0s 667us/step - loss: 0.5269\n",
      "Epoch 65/500\n",
      "25/25 [==============================] - 0s 625us/step - loss: 0.5269\n",
      "Epoch 66/500\n",
      "25/25 [==============================] - 0s 667us/step - loss: 0.5269\n",
      "Epoch 67/500\n",
      "25/25 [==============================] - 0s 625us/step - loss: 0.5269\n",
      "Epoch 68/500\n",
      "25/25 [==============================] - 0s 625us/step - loss: 0.5269\n",
      "Epoch 69/500\n",
      "25/25 [==============================] - 0s 667us/step - loss: 0.5269\n",
      "Epoch 70/500\n",
      "25/25 [==============================] - 0s 625us/step - loss: 0.5269\n",
      "Epoch 71/500\n",
      "25/25 [==============================] - 0s 625us/step - loss: 0.5269\n",
      "Epoch 72/500\n",
      "25/25 [==============================] - 0s 625us/step - loss: 0.5269\n",
      "Epoch 73/500\n",
      "25/25 [==============================] - 0s 625us/step - loss: 0.5269\n",
      "Epoch 74/500\n",
      "25/25 [==============================] - 0s 625us/step - loss: 0.5269\n",
      "Epoch 75/500\n",
      "25/25 [==============================] - 0s 667us/step - loss: 0.5269\n",
      "Epoch 76/500\n",
      "25/25 [==============================] - 0s 625us/step - loss: 0.5269\n",
      "Epoch 77/500\n",
      "25/25 [==============================] - 0s 667us/step - loss: 0.5269\n",
      "Epoch 78/500\n",
      "25/25 [==============================] - 0s 667us/step - loss: 0.5269\n",
      "Epoch 79/500\n",
      "25/25 [==============================] - 0s 708us/step - loss: 0.5269\n",
      "Epoch 80/500\n",
      "25/25 [==============================] - 0s 625us/step - loss: 0.5269\n",
      "Epoch 81/500\n",
      "25/25 [==============================] - 0s 625us/step - loss: 0.5269\n",
      "Epoch 82/500\n",
      "25/25 [==============================] - 0s 625us/step - loss: 0.5269\n",
      "Epoch 83/500\n",
      "25/25 [==============================] - 0s 667us/step - loss: 0.5269\n",
      "Epoch 84/500\n",
      "25/25 [==============================] - 0s 625us/step - loss: 0.5269\n",
      "Epoch 85/500\n",
      "25/25 [==============================] - 0s 667us/step - loss: 0.5269\n",
      "Epoch 86/500\n",
      "25/25 [==============================] - 0s 625us/step - loss: 0.5269\n",
      "Epoch 87/500\n",
      "25/25 [==============================] - 0s 625us/step - loss: 0.5269\n",
      "Epoch 88/500\n",
      "25/25 [==============================] - 0s 622us/step - loss: 0.5269\n",
      "Epoch 89/500\n",
      "25/25 [==============================] - 0s 625us/step - loss: 0.5269\n",
      "Epoch 90/500\n",
      "25/25 [==============================] - 0s 667us/step - loss: 0.5269\n",
      "Epoch 91/500\n",
      "25/25 [==============================] - 0s 625us/step - loss: 0.5269\n",
      "Epoch 92/500\n",
      "25/25 [==============================] - 0s 625us/step - loss: 0.5269\n",
      "Epoch 93/500\n",
      "25/25 [==============================] - 0s 667us/step - loss: 0.5269\n",
      "Epoch 94/500\n",
      "25/25 [==============================] - 0s 625us/step - loss: 0.5269\n",
      "Epoch 95/500\n",
      "25/25 [==============================] - 0s 625us/step - loss: 0.5269\n",
      "Epoch 96/500\n",
      "25/25 [==============================] - 0s 667us/step - loss: 0.5269\n",
      "Epoch 97/500\n",
      "25/25 [==============================] - 0s 667us/step - loss: 0.5269\n",
      "Epoch 98/500\n",
      "25/25 [==============================] - 0s 667us/step - loss: 0.5269\n",
      "Epoch 99/500\n",
      "25/25 [==============================] - 0s 667us/step - loss: 0.5269\n",
      "Epoch 100/500\n",
      "25/25 [==============================] - 0s 709us/step - loss: 0.5269\n",
      "Epoch 101/500\n",
      "25/25 [==============================] - 0s 667us/step - loss: 0.5269\n",
      "Epoch 102/500\n",
      "25/25 [==============================] - 0s 667us/step - loss: 0.5269\n",
      "Epoch 103/500\n",
      "25/25 [==============================] - 0s 667us/step - loss: 0.5269\n",
      "Epoch 104/500\n",
      "25/25 [==============================] - 0s 667us/step - loss: 0.5269\n",
      "Epoch 105/500\n",
      "25/25 [==============================] - 0s 667us/step - loss: 0.5269\n",
      "Epoch 106/500\n",
      "25/25 [==============================] - 0s 750us/step - loss: 0.5269\n",
      "Epoch 107/500\n",
      "25/25 [==============================] - 0s 792us/step - loss: 0.5269\n",
      "Epoch 108/500\n",
      "25/25 [==============================] - 0s 625us/step - loss: 0.5269\n",
      "Epoch 109/500\n",
      "25/25 [==============================] - 0s 708us/step - loss: 0.5269\n",
      "Epoch 110/500\n",
      "25/25 [==============================] - 0s 667us/step - loss: 0.5269\n",
      "Epoch 111/500\n",
      "25/25 [==============================] - 0s 709us/step - loss: 0.5269\n",
      "Epoch 112/500\n",
      "25/25 [==============================] - 0s 667us/step - loss: 0.5269\n",
      "Epoch 113/500\n",
      "25/25 [==============================] - 0s 667us/step - loss: 0.5269\n",
      "Epoch 114/500\n",
      "25/25 [==============================] - 0s 667us/step - loss: 0.5269\n",
      "Epoch 115/500\n",
      "25/25 [==============================] - 0s 661us/step - loss: 0.5269\n",
      "Epoch 116/500\n",
      "25/25 [==============================] - 0s 708us/step - loss: 0.5269\n",
      "Epoch 117/500\n",
      "25/25 [==============================] - 0s 792us/step - loss: 0.5269\n",
      "Epoch 118/500\n",
      "25/25 [==============================] - 0s 1ms/step - loss: 0.5269\n",
      "Epoch 119/500\n",
      "25/25 [==============================] - 0s 792us/step - loss: 0.5269\n",
      "Epoch 120/500\n",
      "25/25 [==============================] - 0s 662us/step - loss: 0.5269\n",
      "Epoch 121/500\n",
      "25/25 [==============================] - 0s 667us/step - loss: 0.5269\n",
      "Epoch 122/500\n",
      "25/25 [==============================] - 0s 667us/step - loss: 0.5269\n",
      "Epoch 123/500\n",
      "25/25 [==============================] - 0s 667us/step - loss: 0.5269\n",
      "Epoch 124/500\n",
      "25/25 [==============================] - 0s 667us/step - loss: 0.5269\n",
      "Epoch 125/500\n",
      "25/25 [==============================] - 0s 667us/step - loss: 0.5269\n",
      "Epoch 126/500\n",
      "25/25 [==============================] - 0s 625us/step - loss: 0.5269\n",
      "Epoch 127/500\n",
      "25/25 [==============================] - 0s 625us/step - loss: 0.5269\n",
      "Epoch 128/500\n",
      "25/25 [==============================] - 0s 625us/step - loss: 0.5269\n",
      "Epoch 129/500\n",
      "25/25 [==============================] - 0s 625us/step - loss: 0.5269\n",
      "Epoch 130/500\n",
      "25/25 [==============================] - 0s 667us/step - loss: 0.5269\n",
      "Epoch 131/500\n",
      "25/25 [==============================] - 0s 625us/step - loss: 0.5269\n",
      "Epoch 132/500\n",
      "25/25 [==============================] - 0s 667us/step - loss: 0.5269\n",
      "Epoch 133/500\n",
      "25/25 [==============================] - 0s 625us/step - loss: 0.5269\n",
      "Epoch 134/500\n",
      "25/25 [==============================] - 0s 667us/step - loss: 0.5269\n",
      "Epoch 135/500\n",
      "25/25 [==============================] - 0s 667us/step - loss: 0.5269\n",
      "Epoch 136/500\n",
      "25/25 [==============================] - 0s 625us/step - loss: 0.5269\n",
      "Epoch 137/500\n",
      "25/25 [==============================] - 0s 625us/step - loss: 0.5269\n",
      "Epoch 138/500\n",
      "25/25 [==============================] - 0s 625us/step - loss: 0.5269\n",
      "Epoch 139/500\n",
      "25/25 [==============================] - 0s 625us/step - loss: 0.5269\n",
      "Epoch 140/500\n",
      "25/25 [==============================] - 0s 625us/step - loss: 0.5269\n",
      "Epoch 141/500\n",
      "25/25 [==============================] - 0s 625us/step - loss: 0.5269\n",
      "Epoch 142/500\n",
      "25/25 [==============================] - 0s 625us/step - loss: 0.5269\n",
      "Epoch 143/500\n",
      "25/25 [==============================] - 0s 625us/step - loss: 0.5269\n",
      "Epoch 144/500\n",
      "25/25 [==============================] - 0s 625us/step - loss: 0.5269\n",
      "Epoch 145/500\n",
      "25/25 [==============================] - 0s 625us/step - loss: 0.5269\n",
      "Epoch 146/500\n",
      "25/25 [==============================] - 0s 625us/step - loss: 0.5269\n",
      "Epoch 147/500\n",
      "25/25 [==============================] - 0s 667us/step - loss: 0.5269\n",
      "Epoch 148/500\n",
      "25/25 [==============================] - 0s 625us/step - loss: 0.5269\n",
      "Epoch 149/500\n",
      "25/25 [==============================] - 0s 625us/step - loss: 0.5269\n",
      "Epoch 150/500\n",
      "25/25 [==============================] - 0s 625us/step - loss: 0.5269\n",
      "Epoch 151/500\n",
      "25/25 [==============================] - 0s 667us/step - loss: 0.5269\n",
      "Epoch 152/500\n",
      "25/25 [==============================] - 0s 625us/step - loss: 0.5269\n",
      "Epoch 153/500\n",
      "25/25 [==============================] - 0s 667us/step - loss: 0.5269\n",
      "Epoch 154/500\n",
      "25/25 [==============================] - 0s 667us/step - loss: 0.5269\n",
      "Epoch 155/500\n",
      "25/25 [==============================] - 0s 667us/step - loss: 0.5269\n",
      "Epoch 156/500\n",
      "25/25 [==============================] - 0s 667us/step - loss: 0.5269\n",
      "Epoch 157/500\n",
      "25/25 [==============================] - 0s 667us/step - loss: 0.5269\n",
      "Epoch 158/500\n",
      "25/25 [==============================] - 0s 667us/step - loss: 0.5269\n",
      "Epoch 159/500\n",
      "25/25 [==============================] - 0s 708us/step - loss: 0.5269\n",
      "Epoch 160/500\n",
      "25/25 [==============================] - 0s 1ms/step - loss: 0.5269\n",
      "Epoch 161/500\n",
      "25/25 [==============================] - 0s 834us/step - loss: 0.5269\n",
      "Epoch 162/500\n",
      "25/25 [==============================] - 0s 750us/step - loss: 0.5269\n",
      "Epoch 163/500\n",
      "25/25 [==============================] - 0s 667us/step - loss: 0.5269\n",
      "Epoch 164/500\n",
      "25/25 [==============================] - 0s 667us/step - loss: 0.5269\n",
      "Epoch 165/500\n",
      "25/25 [==============================] - 0s 667us/step - loss: 0.5269\n",
      "Epoch 166/500\n",
      "25/25 [==============================] - 0s 667us/step - loss: 0.5269\n",
      "Epoch 167/500\n",
      "25/25 [==============================] - 0s 667us/step - loss: 0.5269\n",
      "Epoch 168/500\n",
      "25/25 [==============================] - 0s 667us/step - loss: 0.5269\n",
      "Epoch 169/500\n",
      "25/25 [==============================] - 0s 708us/step - loss: 0.5269\n",
      "Epoch 170/500\n",
      "25/25 [==============================] - 0s 708us/step - loss: 0.5269\n",
      "Epoch 171/500\n",
      "25/25 [==============================] - 0s 667us/step - loss: 0.5269\n",
      "Epoch 172/500\n",
      "25/25 [==============================] - 0s 667us/step - loss: 0.5269\n",
      "Epoch 173/500\n",
      "25/25 [==============================] - 0s 667us/step - loss: 0.5269\n",
      "Epoch 174/500\n",
      "25/25 [==============================] - 0s 667us/step - loss: 0.5269\n",
      "Epoch 175/500\n",
      "25/25 [==============================] - 0s 667us/step - loss: 0.5269\n",
      "Epoch 176/500\n",
      "25/25 [==============================] - 0s 667us/step - loss: 0.5269\n",
      "Epoch 177/500\n",
      "25/25 [==============================] - 0s 708us/step - loss: 0.5269\n",
      "Epoch 178/500\n",
      "25/25 [==============================] - 0s 750us/step - loss: 0.5269\n",
      "Epoch 179/500\n",
      "25/25 [==============================] - 0s 709us/step - loss: 0.5269\n",
      "Epoch 180/500\n",
      "25/25 [==============================] - 0s 667us/step - loss: 0.5269\n",
      "Epoch 181/500\n",
      "25/25 [==============================] - 0s 667us/step - loss: 0.5269\n",
      "Epoch 182/500\n",
      "25/25 [==============================] - 0s 667us/step - loss: 0.5269\n",
      "Epoch 183/500\n",
      "25/25 [==============================] - 0s 688us/step - loss: 0.5269\n",
      "Epoch 184/500\n",
      "25/25 [==============================] - 0s 625us/step - loss: 0.5269\n",
      "Epoch 185/500\n",
      "25/25 [==============================] - 0s 646us/step - loss: 0.5268\n",
      "Epoch 186/500\n",
      "25/25 [==============================] - 0s 625us/step - loss: 0.5268\n",
      "Epoch 187/500\n",
      "25/25 [==============================] - 0s 625us/step - loss: 0.5268\n",
      "Epoch 188/500\n",
      "25/25 [==============================] - 0s 625us/step - loss: 0.5268\n",
      "Epoch 189/500\n",
      "25/25 [==============================] - 0s 1ms/step - loss: 0.5268\n",
      "Epoch 190/500\n",
      "25/25 [==============================] - 0s 834us/step - loss: 0.5269\n",
      "Epoch 191/500\n",
      "25/25 [==============================] - 0s 750us/step - loss: 0.5268\n",
      "Epoch 192/500\n",
      "25/25 [==============================] - 0s 625us/step - loss: 0.5269\n",
      "Epoch 193/500\n",
      "25/25 [==============================] - 0s 667us/step - loss: 0.5268\n",
      "Epoch 194/500\n",
      "25/25 [==============================] - 0s 667us/step - loss: 0.5268\n",
      "Epoch 195/500\n",
      "25/25 [==============================] - 0s 625us/step - loss: 0.5268\n",
      "Epoch 196/500\n",
      "25/25 [==============================] - 0s 625us/step - loss: 0.5268\n",
      "Epoch 197/500\n",
      "25/25 [==============================] - 0s 625us/step - loss: 0.5268\n",
      "Epoch 198/500\n",
      "25/25 [==============================] - 0s 667us/step - loss: 0.5269\n",
      "Epoch 199/500\n",
      "25/25 [==============================] - 0s 625us/step - loss: 0.5268\n",
      "Epoch 200/500\n",
      "25/25 [==============================] - 0s 625us/step - loss: 0.5269\n",
      "Epoch 201/500\n",
      "25/25 [==============================] - 0s 667us/step - loss: 0.5269\n",
      "Epoch 202/500\n",
      "25/25 [==============================] - 0s 625us/step - loss: 0.5268\n",
      "Epoch 203/500\n",
      "25/25 [==============================] - 0s 625us/step - loss: 0.5268\n",
      "Epoch 204/500\n",
      "25/25 [==============================] - 0s 625us/step - loss: 0.5268\n",
      "Epoch 205/500\n",
      "25/25 [==============================] - 0s 625us/step - loss: 0.5268\n",
      "Epoch 206/500\n",
      "25/25 [==============================] - 0s 625us/step - loss: 0.5268\n",
      "Epoch 207/500\n",
      "25/25 [==============================] - 0s 625us/step - loss: 0.5268\n",
      "Epoch 208/500\n",
      "25/25 [==============================] - 0s 667us/step - loss: 0.5268\n",
      "Epoch 209/500\n",
      "25/25 [==============================] - 0s 625us/step - loss: 0.5268\n",
      "Epoch 210/500\n",
      "25/25 [==============================] - 0s 667us/step - loss: 0.5268\n",
      "Epoch 211/500\n",
      "25/25 [==============================] - 0s 667us/step - loss: 0.5268\n",
      "Epoch 212/500\n",
      "25/25 [==============================] - 0s 625us/step - loss: 0.5268\n",
      "Epoch 213/500\n",
      "25/25 [==============================] - 0s 667us/step - loss: 0.5268\n",
      "Epoch 214/500\n",
      "25/25 [==============================] - 0s 625us/step - loss: 0.5268\n",
      "Epoch 215/500\n",
      "25/25 [==============================] - 0s 625us/step - loss: 0.5269\n",
      "Epoch 216/500\n",
      "25/25 [==============================] - 0s 625us/step - loss: 0.5268\n",
      "Epoch 217/500\n",
      "25/25 [==============================] - 0s 625us/step - loss: 0.5268\n",
      "Epoch 218/500\n",
      "25/25 [==============================] - 0s 750us/step - loss: 0.5268\n",
      "Epoch 219/500\n",
      "25/25 [==============================] - 0s 667us/step - loss: 0.5268\n",
      "Epoch 220/500\n",
      "25/25 [==============================] - 0s 708us/step - loss: 0.5268\n",
      "Epoch 221/500\n",
      "25/25 [==============================] - 0s 792us/step - loss: 0.5268\n",
      "Epoch 222/500\n",
      "25/25 [==============================] - 0s 667us/step - loss: 0.5268\n",
      "Epoch 223/500\n",
      "25/25 [==============================] - 0s 625us/step - loss: 0.5268\n",
      "Epoch 224/500\n",
      "25/25 [==============================] - 0s 625us/step - loss: 0.5268\n",
      "Epoch 225/500\n",
      "25/25 [==============================] - 0s 625us/step - loss: 0.5268\n",
      "Epoch 226/500\n",
      "25/25 [==============================] - 0s 625us/step - loss: 0.5268\n",
      "Epoch 227/500\n",
      "25/25 [==============================] - 0s 667us/step - loss: 0.5268\n",
      "Epoch 228/500\n",
      "25/25 [==============================] - 0s 667us/step - loss: 0.5268\n",
      "Epoch 229/500\n",
      "25/25 [==============================] - 0s 625us/step - loss: 0.5268\n",
      "Epoch 230/500\n",
      "25/25 [==============================] - 0s 667us/step - loss: 0.5268\n",
      "Epoch 231/500\n",
      "25/25 [==============================] - 0s 625us/step - loss: 0.5268\n",
      "Epoch 232/500\n",
      "25/25 [==============================] - 0s 625us/step - loss: 0.5268\n",
      "Epoch 233/500\n",
      "25/25 [==============================] - 0s 625us/step - loss: 0.5268\n",
      "Epoch 234/500\n",
      "25/25 [==============================] - 0s 667us/step - loss: 0.5268\n",
      "Epoch 235/500\n",
      "25/25 [==============================] - 0s 667us/step - loss: 0.5268\n",
      "Epoch 236/500\n",
      "25/25 [==============================] - 0s 625us/step - loss: 0.5268\n",
      "Epoch 237/500\n",
      "25/25 [==============================] - 0s 667us/step - loss: 0.5268\n",
      "Epoch 238/500\n",
      "25/25 [==============================] - 0s 667us/step - loss: 0.5268\n",
      "Epoch 239/500\n",
      "25/25 [==============================] - 0s 625us/step - loss: 0.5268\n",
      "Epoch 240/500\n",
      "25/25 [==============================] - 0s 625us/step - loss: 0.5268\n",
      "Epoch 241/500\n",
      "25/25 [==============================] - 0s 667us/step - loss: 0.5268\n",
      "Epoch 242/500\n",
      "25/25 [==============================] - 0s 625us/step - loss: 0.5268\n",
      "Epoch 243/500\n",
      "25/25 [==============================] - 0s 667us/step - loss: 0.5268\n",
      "Epoch 244/500\n",
      "25/25 [==============================] - 0s 625us/step - loss: 0.5268\n",
      "Epoch 245/500\n",
      "25/25 [==============================] - 0s 709us/step - loss: 0.5268\n",
      "Epoch 246/500\n",
      "25/25 [==============================] - 0s 625us/step - loss: 0.5268\n",
      "Epoch 247/500\n",
      "25/25 [==============================] - 0s 625us/step - loss: 0.5268\n",
      "Epoch 248/500\n",
      "25/25 [==============================] - 0s 625us/step - loss: 0.5268\n",
      "Epoch 249/500\n",
      "25/25 [==============================] - 0s 625us/step - loss: 0.5268\n",
      "Epoch 250/500\n",
      "25/25 [==============================] - 0s 625us/step - loss: 0.5268\n",
      "Epoch 251/500\n",
      "25/25 [==============================] - 0s 667us/step - loss: 0.5268\n",
      "Epoch 252/500\n",
      "25/25 [==============================] - 0s 667us/step - loss: 0.5268\n",
      "Epoch 253/500\n",
      "25/25 [==============================] - 0s 625us/step - loss: 0.5268\n",
      "Epoch 254/500\n",
      "25/25 [==============================] - 0s 667us/step - loss: 0.5268\n",
      "Epoch 255/500\n",
      "25/25 [==============================] - 0s 625us/step - loss: 0.5268\n",
      "Epoch 256/500\n",
      "25/25 [==============================] - 0s 665us/step - loss: 0.5268\n",
      "Epoch 257/500\n",
      "25/25 [==============================] - 0s 625us/step - loss: 0.5268\n",
      "Epoch 258/500\n",
      "25/25 [==============================] - 0s 625us/step - loss: 0.5268\n",
      "Epoch 259/500\n",
      "25/25 [==============================] - 0s 625us/step - loss: 0.5268\n",
      "Epoch 260/500\n",
      "25/25 [==============================] - 0s 667us/step - loss: 0.5268\n",
      "Epoch 261/500\n",
      "25/25 [==============================] - 0s 625us/step - loss: 0.5268\n",
      "Epoch 262/500\n",
      "25/25 [==============================] - 0s 652us/step - loss: 0.5268\n",
      "Epoch 263/500\n",
      "25/25 [==============================] - 0s 667us/step - loss: 0.5268\n",
      "Epoch 264/500\n",
      "25/25 [==============================] - 0s 625us/step - loss: 0.5268\n",
      "Epoch 265/500\n",
      "25/25 [==============================] - 0s 625us/step - loss: 0.5268\n",
      "Epoch 266/500\n",
      "25/25 [==============================] - 0s 625us/step - loss: 0.5268\n",
      "Epoch 267/500\n",
      "25/25 [==============================] - 0s 625us/step - loss: 0.5268\n",
      "Epoch 268/500\n",
      "25/25 [==============================] - 0s 625us/step - loss: 0.5268\n",
      "Epoch 269/500\n",
      "25/25 [==============================] - 0s 1ms/step - loss: 0.5268\n",
      "Epoch 270/500\n",
      "25/25 [==============================] - 0s 875us/step - loss: 0.5268\n",
      "Epoch 271/500\n",
      "25/25 [==============================] - 0s 709us/step - loss: 0.5268\n",
      "Epoch 272/500\n",
      "25/25 [==============================] - 0s 667us/step - loss: 0.5268\n",
      "Epoch 273/500\n",
      "25/25 [==============================] - 0s 833us/step - loss: 0.5268\n",
      "Epoch 274/500\n",
      "25/25 [==============================] - 0s 667us/step - loss: 0.5268\n",
      "Epoch 275/500\n",
      "25/25 [==============================] - 0s 709us/step - loss: 0.5268\n",
      "Epoch 276/500\n",
      "25/25 [==============================] - 0s 667us/step - loss: 0.5268\n",
      "Epoch 277/500\n",
      "25/25 [==============================] - 0s 667us/step - loss: 0.5268\n",
      "Epoch 278/500\n",
      "25/25 [==============================] - 0s 667us/step - loss: 0.5268\n",
      "Epoch 279/500\n",
      "25/25 [==============================] - 0s 667us/step - loss: 0.5268\n",
      "Epoch 280/500\n",
      "25/25 [==============================] - 0s 709us/step - loss: 0.5268\n",
      "Epoch 281/500\n",
      "25/25 [==============================] - 0s 667us/step - loss: 0.5268\n",
      "Epoch 282/500\n",
      "25/25 [==============================] - 0s 708us/step - loss: 0.5268\n",
      "Epoch 283/500\n",
      "25/25 [==============================] - 0s 667us/step - loss: 0.5268\n",
      "Epoch 284/500\n",
      "25/25 [==============================] - 0s 709us/step - loss: 0.5268\n",
      "Epoch 285/500\n",
      "25/25 [==============================] - 0s 667us/step - loss: 0.5268\n",
      "Epoch 286/500\n",
      "25/25 [==============================] - 0s 667us/step - loss: 0.5268\n",
      "Epoch 287/500\n",
      "25/25 [==============================] - 0s 667us/step - loss: 0.5268\n",
      "Epoch 288/500\n",
      "25/25 [==============================] - 0s 667us/step - loss: 0.5268\n",
      "Epoch 289/500\n",
      "25/25 [==============================] - 0s 708us/step - loss: 0.5268\n",
      "Epoch 290/500\n",
      "25/25 [==============================] - 0s 708us/step - loss: 0.5268\n",
      "Epoch 291/500\n",
      "25/25 [==============================] - 0s 667us/step - loss: 0.5268\n",
      "Epoch 292/500\n",
      "25/25 [==============================] - 0s 667us/step - loss: 0.5268\n",
      "Epoch 293/500\n",
      "25/25 [==============================] - 0s 667us/step - loss: 0.5268\n",
      "Epoch 294/500\n",
      "25/25 [==============================] - 0s 667us/step - loss: 0.5268\n",
      "Epoch 295/500\n",
      "25/25 [==============================] - 0s 667us/step - loss: 0.5268\n",
      "Epoch 296/500\n",
      "25/25 [==============================] - 0s 667us/step - loss: 0.5268\n",
      "Epoch 297/500\n",
      "25/25 [==============================] - 0s 667us/step - loss: 0.5268\n",
      "Epoch 298/500\n",
      "25/25 [==============================] - 0s 667us/step - loss: 0.5268\n",
      "Epoch 299/500\n",
      "25/25 [==============================] - 0s 660us/step - loss: 0.5268\n",
      "Epoch 300/500\n",
      "25/25 [==============================] - 0s 750us/step - loss: 0.5268\n",
      "Epoch 301/500\n",
      "25/25 [==============================] - 0s 625us/step - loss: 0.5268\n",
      "Epoch 302/500\n",
      "25/25 [==============================] - 0s 625us/step - loss: 0.5268\n",
      "Epoch 303/500\n",
      "25/25 [==============================] - 0s 667us/step - loss: 0.5268\n",
      "Epoch 304/500\n",
      "25/25 [==============================] - 0s 625us/step - loss: 0.5268\n",
      "Epoch 305/500\n",
      "25/25 [==============================] - 0s 625us/step - loss: 0.5268\n",
      "Epoch 306/500\n",
      "25/25 [==============================] - 0s 625us/step - loss: 0.5268\n",
      "Epoch 307/500\n",
      "25/25 [==============================] - 0s 625us/step - loss: 0.5268\n",
      "Epoch 308/500\n",
      "25/25 [==============================] - 0s 667us/step - loss: 0.5268\n",
      "Epoch 309/500\n",
      "25/25 [==============================] - 0s 625us/step - loss: 0.5268\n",
      "Epoch 310/500\n",
      "25/25 [==============================] - 0s 625us/step - loss: 0.5268\n",
      "Epoch 311/500\n",
      "25/25 [==============================] - 0s 625us/step - loss: 0.5268\n",
      "Epoch 312/500\n",
      "25/25 [==============================] - 0s 667us/step - loss: 0.5268\n",
      "Epoch 313/500\n",
      "25/25 [==============================] - 0s 1ms/step - loss: 0.5268\n",
      "Epoch 314/500\n",
      "25/25 [==============================] - 0s 708us/step - loss: 0.5268\n",
      "Epoch 315/500\n",
      "25/25 [==============================] - 0s 625us/step - loss: 0.5268\n",
      "Epoch 316/500\n",
      "25/25 [==============================] - 0s 667us/step - loss: 0.5268\n",
      "Epoch 317/500\n",
      "25/25 [==============================] - 0s 667us/step - loss: 0.5268\n",
      "Epoch 318/500\n",
      "25/25 [==============================] - 0s 625us/step - loss: 0.5268\n",
      "Epoch 319/500\n",
      "25/25 [==============================] - 0s 625us/step - loss: 0.5268\n",
      "Epoch 320/500\n",
      "25/25 [==============================] - 0s 625us/step - loss: 0.5268\n",
      "Epoch 321/500\n",
      "25/25 [==============================] - 0s 625us/step - loss: 0.5268\n",
      "Epoch 322/500\n",
      "25/25 [==============================] - 0s 625us/step - loss: 0.5268\n",
      "Epoch 323/500\n",
      "25/25 [==============================] - 0s 625us/step - loss: 0.5268\n",
      "Epoch 324/500\n",
      "25/25 [==============================] - 0s 667us/step - loss: 0.5268\n",
      "Epoch 325/500\n",
      "25/25 [==============================] - 0s 625us/step - loss: 0.5268\n",
      "Epoch 326/500\n",
      "25/25 [==============================] - 0s 625us/step - loss: 0.5268\n",
      "Epoch 327/500\n",
      "25/25 [==============================] - 0s 625us/step - loss: 0.5268\n",
      "Epoch 328/500\n",
      "25/25 [==============================] - 0s 667us/step - loss: 0.5268\n",
      "Epoch 329/500\n",
      "25/25 [==============================] - 0s 750us/step - loss: 0.5268\n",
      "Epoch 330/500\n",
      "25/25 [==============================] - 0s 667us/step - loss: 0.5268\n",
      "Epoch 331/500\n",
      "25/25 [==============================] - 0s 625us/step - loss: 0.5268\n",
      "Epoch 332/500\n",
      "25/25 [==============================] - 0s 583us/step - loss: 0.5268\n",
      "Epoch 333/500\n",
      "25/25 [==============================] - 0s 625us/step - loss: 0.5268\n",
      "Epoch 334/500\n",
      "25/25 [==============================] - 0s 625us/step - loss: 0.5268\n",
      "Epoch 335/500\n",
      "25/25 [==============================] - 0s 625us/step - loss: 0.5268\n",
      "Epoch 336/500\n",
      "25/25 [==============================] - 0s 667us/step - loss: 0.5268\n",
      "Epoch 337/500\n",
      "25/25 [==============================] - 0s 625us/step - loss: 0.5268\n",
      "Epoch 338/500\n",
      "25/25 [==============================] - 0s 1ms/step - loss: 0.5268\n",
      "Epoch 339/500\n",
      "25/25 [==============================] - 0s 792us/step - loss: 0.5268\n",
      "Epoch 340/500\n",
      "25/25 [==============================] - 0s 667us/step - loss: 0.5268\n",
      "Epoch 341/500\n",
      "25/25 [==============================] - 0s 708us/step - loss: 0.5268\n",
      "Epoch 342/500\n",
      "25/25 [==============================] - 0s 625us/step - loss: 0.5268\n",
      "Epoch 343/500\n",
      "25/25 [==============================] - 0s 666us/step - loss: 0.5268\n",
      "Epoch 344/500\n",
      "25/25 [==============================] - 0s 625us/step - loss: 0.5268\n",
      "Epoch 345/500\n",
      "25/25 [==============================] - 0s 625us/step - loss: 0.5268\n",
      "Epoch 346/500\n",
      "25/25 [==============================] - 0s 625us/step - loss: 0.5268\n",
      "Epoch 347/500\n",
      "25/25 [==============================] - 0s 628us/step - loss: 0.5268\n",
      "Epoch 348/500\n",
      "25/25 [==============================] - 0s 667us/step - loss: 0.5268\n",
      "Epoch 349/500\n",
      "25/25 [==============================] - 0s 625us/step - loss: 0.5268\n",
      "Epoch 350/500\n",
      "25/25 [==============================] - 0s 625us/step - loss: 0.5268\n",
      "Epoch 351/500\n",
      "25/25 [==============================] - 0s 625us/step - loss: 0.5268\n",
      "Epoch 352/500\n",
      "25/25 [==============================] - 0s 625us/step - loss: 0.5268\n",
      "Epoch 353/500\n",
      "25/25 [==============================] - 0s 625us/step - loss: 0.5268\n",
      "Epoch 354/500\n",
      "25/25 [==============================] - 0s 625us/step - loss: 0.5268\n",
      "Epoch 355/500\n",
      "25/25 [==============================] - 0s 625us/step - loss: 0.5268\n",
      "Epoch 356/500\n",
      "25/25 [==============================] - 0s 667us/step - loss: 0.5268\n",
      "Epoch 357/500\n",
      "25/25 [==============================] - 0s 750us/step - loss: 0.5268\n",
      "Epoch 358/500\n",
      "25/25 [==============================] - 0s 625us/step - loss: 0.5268\n",
      "Epoch 359/500\n",
      "25/25 [==============================] - 0s 667us/step - loss: 0.5268\n",
      "Epoch 360/500\n",
      "25/25 [==============================] - 0s 667us/step - loss: 0.5268\n",
      "Epoch 361/500\n",
      "25/25 [==============================] - 0s 625us/step - loss: 0.5268\n",
      "Epoch 362/500\n",
      "25/25 [==============================] - 0s 667us/step - loss: 0.5268\n",
      "Epoch 363/500\n",
      "25/25 [==============================] - 0s 625us/step - loss: 0.5268\n",
      "Epoch 364/500\n",
      "25/25 [==============================] - 0s 625us/step - loss: 0.5268\n",
      "Epoch 365/500\n",
      "25/25 [==============================] - 0s 625us/step - loss: 0.5268\n",
      "Epoch 366/500\n",
      "25/25 [==============================] - 0s 667us/step - loss: 0.5268\n",
      "Epoch 367/500\n",
      "25/25 [==============================] - 0s 625us/step - loss: 0.5268\n",
      "Epoch 368/500\n",
      "25/25 [==============================] - 0s 625us/step - loss: 0.5268\n",
      "Epoch 369/500\n",
      "25/25 [==============================] - 0s 625us/step - loss: 0.5268\n",
      "Epoch 370/500\n",
      "25/25 [==============================] - 0s 625us/step - loss: 0.5268\n",
      "Epoch 371/500\n",
      "25/25 [==============================] - 0s 667us/step - loss: 0.5268\n",
      "Epoch 372/500\n",
      "25/25 [==============================] - 0s 625us/step - loss: 0.5268\n",
      "Epoch 373/500\n",
      "25/25 [==============================] - 0s 625us/step - loss: 0.5268\n",
      "Epoch 374/500\n",
      "25/25 [==============================] - 0s 625us/step - loss: 0.5268\n",
      "Epoch 375/500\n",
      "25/25 [==============================] - 0s 667us/step - loss: 0.5268\n",
      "Epoch 376/500\n",
      "25/25 [==============================] - 0s 625us/step - loss: 0.5268\n",
      "Epoch 377/500\n",
      "25/25 [==============================] - 0s 625us/step - loss: 0.5268\n",
      "Epoch 378/500\n",
      "25/25 [==============================] - 0s 959us/step - loss: 0.5268\n",
      "Epoch 379/500\n",
      "25/25 [==============================] - 0s 731us/step - loss: 0.5268\n",
      "Epoch 380/500\n",
      "25/25 [==============================] - 0s 667us/step - loss: 0.5268\n",
      "Epoch 381/500\n",
      "25/25 [==============================] - 0s 625us/step - loss: 0.5268\n",
      "Epoch 382/500\n",
      "25/25 [==============================] - 0s 667us/step - loss: 0.5268\n",
      "Epoch 383/500\n",
      "25/25 [==============================] - 0s 709us/step - loss: 0.5268\n",
      "Epoch 384/500\n",
      "25/25 [==============================] - 0s 667us/step - loss: 0.5268\n",
      "Epoch 385/500\n",
      "25/25 [==============================] - 0s 1ms/step - loss: 0.5268\n",
      "Epoch 386/500\n",
      "25/25 [==============================] - 0s 750us/step - loss: 0.5268\n",
      "Epoch 387/500\n",
      "25/25 [==============================] - 0s 667us/step - loss: 0.5268\n",
      "Epoch 388/500\n",
      "25/25 [==============================] - 0s 667us/step - loss: 0.5268\n",
      "Epoch 389/500\n",
      "25/25 [==============================] - 0s 667us/step - loss: 0.5268\n",
      "Epoch 390/500\n",
      "25/25 [==============================] - 0s 709us/step - loss: 0.5268\n",
      "Epoch 391/500\n",
      "25/25 [==============================] - 0s 667us/step - loss: 0.5268\n",
      "Epoch 392/500\n",
      "25/25 [==============================] - 0s 667us/step - loss: 0.5268\n",
      "Epoch 393/500\n",
      "25/25 [==============================] - 0s 709us/step - loss: 0.5268\n",
      "Epoch 394/500\n",
      "25/25 [==============================] - 0s 667us/step - loss: 0.5268\n",
      "Epoch 395/500\n",
      "25/25 [==============================] - 0s 667us/step - loss: 0.5268\n",
      "Epoch 396/500\n",
      "25/25 [==============================] - 0s 667us/step - loss: 0.5268\n",
      "Epoch 397/500\n",
      "25/25 [==============================] - 0s 667us/step - loss: 0.5268\n",
      "Epoch 398/500\n",
      "25/25 [==============================] - 0s 667us/step - loss: 0.5268\n",
      "Epoch 399/500\n",
      "25/25 [==============================] - 0s 667us/step - loss: 0.5268\n",
      "Epoch 400/500\n",
      "25/25 [==============================] - 0s 667us/step - loss: 0.5268\n",
      "Epoch 401/500\n",
      "25/25 [==============================] - 0s 667us/step - loss: 0.5268\n",
      "Epoch 402/500\n",
      "25/25 [==============================] - 0s 667us/step - loss: 0.5268\n",
      "Epoch 403/500\n",
      "25/25 [==============================] - 0s 667us/step - loss: 0.5268\n",
      "Epoch 404/500\n",
      "25/25 [==============================] - 0s 625us/step - loss: 0.5268\n",
      "Epoch 405/500\n",
      "25/25 [==============================] - 0s 667us/step - loss: 0.5268\n",
      "Epoch 406/500\n",
      "25/25 [==============================] - 0s 667us/step - loss: 0.5268\n",
      "Epoch 407/500\n",
      "25/25 [==============================] - 0s 708us/step - loss: 0.5268\n",
      "Epoch 408/500\n",
      "25/25 [==============================] - 0s 667us/step - loss: 0.5268\n",
      "Epoch 409/500\n",
      "25/25 [==============================] - 0s 708us/step - loss: 0.5268\n",
      "Epoch 410/500\n",
      "25/25 [==============================] - 0s 1ms/step - loss: 0.5268\n",
      "Epoch 411/500\n",
      "25/25 [==============================] - 0s 667us/step - loss: 0.5268\n",
      "Epoch 412/500\n",
      "25/25 [==============================] - 0s 667us/step - loss: 0.5268\n",
      "Epoch 413/500\n",
      "25/25 [==============================] - 0s 667us/step - loss: 0.5268\n",
      "Epoch 414/500\n",
      "25/25 [==============================] - 0s 667us/step - loss: 0.5268\n",
      "Epoch 415/500\n",
      "25/25 [==============================] - 0s 667us/step - loss: 0.5268\n",
      "Epoch 416/500\n",
      "25/25 [==============================] - 0s 667us/step - loss: 0.5268\n",
      "Epoch 417/500\n",
      "25/25 [==============================] - 0s 667us/step - loss: 0.5268\n",
      "Epoch 418/500\n",
      "25/25 [==============================] - 0s 667us/step - loss: 0.5268\n",
      "Epoch 419/500\n",
      "25/25 [==============================] - 0s 667us/step - loss: 0.5268\n",
      "Epoch 420/500\n",
      "25/25 [==============================] - 0s 625us/step - loss: 0.5268\n",
      "Epoch 421/500\n",
      "25/25 [==============================] - 0s 667us/step - loss: 0.5268\n",
      "Epoch 422/500\n",
      "25/25 [==============================] - 0s 625us/step - loss: 0.5268\n",
      "Epoch 423/500\n",
      "25/25 [==============================] - 0s 625us/step - loss: 0.5268\n",
      "Epoch 424/500\n",
      "25/25 [==============================] - 0s 667us/step - loss: 0.5268\n",
      "Epoch 425/500\n",
      "25/25 [==============================] - 0s 625us/step - loss: 0.5268\n",
      "Epoch 426/500\n",
      "25/25 [==============================] - 0s 625us/step - loss: 0.5268\n",
      "Epoch 427/500\n",
      "25/25 [==============================] - 0s 667us/step - loss: 0.5268\n",
      "Epoch 428/500\n",
      "25/25 [==============================] - 0s 667us/step - loss: 0.5268\n",
      "Epoch 429/500\n",
      "25/25 [==============================] - 0s 667us/step - loss: 0.5268\n",
      "Epoch 430/500\n",
      "25/25 [==============================] - 0s 667us/step - loss: 0.5268\n",
      "Epoch 431/500\n",
      "25/25 [==============================] - 0s 667us/step - loss: 0.5268\n",
      "Epoch 432/500\n",
      "25/25 [==============================] - 0s 625us/step - loss: 0.5268\n",
      "Epoch 433/500\n",
      "25/25 [==============================] - 0s 667us/step - loss: 0.5268\n",
      "Epoch 434/500\n",
      "25/25 [==============================] - 0s 625us/step - loss: 0.5268\n",
      "Epoch 435/500\n",
      "25/25 [==============================] - 0s 667us/step - loss: 0.5268\n",
      "Epoch 436/500\n",
      "25/25 [==============================] - 0s 667us/step - loss: 0.5268\n",
      "Epoch 437/500\n",
      "25/25 [==============================] - 0s 667us/step - loss: 0.5268\n",
      "Epoch 438/500\n",
      "25/25 [==============================] - 0s 667us/step - loss: 0.5268\n",
      "Epoch 439/500\n",
      "25/25 [==============================] - 0s 667us/step - loss: 0.5268\n",
      "Epoch 440/500\n",
      "25/25 [==============================] - 0s 625us/step - loss: 0.5268\n",
      "Epoch 441/500\n",
      "25/25 [==============================] - 0s 667us/step - loss: 0.5268\n",
      "Epoch 442/500\n",
      "25/25 [==============================] - 0s 1ms/step - loss: 0.5268\n",
      "Epoch 443/500\n",
      "25/25 [==============================] - 0s 750us/step - loss: 0.5268\n",
      "Epoch 444/500\n",
      "25/25 [==============================] - 0s 667us/step - loss: 0.5268\n",
      "Epoch 445/500\n",
      "25/25 [==============================] - 0s 667us/step - loss: 0.5268\n",
      "Epoch 446/500\n",
      "25/25 [==============================] - 0s 667us/step - loss: 0.5268\n",
      "Epoch 447/500\n",
      "25/25 [==============================] - 0s 667us/step - loss: 0.5268\n",
      "Epoch 448/500\n",
      "25/25 [==============================] - 0s 667us/step - loss: 0.5268\n",
      "Epoch 449/500\n",
      "25/25 [==============================] - 0s 667us/step - loss: 0.5268\n",
      "Epoch 450/500\n",
      "25/25 [==============================] - 0s 625us/step - loss: 0.5268\n",
      "Epoch 451/500\n",
      "25/25 [==============================] - 0s 625us/step - loss: 0.5268\n",
      "Epoch 452/500\n",
      "25/25 [==============================] - 0s 625us/step - loss: 0.5268\n",
      "Epoch 453/500\n",
      "25/25 [==============================] - 0s 625us/step - loss: 0.5268\n",
      "Epoch 454/500\n",
      "25/25 [==============================] - 0s 667us/step - loss: 0.5268\n",
      "Epoch 455/500\n",
      "25/25 [==============================] - 0s 667us/step - loss: 0.5268\n",
      "Epoch 456/500\n",
      "25/25 [==============================] - 0s 625us/step - loss: 0.5268\n",
      "Epoch 457/500\n",
      "25/25 [==============================] - 0s 667us/step - loss: 0.5268\n",
      "Epoch 458/500\n",
      "25/25 [==============================] - 0s 625us/step - loss: 0.5268\n",
      "Epoch 459/500\n",
      "25/25 [==============================] - 0s 625us/step - loss: 0.5268\n",
      "Epoch 460/500\n",
      "25/25 [==============================] - 0s 667us/step - loss: 0.5268\n",
      "Epoch 461/500\n",
      "25/25 [==============================] - 0s 667us/step - loss: 0.5268\n",
      "Epoch 462/500\n",
      "25/25 [==============================] - 0s 667us/step - loss: 0.5268\n",
      "Epoch 463/500\n",
      "25/25 [==============================] - 0s 667us/step - loss: 0.5268\n",
      "Epoch 464/500\n",
      "25/25 [==============================] - 0s 625us/step - loss: 0.5268\n",
      "Epoch 465/500\n",
      "25/25 [==============================] - 0s 625us/step - loss: 0.5268\n",
      "Epoch 466/500\n",
      "25/25 [==============================] - 0s 709us/step - loss: 0.5268\n",
      "Epoch 467/500\n",
      "25/25 [==============================] - 0s 625us/step - loss: 0.5268\n",
      "Epoch 468/500\n",
      "25/25 [==============================] - 0s 667us/step - loss: 0.5268\n",
      "Epoch 469/500\n",
      "25/25 [==============================] - 0s 625us/step - loss: 0.5268\n",
      "Epoch 470/500\n",
      "25/25 [==============================] - 0s 625us/step - loss: 0.5268\n",
      "Epoch 471/500\n",
      "25/25 [==============================] - 0s 667us/step - loss: 0.5268\n",
      "Epoch 472/500\n",
      "25/25 [==============================] - 0s 622us/step - loss: 0.5268\n",
      "Epoch 473/500\n",
      "25/25 [==============================] - 0s 667us/step - loss: 0.5268\n",
      "Epoch 474/500\n",
      "25/25 [==============================] - 0s 625us/step - loss: 0.5268\n",
      "Epoch 475/500\n",
      "25/25 [==============================] - 0s 625us/step - loss: 0.5268\n",
      "Epoch 476/500\n",
      "25/25 [==============================] - 0s 667us/step - loss: 0.5268\n",
      "Epoch 477/500\n",
      "25/25 [==============================] - 0s 667us/step - loss: 0.5268\n",
      "Epoch 478/500\n",
      "25/25 [==============================] - 0s 625us/step - loss: 0.5268\n",
      "Epoch 479/500\n",
      "25/25 [==============================] - 0s 625us/step - loss: 0.5268\n",
      "Epoch 480/500\n",
      "25/25 [==============================] - 0s 625us/step - loss: 0.5268\n",
      "Epoch 481/500\n",
      "25/25 [==============================] - 0s 625us/step - loss: 0.5268\n",
      "Epoch 482/500\n",
      "25/25 [==============================] - 0s 625us/step - loss: 0.5268\n",
      "Epoch 483/500\n",
      "25/25 [==============================] - 0s 667us/step - loss: 0.5268\n",
      "Epoch 484/500\n",
      "25/25 [==============================] - 0s 625us/step - loss: 0.5268\n",
      "Epoch 485/500\n",
      "25/25 [==============================] - 0s 667us/step - loss: 0.5268\n",
      "Epoch 486/500\n",
      "25/25 [==============================] - 0s 625us/step - loss: 0.5268\n",
      "Epoch 487/500\n",
      "25/25 [==============================] - 0s 625us/step - loss: 0.5268\n",
      "Epoch 488/500\n",
      "25/25 [==============================] - 0s 625us/step - loss: 0.5268\n",
      "Epoch 489/500\n",
      "25/25 [==============================] - 0s 625us/step - loss: 0.5268\n",
      "Epoch 490/500\n",
      "25/25 [==============================] - 0s 667us/step - loss: 0.5268\n",
      "Epoch 491/500\n",
      "25/25 [==============================] - 0s 625us/step - loss: 0.5268\n",
      "Epoch 492/500\n",
      "25/25 [==============================] - 0s 667us/step - loss: 0.5268\n",
      "Epoch 493/500\n",
      "25/25 [==============================] - 0s 625us/step - loss: 0.5268\n",
      "Epoch 494/500\n",
      "25/25 [==============================] - 0s 625us/step - loss: 0.5268\n",
      "Epoch 495/500\n",
      "25/25 [==============================] - 0s 708us/step - loss: 0.5268\n",
      "Epoch 496/500\n",
      "25/25 [==============================] - 0s 667us/step - loss: 0.5268\n",
      "Epoch 497/500\n",
      "25/25 [==============================] - 0s 667us/step - loss: 0.5268\n",
      "Epoch 498/500\n",
      "25/25 [==============================] - 0s 667us/step - loss: 0.5268\n",
      "Epoch 499/500\n",
      "25/25 [==============================] - 0s 1ms/step - loss: 0.5268\n",
      "Epoch 500/500\n",
      "25/25 [==============================] - 0s 875us/step - loss: 0.5268\n"
     ]
    },
    {
     "data": {
      "text/plain": [
       "<keras.callbacks.History at 0x22ebf9b5110>"
      ]
     },
     "execution_count": 54,
     "metadata": {},
     "output_type": "execute_result"
    }
   ],
   "source": [
    "autoencoder.fit(tr_sc, tr_sc, epochs=500, batch_size=100, shuffle=True)"
   ]
  },
  {
   "cell_type": "code",
   "execution_count": 55,
   "metadata": {},
   "outputs": [
    {
     "name": "stdout",
     "output_type": "stream",
     "text": [
      "231/231 [==============================] - 0s 523us/step\n"
     ]
    }
   ],
   "source": [
    "x_pred = autoencoder.predict(te_sc)\n",
    "mse = np.mean(np.power(te_sc - x_pred, 2), axis=1)"
   ]
  },
  {
   "cell_type": "code",
   "execution_count": 56,
   "metadata": {},
   "outputs": [],
   "source": [
    "# 이상치 검출\n",
    "auto_threshold = np.mean(mse) + 3*np.std(mse)\n",
    "auto_outliers = np.where(mse > auto_threshold)[0]"
   ]
  },
  {
   "cell_type": "code",
   "execution_count": 57,
   "metadata": {},
   "outputs": [
    {
     "data": {
      "text/plain": [
       "<AxesSubplot: >"
      ]
     },
     "execution_count": 57,
     "metadata": {},
     "output_type": "execute_result"
    },
    {
     "data": {
      "image/png": "[encoded data removed]",
      "text/plain": [
       "<Figure size 640x480 with 1 Axes>"
      ]
     },
     "metadata": {},
     "output_type": "display_data"
    }
   ],
   "source": [
    "pd.DataFrame(x_pred).mean(axis=1).plot()"
   ]
  },
  {
   "cell_type": "code",
   "execution_count": 58,
   "metadata": {},
   "outputs": [
    {
     "data": {
      "text/plain": [
       "2.3685432896591996"
      ]
     },
     "execution_count": 58,
     "metadata": {},
     "output_type": "execute_result"
    }
   ],
   "source": [
    "auto_threshold"
   ]
  },
  {
   "cell_type": "code",
   "execution_count": 59,
   "metadata": {},
   "outputs": [
    {
     "data": {
      "text/plain": [
       "array([1311, 1449, 1454, 1551, 1750, 1868, 2136, 2138, 2186, 2205, 2261,\n",
       "       2406, 2413, 2416, 2418, 2420, 2425, 2428, 2429, 2430, 2434, 2435,\n",
       "       2454, 2455, 2457, 2464, 2468, 2478, 2479, 2488, 2492, 2500, 2504,\n",
       "       2509, 2510, 2512, 2517, 2518, 2524, 2529, 2536, 2541, 2552, 2560,\n",
       "       2565, 2573, 2575, 2582, 2594, 2608, 2612, 2619, 2622, 2624, 2637,\n",
       "       2647, 2668, 2683, 2688, 2691, 2697, 2699, 2701, 2715, 2716, 2721,\n",
       "       2724, 2726, 2735, 2736, 2739, 2745, 2750, 2753, 2758, 2764, 2768,\n",
       "       2772, 2773, 2776, 2781, 2782, 2793, 2797, 2801, 2802, 2805, 2806,\n",
       "       2810, 2813, 2816, 2817, 2825, 2834, 2836, 2844, 2847, 2853, 2862,\n",
       "       2864, 2869, 2873, 2874, 2879, 2887, 2888, 2889, 2895, 2903, 2913,\n",
       "       2915, 2918, 2935, 2940, 2941, 2946, 2972, 2978, 2980, 2986, 2987,\n",
       "       2998, 3007, 3039, 3081, 3086, 3088, 3094, 3100, 3109, 3110, 3112,\n",
       "       3137, 3142, 3143, 3154, 3155, 3168, 3170, 3182, 3185, 3198, 3201,\n",
       "       3211, 3225, 3258, 3269, 3282, 3293, 3299, 3316, 3322, 3326, 3341,\n",
       "       3359, 3364, 3365, 3368, 3396, 3400, 3407, 3416, 3417, 3431, 3461,\n",
       "       3468, 3480, 3500], dtype=int64)"
      ]
     },
     "execution_count": 59,
     "metadata": {},
     "output_type": "execute_result"
    }
   ],
   "source": [
    "auto_outliers"
   ]
  },
  {
   "cell_type": "markdown",
   "metadata": {},
   "source": [
    "result.loc[auto_outliers, 'autoencoder'] = 1"
   ]
  },
  {
   "attachments": {},
   "cell_type": "markdown",
   "metadata": {},
   "source": [
    "---\n",
    "## CBM"
   ]
  },
  {
   "cell_type": "code",
   "execution_count": 60,
   "metadata": {},
   "outputs": [],
   "source": [
    "def hotellings_tsquare(trdat, tedat):\n",
    "    '''\n",
    "    Hotellings T-square : 공분산을 반영한 유클리디안 거리 (마할라노비스 거리)\n",
    "    \n",
    "    @param trdat : train data\n",
    "    @param tedat : test data\n",
    "    '''\n",
    "    obs = trdat.shape[0]\n",
    "    dim = trdat.shape[1]\n",
    "    \n",
    "    mu = trdat.apply(np.mean, axis=0) # 열단위 평균계산\n",
    "    sinv = np.linalg.pinv(trdat.cov()) # 공분산 역행렬\n",
    "\n",
    "    dte = (tedat-mu).values \n",
    "    \n",
    "    Tsq_mat = np.zeros(tedat.shape[0])\n",
    "    for i in range(tedat.shape[0]):\n",
    "        Tsq_mat[i] = dte[i,:] @ sinv @ dte[i,:].transpose() # t-square distance\n",
    "        \n",
    "    return Tsq_mat\n",
    "\n",
    "def bootstrap_limit(stat, alpha=0.05, bootstrap=300):\n",
    "    '''\n",
    "    Bootstrap sampling을 활용한 Control Limit 산출 기법\n",
    "    \n",
    "    @param stat : 통계량\n",
    "    @param alpha : Control Limit을 정하기 위한 유의수준\n",
    "    @param : bootstrap : 샘플링 횟수\n",
    "    '''\n",
    "    alpha = (alpha/2)*100\n",
    "    alpha = 100 - alpha\n",
    "    samsize = max(10000, len(stat))\n",
    "    limit = np.mean(list(map(lambda x:np.percentile(np.random.choice(stat,samsize,replace=True),alpha), range(0,bootstrap))))\n",
    "    # stat에서 samsize만큼 선택 후 75%분위수(alpha에따라 변경) 뽑기 이후 bootstrap만큼 반복 후 리스트로 만들고 평균 계산\n",
    "    return limit"
   ]
  },
  {
   "cell_type": "code",
   "execution_count": 61,
   "metadata": {},
   "outputs": [],
   "source": [
    "hotell_result = []\n",
    "for i in range(4):\n",
    "    data = train_sc[train_sc['label'] == i]\n",
    "    hotell_result.append(hotellings_tsquare(data,train_sc))"
   ]
  },
  {
   "cell_type": "code",
   "execution_count": 62,
   "metadata": {},
   "outputs": [
    {
     "data": {
      "image/png": "[encoded data removed]",
      "text/plain": [
       "<Figure size 640x480 with 1 Axes>"
      ]
     },
     "metadata": {},
     "output_type": "display_data"
    }
   ],
   "source": [
    "pd.DataFrame(hotell_result).T.min(axis=1).plot()\n",
    "plt.ylim(0,15)\n",
    "plt.axhline(12,color='r')\n",
    "plt.show()"
   ]
  },
  {
   "cell_type": "code",
   "execution_count": 63,
   "metadata": {},
   "outputs": [],
   "source": [
    "drop_index = np.where(pd.DataFrame(hotell_result).T.min(axis=1) < 12)"
   ]
  },
  {
   "cell_type": "code",
   "execution_count": 64,
   "metadata": {},
   "outputs": [],
   "source": [
    "real_tr = tr.loc[drop_index]"
   ]
  },
  {
   "cell_type": "code",
   "execution_count": 65,
   "metadata": {},
   "outputs": [],
   "source": [
    "real_label = pd.DataFrame(labels).loc[drop_index]"
   ]
  },
  {
   "cell_type": "code",
   "execution_count": 66,
   "metadata": {},
   "outputs": [],
   "source": [
    "real_tr['label'] = real_label"
   ]
  },
  {
   "cell_type": "code",
   "execution_count": 67,
   "metadata": {},
   "outputs": [],
   "source": [
    "hotell_result = []\n",
    "for i in range(4):\n",
    "    data = real_tr[real_tr['label'] == i]\n",
    "    drop_data = data.drop(['label'], axis=1)\n",
    "    hotell_result.append(hotellings_tsquare(drop_data,real_tr.drop('label',axis=1)))"
   ]
  },
  {
   "cell_type": "code",
   "execution_count": 68,
   "metadata": {},
   "outputs": [
    {
     "data": {
      "image/png": "[encoded data removed]",
      "text/plain": [
       "<Figure size 640x480 with 1 Axes>"
      ]
     },
     "metadata": {},
     "output_type": "display_data"
    }
   ],
   "source": [
    "pd.DataFrame(hotell_result).T.min(axis=1).plot()\n",
    "plt.show()"
   ]
  },
  {
   "cell_type": "code",
   "execution_count": 69,
   "metadata": {},
   "outputs": [],
   "source": [
    "hotell_result_te = []\n",
    "for i in range(4):\n",
    "    data = real_tr[real_tr['label'] == i]\n",
    "    drop_data = data.drop('label', axis=1)\n",
    "    hotell_result_te.append(hotellings_tsquare(drop_data,test.drop('type', axis=1)))"
   ]
  },
  {
   "cell_type": "code",
   "execution_count": 70,
   "metadata": {},
   "outputs": [
    {
     "data": {
      "image/png": "[encoded data removed]",
      "text/plain": [
       "<Figure size 640x480 with 1 Axes>"
      ]
     },
     "metadata": {},
     "output_type": "display_data"
    }
   ],
   "source": [
    "pd.DataFrame(hotell_result_te).T.min(axis=1).plot()\n",
    "plt.axhline(bootstrap_limit(pd.DataFrame(hotell_result).T.min(axis=1)), color ='r')\n",
    "plt.axhline(14, color='green')\n",
    "plt.ylim(0,17)\n",
    "plt.show()"
   ]
  },
  {
   "cell_type": "code",
   "execution_count": 71,
   "metadata": {},
   "outputs": [],
   "source": [
    "total_result = pd.DataFrame(hotell_result_te).T.min(axis=1)"
   ]
  },
  {
   "cell_type": "code",
   "execution_count": 72,
   "metadata": {},
   "outputs": [],
   "source": [
    "control_limit = np.where(total_result >14)[0]"
   ]
  },
  {
   "cell_type": "code",
   "execution_count": 73,
   "metadata": {},
   "outputs": [],
   "source": [
    "result.loc[control_limit, 'CBM'] = 1"
   ]
  },
  {
   "attachments": {},
   "cell_type": "markdown",
   "metadata": {},
   "source": [
    "---\n",
    "### SVM"
   ]
  },
  {
   "cell_type": "code",
   "execution_count": 74,
   "metadata": {},
   "outputs": [],
   "source": [
    "from sklearn.svm import OneClassSVM"
   ]
  },
  {
   "cell_type": "code",
   "execution_count": 75,
   "metadata": {},
   "outputs": [
    {
     "data": {
      "text/html": [
       "<div>\n",
       "<style scoped>\n",
       "    .dataframe tbody tr th:only-of-type {\n",
       "        vertical-align: middle;\n",
       "    }\n",
       "\n",
       "    .dataframe tbody tr th {\n",
       "        vertical-align: top;\n",
       "    }\n",
       "\n",
       "    .dataframe thead th {\n",
       "        text-align: right;\n",
       "    }\n",
       "</style>\n",
       "<table border=\"1\" class=\"dataframe\">\n",
       "  <thead>\n",
       "    <tr style=\"text-align: right;\">\n",
       "      <th></th>\n",
       "      <th>air_inflow</th>\n",
       "      <th>air_end_temp</th>\n",
       "      <th>motor_current</th>\n",
       "      <th>motor_rpm</th>\n",
       "      <th>motor_temp</th>\n",
       "      <th>motor_vibe</th>\n",
       "      <th>label</th>\n",
       "    </tr>\n",
       "  </thead>\n",
       "  <tbody>\n",
       "    <tr>\n",
       "      <th>0</th>\n",
       "      <td>1.59</td>\n",
       "      <td>41.00</td>\n",
       "      <td>20.53</td>\n",
       "      <td>1680.0</td>\n",
       "      <td>58.67</td>\n",
       "      <td>2.93</td>\n",
       "      <td>0</td>\n",
       "    </tr>\n",
       "    <tr>\n",
       "      <th>1</th>\n",
       "      <td>2.97</td>\n",
       "      <td>59.28</td>\n",
       "      <td>38.40</td>\n",
       "      <td>3142.0</td>\n",
       "      <td>74.91</td>\n",
       "      <td>3.75</td>\n",
       "      <td>0</td>\n",
       "    </tr>\n",
       "    <tr>\n",
       "      <th>2</th>\n",
       "      <td>1.91</td>\n",
       "      <td>45.29</td>\n",
       "      <td>24.73</td>\n",
       "      <td>2023.0</td>\n",
       "      <td>62.48</td>\n",
       "      <td>3.12</td>\n",
       "      <td>0</td>\n",
       "    </tr>\n",
       "    <tr>\n",
       "      <th>3</th>\n",
       "      <td>2.37</td>\n",
       "      <td>51.33</td>\n",
       "      <td>30.63</td>\n",
       "      <td>2506.0</td>\n",
       "      <td>67.84</td>\n",
       "      <td>3.39</td>\n",
       "      <td>0</td>\n",
       "    </tr>\n",
       "    <tr>\n",
       "      <th>4</th>\n",
       "      <td>1.90</td>\n",
       "      <td>45.21</td>\n",
       "      <td>24.65</td>\n",
       "      <td>2017.0</td>\n",
       "      <td>62.41</td>\n",
       "      <td>3.12</td>\n",
       "      <td>0</td>\n",
       "    </tr>\n",
       "    <tr>\n",
       "      <th>...</th>\n",
       "      <td>...</td>\n",
       "      <td>...</td>\n",
       "      <td>...</td>\n",
       "      <td>...</td>\n",
       "      <td>...</td>\n",
       "      <td>...</td>\n",
       "      <td>...</td>\n",
       "    </tr>\n",
       "    <tr>\n",
       "      <th>2458</th>\n",
       "      <td>2.28</td>\n",
       "      <td>50.20</td>\n",
       "      <td>29.53</td>\n",
       "      <td>2416.0</td>\n",
       "      <td>66.84</td>\n",
       "      <td>3.34</td>\n",
       "      <td>0</td>\n",
       "    </tr>\n",
       "    <tr>\n",
       "      <th>2459</th>\n",
       "      <td>2.04</td>\n",
       "      <td>46.94</td>\n",
       "      <td>26.34</td>\n",
       "      <td>2155.0</td>\n",
       "      <td>63.94</td>\n",
       "      <td>3.20</td>\n",
       "      <td>0</td>\n",
       "    </tr>\n",
       "    <tr>\n",
       "      <th>2460</th>\n",
       "      <td>1.19</td>\n",
       "      <td>35.74</td>\n",
       "      <td>15.39</td>\n",
       "      <td>1259.0</td>\n",
       "      <td>53.99</td>\n",
       "      <td>2.70</td>\n",
       "      <td>0</td>\n",
       "    </tr>\n",
       "    <tr>\n",
       "      <th>2461</th>\n",
       "      <td>1.21</td>\n",
       "      <td>36.00</td>\n",
       "      <td>15.64</td>\n",
       "      <td>1280.0</td>\n",
       "      <td>54.22</td>\n",
       "      <td>2.71</td>\n",
       "      <td>0</td>\n",
       "    </tr>\n",
       "    <tr>\n",
       "      <th>2462</th>\n",
       "      <td>2.72</td>\n",
       "      <td>55.99</td>\n",
       "      <td>35.19</td>\n",
       "      <td>2879.0</td>\n",
       "      <td>71.99</td>\n",
       "      <td>3.60</td>\n",
       "      <td>0</td>\n",
       "    </tr>\n",
       "  </tbody>\n",
       "</table>\n",
       "<p>2414 rows × 7 columns</p>\n",
       "</div>"
      ],
      "text/plain": [
       "      air_inflow  air_end_temp  motor_current  motor_rpm  motor_temp  \\\n",
       "0           1.59         41.00          20.53     1680.0       58.67   \n",
       "1           2.97         59.28          38.40     3142.0       74.91   \n",
       "2           1.91         45.29          24.73     2023.0       62.48   \n",
       "3           2.37         51.33          30.63     2506.0       67.84   \n",
       "4           1.90         45.21          24.65     2017.0       62.41   \n",
       "...          ...           ...            ...        ...         ...   \n",
       "2458        2.28         50.20          29.53     2416.0       66.84   \n",
       "2459        2.04         46.94          26.34     2155.0       63.94   \n",
       "2460        1.19         35.74          15.39     1259.0       53.99   \n",
       "2461        1.21         36.00          15.64     1280.0       54.22   \n",
       "2462        2.72         55.99          35.19     2879.0       71.99   \n",
       "\n",
       "      motor_vibe  label  \n",
       "0           2.93      0  \n",
       "1           3.75      0  \n",
       "2           3.12      0  \n",
       "3           3.39      0  \n",
       "4           3.12      0  \n",
       "...          ...    ...  \n",
       "2458        3.34      0  \n",
       "2459        3.20      0  \n",
       "2460        2.70      0  \n",
       "2461        2.71      0  \n",
       "2462        3.60      0  \n",
       "\n",
       "[2414 rows x 7 columns]"
      ]
     },
     "execution_count": 75,
     "metadata": {},
     "output_type": "execute_result"
    }
   ],
   "source": [
    "real_tr"
   ]
  },
  {
   "cell_type": "code",
   "execution_count": 76,
   "metadata": {},
   "outputs": [],
   "source": [
    "tr_sc['label'] = real_label"
   ]
  },
  {
   "cell_type": "code",
   "execution_count": 77,
   "metadata": {},
   "outputs": [],
   "source": [
    "model = OneClassSVM()"
   ]
  },
  {
   "cell_type": "code",
   "execution_count": 78,
   "metadata": {},
   "outputs": [],
   "source": [
    "param_grid = {\n",
    "    'kernel': ['rbf','poly'],\n",
    "    'nu': [0.4, 0.5, 0.6, 0.7, 0.8, 0.9, 1],\n",
    "    'gamma' : [0.3, 0.5, 0.7, 1, 'scale', 'auto']\n",
    "}"
   ]
  },
  {
   "cell_type": "code",
   "execution_count": 79,
   "metadata": {},
   "outputs": [],
   "source": [
    "grid_search = GridSearchCV(model, param_grid, scoring='f1_weighted', cv=5)"
   ]
  },
  {
   "cell_type": "code",
   "execution_count": 81,
   "metadata": {},
   "outputs": [
    {
     "data": {
      "text/html": [
       "<div>\n",
       "<style scoped>\n",
       "    .dataframe tbody tr th:only-of-type {\n",
       "        vertical-align: middle;\n",
       "    }\n",
       "\n",
       "    .dataframe tbody tr th {\n",
       "        vertical-align: top;\n",
       "    }\n",
       "\n",
       "    .dataframe thead th {\n",
       "        text-align: right;\n",
       "    }\n",
       "</style>\n",
       "<table border=\"1\" class=\"dataframe\">\n",
       "  <thead>\n",
       "    <tr style=\"text-align: right;\">\n",
       "      <th></th>\n",
       "      <th>0</th>\n",
       "      <th>1</th>\n",
       "      <th>2</th>\n",
       "      <th>3</th>\n",
       "      <th>4</th>\n",
       "      <th>5</th>\n",
       "      <th>label</th>\n",
       "    </tr>\n",
       "  </thead>\n",
       "  <tbody>\n",
       "    <tr>\n",
       "      <th>0</th>\n",
       "      <td>-0.451541</td>\n",
       "      <td>-0.917260</td>\n",
       "      <td>-0.514570</td>\n",
       "      <td>-1.007673</td>\n",
       "      <td>-0.910371</td>\n",
       "      <td>-0.626443</td>\n",
       "      <td>0.0</td>\n",
       "    </tr>\n",
       "    <tr>\n",
       "      <th>1</th>\n",
       "      <td>0.694479</td>\n",
       "      <td>1.175766</td>\n",
       "      <td>0.796894</td>\n",
       "      <td>1.115975</td>\n",
       "      <td>1.170323</td>\n",
       "      <td>0.636336</td>\n",
       "      <td>0.0</td>\n",
       "    </tr>\n",
       "    <tr>\n",
       "      <th>2</th>\n",
       "      <td>-0.185797</td>\n",
       "      <td>-0.426063</td>\n",
       "      <td>-0.206336</td>\n",
       "      <td>-0.509444</td>\n",
       "      <td>-0.422228</td>\n",
       "      <td>-0.333848</td>\n",
       "      <td>0.0</td>\n",
       "    </tr>\n",
       "    <tr>\n",
       "      <th>3</th>\n",
       "      <td>0.196209</td>\n",
       "      <td>0.265506</td>\n",
       "      <td>0.226660</td>\n",
       "      <td>0.192144</td>\n",
       "      <td>0.264504</td>\n",
       "      <td>0.081945</td>\n",
       "      <td>0.0</td>\n",
       "    </tr>\n",
       "    <tr>\n",
       "      <th>4</th>\n",
       "      <td>-0.194102</td>\n",
       "      <td>-0.435223</td>\n",
       "      <td>-0.212207</td>\n",
       "      <td>-0.518159</td>\n",
       "      <td>-0.431196</td>\n",
       "      <td>-0.333848</td>\n",
       "      <td>0.0</td>\n",
       "    </tr>\n",
       "    <tr>\n",
       "      <th>...</th>\n",
       "      <td>...</td>\n",
       "      <td>...</td>\n",
       "      <td>...</td>\n",
       "      <td>...</td>\n",
       "      <td>...</td>\n",
       "      <td>...</td>\n",
       "      <td>...</td>\n",
       "    </tr>\n",
       "    <tr>\n",
       "      <th>2442</th>\n",
       "      <td>0.121469</td>\n",
       "      <td>0.136123</td>\n",
       "      <td>0.145932</td>\n",
       "      <td>0.061414</td>\n",
       "      <td>0.136382</td>\n",
       "      <td>0.004947</td>\n",
       "      <td>0.0</td>\n",
       "    </tr>\n",
       "    <tr>\n",
       "      <th>2443</th>\n",
       "      <td>-0.077839</td>\n",
       "      <td>-0.237141</td>\n",
       "      <td>-0.088179</td>\n",
       "      <td>-0.317705</td>\n",
       "      <td>-0.235170</td>\n",
       "      <td>-0.210650</td>\n",
       "      <td>0.0</td>\n",
       "    </tr>\n",
       "    <tr>\n",
       "      <th>2444</th>\n",
       "      <td>-0.783721</td>\n",
       "      <td>-1.519520</td>\n",
       "      <td>-0.891790</td>\n",
       "      <td>-1.619203</td>\n",
       "      <td>-1.509979</td>\n",
       "      <td>-0.980636</td>\n",
       "      <td>0.0</td>\n",
       "    </tr>\n",
       "    <tr>\n",
       "      <th>2445</th>\n",
       "      <td>-0.767112</td>\n",
       "      <td>-1.489751</td>\n",
       "      <td>-0.873443</td>\n",
       "      <td>-1.588699</td>\n",
       "      <td>-1.480511</td>\n",
       "      <td>-0.965237</td>\n",
       "      <td>0.0</td>\n",
       "    </tr>\n",
       "    <tr>\n",
       "      <th>2446</th>\n",
       "      <td>0.486866</td>\n",
       "      <td>0.799067</td>\n",
       "      <td>0.561315</td>\n",
       "      <td>0.733951</td>\n",
       "      <td>0.796208</td>\n",
       "      <td>0.405340</td>\n",
       "      <td>0.0</td>\n",
       "    </tr>\n",
       "  </tbody>\n",
       "</table>\n",
       "<p>2447 rows × 7 columns</p>\n",
       "</div>"
      ],
      "text/plain": [
       "             0         1         2         3         4         5  label\n",
       "0    -0.451541 -0.917260 -0.514570 -1.007673 -0.910371 -0.626443    0.0\n",
       "1     0.694479  1.175766  0.796894  1.115975  1.170323  0.636336    0.0\n",
       "2    -0.185797 -0.426063 -0.206336 -0.509444 -0.422228 -0.333848    0.0\n",
       "3     0.196209  0.265506  0.226660  0.192144  0.264504  0.081945    0.0\n",
       "4    -0.194102 -0.435223 -0.212207 -0.518159 -0.431196 -0.333848    0.0\n",
       "...        ...       ...       ...       ...       ...       ...    ...\n",
       "2442  0.121469  0.136123  0.145932  0.061414  0.136382  0.004947    0.0\n",
       "2443 -0.077839 -0.237141 -0.088179 -0.317705 -0.235170 -0.210650    0.0\n",
       "2444 -0.783721 -1.519520 -0.891790 -1.619203 -1.509979 -0.980636    0.0\n",
       "2445 -0.767112 -1.489751 -0.873443 -1.588699 -1.480511 -0.965237    0.0\n",
       "2446  0.486866  0.799067  0.561315  0.733951  0.796208  0.405340    0.0\n",
       "\n",
       "[2447 rows x 7 columns]"
      ]
     },
     "execution_count": 81,
     "metadata": {},
     "output_type": "execute_result"
    }
   ],
   "source": [
    "tr_sc"
   ]
  },
  {
   "cell_type": "code",
   "execution_count": 82,
   "metadata": {},
   "outputs": [],
   "source": [
    "tt = []\n",
    "svm_result_te = []\n",
    "for i in range(4):\n",
    "    svm_data = tr_sc[tr_sc['label'] == i]\n",
    "    svm_drop_data = svm_data.drop('label', axis=1)\n",
    "    model.fit(svm_drop_data, kernel = 'rbf', gamma = 0.01, nu = 0.01)\n",
    "    svm_result_te.append(model.score_samples(te_sc))\n",
    "    tt.append(model.predict(te_sc))"
   ]
  },
  {
   "cell_type": "code",
   "execution_count": 85,
   "metadata": {},
   "outputs": [
    {
     "data": {
      "text/plain": [
       "<AxesSubplot: >"
      ]
     },
     "execution_count": 85,
     "metadata": {},
     "output_type": "execute_result"
    },
    {
     "data": {
      "image/png": "[encoded data removed]",
      "text/plain": [
       "<Figure size 640x480 with 1 Axes>"
      ]
     },
     "metadata": {},
     "output_type": "display_data"
    }
   ],
   "source": [
    "pd.DataFrame(tt).T.plot()"
   ]
  },
  {
   "cell_type": "code",
   "execution_count": 90,
   "metadata": {},
   "outputs": [
    {
     "data": {
      "text/plain": [
       "<AxesSubplot: >"
      ]
     },
     "execution_count": 90,
     "metadata": {},
     "output_type": "execute_result"
    },
    {
     "data": {
      "image/png": "[encoded data removed]",
      "text/plain": [
       "<Figure size 640x480 with 1 Axes>"
      ]
     },
     "metadata": {},
     "output_type": "display_data"
    }
   ],
   "source": [
    "pd.DataFrame(tt).T.mean(axis=1).plot()"
   ]
  },
  {
   "cell_type": "code",
   "execution_count": null,
   "metadata": {},
   "outputs": [],
   "source": [
    "svm_result = pd.DataFrame(svm_result_te).T"
   ]
  },
  {
   "cell_type": "code",
   "execution_count": null,
   "metadata": {},
   "outputs": [
    {
     "data": {
      "text/plain": [
       "<AxesSubplot: >"
      ]
     },
     "execution_count": 264,
     "metadata": {},
     "output_type": "execute_result"
    },
    {
     "data": {
      "image/png": "[encoded data removed]",
      "text/plain": [
       "<Figure size 640x480 with 1 Axes>"
      ]
     },
     "metadata": {},
     "output_type": "display_data"
    }
   ],
   "source": [
    "svm_result.max(axis=1).plot()"
   ]
  },
  {
   "cell_type": "code",
   "execution_count": null,
   "metadata": {},
   "outputs": [
    {
     "data": {
      "text/plain": [
       "<AxesSubplot: >"
      ]
     },
     "execution_count": 265,
     "metadata": {},
     "output_type": "execute_result"
    },
    {
     "data": {
      "image/png": "[encoded data removed]",
      "text/plain": [
       "<Figure size 640x480 with 1 Axes>"
      ]
     },
     "metadata": {},
     "output_type": "display_data"
    }
   ],
   "source": [
    "svm_result.plot()"
   ]
  },
  {
   "cell_type": "markdown",
   "metadata": {},
   "source": [
    "result.loc[svm_index[0], 'svm'] = 1"
   ]
  },
  {
   "attachments": {},
   "cell_type": "markdown",
   "metadata": {},
   "source": [
    "---\n",
    "### GANoamly"
   ]
  },
  {
   "cell_type": "markdown",
   "metadata": {},
   "source": [
    "import tensorflow as tf\n",
    "from tensorflow.keras import layers\n",
    "import numpy as np\n",
    "\n",
    "# Define hyperparameters\n",
    "latent_dim = 32\n",
    "epochs = 50\n",
    "batch_size = 64\n",
    "\n",
    "# Define the generator\n",
    "def make_generator_model():\n",
    "    model = tf.keras.Sequential()\n",
    "    model.add(layers.Dense(64, input_shape=(latent_dim,), activation='relu'))\n",
    "    model.add(layers.Dense(128, activation='relu'))\n",
    "    model.add(layers.Dense(256, activation='relu'))\n",
    "    model.add(layers.Dense(512, activation='relu'))\n",
    "    model.add(layers.Dense(6, activation='tanh'))\n",
    "    return model\n",
    "\n",
    "# Define the discriminator\n",
    "def make_discriminator_model():\n",
    "    model = tf.keras.Sequential()\n",
    "    model.add(layers.Dense(512, input_shape=(6,), activation='relu'))\n",
    "    model.add(layers.Dense(256, activation='relu'))\n",
    "    model.add(layers.Dense(128, activation='relu'))\n",
    "    model.add(layers.Dense(1))\n",
    "    return model\n",
    "\n",
    "# Define the GAN model\n",
    "def make_gan_model(generator, discriminator):\n",
    "    discriminator.trainable = False\n",
    "    model = tf.keras.Sequential([generator, discriminator])\n",
    "    return model\n"
   ]
  },
  {
   "cell_type": "markdown",
   "metadata": {},
   "source": [
    "# Initialize the generator, discriminator, and GAN models\n",
    "generator = make_generator_model()\n",
    "discriminator = make_discriminator_model()\n",
    "gan = make_gan_model(generator, discriminator)\n",
    "\n",
    "# Compile the models\n",
    "generator_optimizer = tf.keras.optimizers.Adam(1e-4)\n",
    "discriminator_optimizer = tf.keras.optimizers.Adam(1e-4)\n",
    "generator.compile(loss='mse', optimizer=generator_optimizer)\n",
    "discriminator.compile(loss='mse', optimizer=discriminator_optimizer)\n",
    "gan.compile(loss='mse', optimizer=generator_optimizer)\n"
   ]
  },
  {
   "cell_type": "markdown",
   "metadata": {},
   "source": [
    "tr_va = tr_sc.values"
   ]
  },
  {
   "cell_type": "markdown",
   "metadata": {},
   "source": [
    "te_va = te_sc.values"
   ]
  },
  {
   "cell_type": "markdown",
   "metadata": {},
   "source": [
    "# Train the models\n",
    "for epoch in range(epochs):\n",
    "    for i in range(tr_va.shape[0] // batch_size):\n",
    "        # Generate noise\n",
    "        noise = tf.random.normal([batch_size, latent_dim])\n",
    "        \n",
    "        # Generate fake data\n",
    "        fake_data = generator(noise)\n",
    "        \n",
    "        # Concatenate real and fake data\n",
    "        real_and_fake_data = tf.concat([tr_va[i * batch_size:(i + 1) * batch_size, :], fake_data], axis=0)\n",
    "        \n",
    "        # Generate labels\n",
    "        labels = tf.concat([tf.ones((batch_size, 1)), tf.zeros((batch_size, 1))], axis=0)\n",
    "        \n",
    "        # Train the discriminator\n",
    "        discriminator.trainable = True\n",
    "        discriminator_loss = discriminator.train_on_batch(real_and_fake_data, labels)\n",
    "        \n",
    "        # Generate new noise\n",
    "        noise = tf.random.normal([batch_size, latent_dim])\n",
    "        \n",
    "        # Generate new labels\n",
    "        labels = tf.ones((batch_size, 1))\n",
    "        \n",
    "        # Train the generator\n",
    "        discriminator.trainable = False\n",
    "        generator_loss = gan.train_on_batch(noise, labels)\n",
    "    \n",
    "    # Print the losses\n",
    "    print('Epoch %d: generator_loss=%.4f, discriminator_loss=%.4f' % (epoch + 1, generator_loss, discriminator_loss))\n",
    "\n",
    "# # Generate test data\n",
    "# test_noise = tf.random.normal([te_va.shape[0], latent_dim])\n",
    "generated_data = generator.predict(te_va)\n",
    "\n",
    "mse = np.mean(np.power(te_va - generated_data, 2), axis=1)\n",
    "\n",
    "gan_threshold = np.percentile(mse, 95)\n",
    "\n",
    "gan_y_pred = (mse > gan_threshold).astype(int)\n",
    "\n",
    "print('Number of anomalies detected:', np.sum(gan_y_pred))"
   ]
  },
  {
   "cell_type": "markdown",
   "metadata": {},
   "source": [
    "plt.plot(gan_y_pred)"
   ]
  },
  {
   "cell_type": "markdown",
   "metadata": {},
   "source": [
    "result['gan'] = gan_y_pred"
   ]
  },
  {
   "attachments": {},
   "cell_type": "markdown",
   "metadata": {},
   "source": [
    "---\n",
    "\n",
    "### 최종결과"
   ]
  },
  {
   "cell_type": "code",
   "execution_count": null,
   "metadata": {},
   "outputs": [],
   "source": [
    "result['label'] = 0"
   ]
  },
  {
   "cell_type": "code",
   "execution_count": null,
   "metadata": {},
   "outputs": [
    {
     "data": {
      "text/html": [
       "<div>\n",
       "<style scoped>\n",
       "    .dataframe tbody tr th:only-of-type {\n",
       "        vertical-align: middle;\n",
       "    }\n",
       "\n",
       "    .dataframe tbody tr th {\n",
       "        vertical-align: top;\n",
       "    }\n",
       "\n",
       "    .dataframe thead th {\n",
       "        text-align: right;\n",
       "    }\n",
       "</style>\n",
       "<table border=\"1\" class=\"dataframe\">\n",
       "  <thead>\n",
       "    <tr style=\"text-align: right;\">\n",
       "      <th></th>\n",
       "      <th>gm</th>\n",
       "      <th>bgm</th>\n",
       "      <th>LOF</th>\n",
       "      <th>CBM</th>\n",
       "      <th>label</th>\n",
       "    </tr>\n",
       "  </thead>\n",
       "  <tbody>\n",
       "    <tr>\n",
       "      <th>0</th>\n",
       "      <td>0</td>\n",
       "      <td>0</td>\n",
       "      <td>0</td>\n",
       "      <td>0</td>\n",
       "      <td>0</td>\n",
       "    </tr>\n",
       "    <tr>\n",
       "      <th>1</th>\n",
       "      <td>0</td>\n",
       "      <td>0</td>\n",
       "      <td>0</td>\n",
       "      <td>0</td>\n",
       "      <td>0</td>\n",
       "    </tr>\n",
       "    <tr>\n",
       "      <th>2</th>\n",
       "      <td>0</td>\n",
       "      <td>0</td>\n",
       "      <td>0</td>\n",
       "      <td>0</td>\n",
       "      <td>0</td>\n",
       "    </tr>\n",
       "    <tr>\n",
       "      <th>3</th>\n",
       "      <td>0</td>\n",
       "      <td>0</td>\n",
       "      <td>1</td>\n",
       "      <td>0</td>\n",
       "      <td>0</td>\n",
       "    </tr>\n",
       "    <tr>\n",
       "      <th>4</th>\n",
       "      <td>0</td>\n",
       "      <td>0</td>\n",
       "      <td>0</td>\n",
       "      <td>0</td>\n",
       "      <td>0</td>\n",
       "    </tr>\n",
       "    <tr>\n",
       "      <th>...</th>\n",
       "      <td>...</td>\n",
       "      <td>...</td>\n",
       "      <td>...</td>\n",
       "      <td>...</td>\n",
       "      <td>...</td>\n",
       "    </tr>\n",
       "    <tr>\n",
       "      <th>7384</th>\n",
       "      <td>0</td>\n",
       "      <td>0</td>\n",
       "      <td>0</td>\n",
       "      <td>0</td>\n",
       "      <td>0</td>\n",
       "    </tr>\n",
       "    <tr>\n",
       "      <th>7385</th>\n",
       "      <td>0</td>\n",
       "      <td>0</td>\n",
       "      <td>0</td>\n",
       "      <td>0</td>\n",
       "      <td>0</td>\n",
       "    </tr>\n",
       "    <tr>\n",
       "      <th>7386</th>\n",
       "      <td>0</td>\n",
       "      <td>0</td>\n",
       "      <td>0</td>\n",
       "      <td>0</td>\n",
       "      <td>0</td>\n",
       "    </tr>\n",
       "    <tr>\n",
       "      <th>7387</th>\n",
       "      <td>0</td>\n",
       "      <td>0</td>\n",
       "      <td>0</td>\n",
       "      <td>0</td>\n",
       "      <td>0</td>\n",
       "    </tr>\n",
       "    <tr>\n",
       "      <th>7388</th>\n",
       "      <td>0</td>\n",
       "      <td>0</td>\n",
       "      <td>0</td>\n",
       "      <td>0</td>\n",
       "      <td>0</td>\n",
       "    </tr>\n",
       "  </tbody>\n",
       "</table>\n",
       "<p>7389 rows × 5 columns</p>\n",
       "</div>"
      ],
      "text/plain": [
       "      gm  bgm  LOF  CBM  label\n",
       "0      0    0    0    0      0\n",
       "1      0    0    0    0      0\n",
       "2      0    0    0    0      0\n",
       "3      0    0    1    0      0\n",
       "4      0    0    0    0      0\n",
       "...   ..  ...  ...  ...    ...\n",
       "7384   0    0    0    0      0\n",
       "7385   0    0    0    0      0\n",
       "7386   0    0    0    0      0\n",
       "7387   0    0    0    0      0\n",
       "7388   0    0    0    0      0\n",
       "\n",
       "[7389 rows x 5 columns]"
      ]
     },
     "execution_count": 247,
     "metadata": {},
     "output_type": "execute_result"
    }
   ],
   "source": [
    "result"
   ]
  },
  {
   "cell_type": "code",
   "execution_count": null,
   "metadata": {},
   "outputs": [
    {
     "name": "stdout",
     "output_type": "stream",
     "text": [
      "0    7052\n",
      "1     337\n",
      "Name: gm, dtype: int64\n",
      "---\n",
      "0    7052\n",
      "1     337\n",
      "Name: bgm, dtype: int64\n",
      "---\n",
      "0    7281\n",
      "1     108\n",
      "Name: LOF, dtype: int64\n",
      "---\n"
     ]
    },
    {
     "ename": "AttributeError",
     "evalue": "'DataFrame' object has no attribute 'autoencoder'",
     "output_type": "error",
     "traceback": [
      "\u001b[1;31m---------------------------------------------------------------------------\u001b[0m",
      "\u001b[1;31mAttributeError\u001b[0m                            Traceback (most recent call last)",
      "\u001b[1;32mc:\\Users\\user\\github\\Anomaly-Detection\\toy_project\\tr_dbscan.ipynb Cell 107\u001b[0m in \u001b[0;36m7\n\u001b[0;32m      <a href='vscode-notebook-cell:/c%3A/Users/user/github/Anomaly-Detection/toy_project/tr_dbscan.ipynb#Y211sZmlsZQ%3D%3D?line=4'>5</a>\u001b[0m \u001b[39mprint\u001b[39m(result\u001b[39m.\u001b[39mLOF\u001b[39m.\u001b[39mvalue_counts())\n\u001b[0;32m      <a href='vscode-notebook-cell:/c%3A/Users/user/github/Anomaly-Detection/toy_project/tr_dbscan.ipynb#Y211sZmlsZQ%3D%3D?line=5'>6</a>\u001b[0m \u001b[39mprint\u001b[39m(\u001b[39m'\u001b[39m\u001b[39m---\u001b[39m\u001b[39m'\u001b[39m)\n\u001b[1;32m----> <a href='vscode-notebook-cell:/c%3A/Users/user/github/Anomaly-Detection/toy_project/tr_dbscan.ipynb#Y211sZmlsZQ%3D%3D?line=6'>7</a>\u001b[0m \u001b[39mprint\u001b[39m(result\u001b[39m.\u001b[39;49mautoencoder\u001b[39m.\u001b[39mvalue_counts())\n\u001b[0;32m      <a href='vscode-notebook-cell:/c%3A/Users/user/github/Anomaly-Detection/toy_project/tr_dbscan.ipynb#Y211sZmlsZQ%3D%3D?line=7'>8</a>\u001b[0m \u001b[39mprint\u001b[39m(\u001b[39m'\u001b[39m\u001b[39m---\u001b[39m\u001b[39m'\u001b[39m)\n\u001b[0;32m      <a href='vscode-notebook-cell:/c%3A/Users/user/github/Anomaly-Detection/toy_project/tr_dbscan.ipynb#Y211sZmlsZQ%3D%3D?line=8'>9</a>\u001b[0m \u001b[39mprint\u001b[39m(result\u001b[39m.\u001b[39msvm\u001b[39m.\u001b[39mvalue_counts())\n",
      "File \u001b[1;32mc:\\Users\\user\\AppData\\Local\\Programs\\Python\\Python311\\Lib\\site-packages\\pandas\\core\\generic.py:5902\u001b[0m, in \u001b[0;36mNDFrame.__getattr__\u001b[1;34m(self, name)\u001b[0m\n\u001b[0;32m   5895\u001b[0m \u001b[39mif\u001b[39;00m (\n\u001b[0;32m   5896\u001b[0m     name \u001b[39mnot\u001b[39;00m \u001b[39min\u001b[39;00m \u001b[39mself\u001b[39m\u001b[39m.\u001b[39m_internal_names_set\n\u001b[0;32m   5897\u001b[0m     \u001b[39mand\u001b[39;00m name \u001b[39mnot\u001b[39;00m \u001b[39min\u001b[39;00m \u001b[39mself\u001b[39m\u001b[39m.\u001b[39m_metadata\n\u001b[0;32m   5898\u001b[0m     \u001b[39mand\u001b[39;00m name \u001b[39mnot\u001b[39;00m \u001b[39min\u001b[39;00m \u001b[39mself\u001b[39m\u001b[39m.\u001b[39m_accessors\n\u001b[0;32m   5899\u001b[0m     \u001b[39mand\u001b[39;00m \u001b[39mself\u001b[39m\u001b[39m.\u001b[39m_info_axis\u001b[39m.\u001b[39m_can_hold_identifiers_and_holds_name(name)\n\u001b[0;32m   5900\u001b[0m ):\n\u001b[0;32m   5901\u001b[0m     \u001b[39mreturn\u001b[39;00m \u001b[39mself\u001b[39m[name]\n\u001b[1;32m-> 5902\u001b[0m \u001b[39mreturn\u001b[39;00m \u001b[39mobject\u001b[39;49m\u001b[39m.\u001b[39;49m\u001b[39m__getattribute__\u001b[39;49m(\u001b[39mself\u001b[39;49m, name)\n",
      "\u001b[1;31mAttributeError\u001b[0m: 'DataFrame' object has no attribute 'autoencoder'"
     ]
    }
   ],
   "source": [
    "print(result.gm.value_counts())\n",
    "print('---')\n",
    "print(result.bgm.value_counts())\n",
    "print('---')\n",
    "print(result.LOF.value_counts())\n",
    "print('---')\n",
    "print(result.autoencoder.value_counts())\n",
    "print('---')\n",
    "print(result.svm.value_counts())\n",
    "print('---')\n",
    "print(result.gan.value_counts())\n",
    "print('---')\n",
    "print(result.CBM.value_counts())"
   ]
  },
  {
   "cell_type": "code",
   "execution_count": null,
   "metadata": {},
   "outputs": [
    {
     "data": {
      "text/plain": [
       "<AxesSubplot: >"
      ]
     },
     "execution_count": 249,
     "metadata": {},
     "output_type": "execute_result"
    },
    {
     "data": {
      "image/png": "[encoded data removed]",
      "text/plain": [
       "<Figure size 2000x800 with 1 Axes>"
      ]
     },
     "metadata": {},
     "output_type": "display_data"
    }
   ],
   "source": [
    "result.plot(figsize=(20,8), marker = \"o\")"
   ]
  },
  {
   "cell_type": "code",
   "execution_count": null,
   "metadata": {},
   "outputs": [
    {
     "data": {
      "text/html": [
       "<div>\n",
       "<style scoped>\n",
       "    .dataframe tbody tr th:only-of-type {\n",
       "        vertical-align: middle;\n",
       "    }\n",
       "\n",
       "    .dataframe tbody tr th {\n",
       "        vertical-align: top;\n",
       "    }\n",
       "\n",
       "    .dataframe thead th {\n",
       "        text-align: right;\n",
       "    }\n",
       "</style>\n",
       "<table border=\"1\" class=\"dataframe\">\n",
       "  <thead>\n",
       "    <tr style=\"text-align: right;\">\n",
       "      <th></th>\n",
       "      <th>gm</th>\n",
       "      <th>bgm</th>\n",
       "      <th>LOF</th>\n",
       "      <th>CBM</th>\n",
       "      <th>label</th>\n",
       "    </tr>\n",
       "  </thead>\n",
       "  <tbody>\n",
       "    <tr>\n",
       "      <th>0</th>\n",
       "      <td>0</td>\n",
       "      <td>0</td>\n",
       "      <td>0</td>\n",
       "      <td>0</td>\n",
       "      <td>0</td>\n",
       "    </tr>\n",
       "    <tr>\n",
       "      <th>1</th>\n",
       "      <td>0</td>\n",
       "      <td>0</td>\n",
       "      <td>0</td>\n",
       "      <td>0</td>\n",
       "      <td>0</td>\n",
       "    </tr>\n",
       "    <tr>\n",
       "      <th>2</th>\n",
       "      <td>0</td>\n",
       "      <td>0</td>\n",
       "      <td>0</td>\n",
       "      <td>0</td>\n",
       "      <td>0</td>\n",
       "    </tr>\n",
       "    <tr>\n",
       "      <th>3</th>\n",
       "      <td>0</td>\n",
       "      <td>0</td>\n",
       "      <td>1</td>\n",
       "      <td>0</td>\n",
       "      <td>0</td>\n",
       "    </tr>\n",
       "    <tr>\n",
       "      <th>4</th>\n",
       "      <td>0</td>\n",
       "      <td>0</td>\n",
       "      <td>0</td>\n",
       "      <td>0</td>\n",
       "      <td>0</td>\n",
       "    </tr>\n",
       "    <tr>\n",
       "      <th>...</th>\n",
       "      <td>...</td>\n",
       "      <td>...</td>\n",
       "      <td>...</td>\n",
       "      <td>...</td>\n",
       "      <td>...</td>\n",
       "    </tr>\n",
       "    <tr>\n",
       "      <th>7384</th>\n",
       "      <td>0</td>\n",
       "      <td>0</td>\n",
       "      <td>0</td>\n",
       "      <td>0</td>\n",
       "      <td>0</td>\n",
       "    </tr>\n",
       "    <tr>\n",
       "      <th>7385</th>\n",
       "      <td>0</td>\n",
       "      <td>0</td>\n",
       "      <td>0</td>\n",
       "      <td>0</td>\n",
       "      <td>0</td>\n",
       "    </tr>\n",
       "    <tr>\n",
       "      <th>7386</th>\n",
       "      <td>0</td>\n",
       "      <td>0</td>\n",
       "      <td>0</td>\n",
       "      <td>0</td>\n",
       "      <td>0</td>\n",
       "    </tr>\n",
       "    <tr>\n",
       "      <th>7387</th>\n",
       "      <td>0</td>\n",
       "      <td>0</td>\n",
       "      <td>0</td>\n",
       "      <td>0</td>\n",
       "      <td>0</td>\n",
       "    </tr>\n",
       "    <tr>\n",
       "      <th>7388</th>\n",
       "      <td>0</td>\n",
       "      <td>0</td>\n",
       "      <td>0</td>\n",
       "      <td>0</td>\n",
       "      <td>0</td>\n",
       "    </tr>\n",
       "  </tbody>\n",
       "</table>\n",
       "<p>7389 rows × 5 columns</p>\n",
       "</div>"
      ],
      "text/plain": [
       "      gm  bgm  LOF  CBM  label\n",
       "0      0    0    0    0      0\n",
       "1      0    0    0    0      0\n",
       "2      0    0    0    0      0\n",
       "3      0    0    1    0      0\n",
       "4      0    0    0    0      0\n",
       "...   ..  ...  ...  ...    ...\n",
       "7384   0    0    0    0      0\n",
       "7385   0    0    0    0      0\n",
       "7386   0    0    0    0      0\n",
       "7387   0    0    0    0      0\n",
       "7388   0    0    0    0      0\n",
       "\n",
       "[7389 rows x 5 columns]"
      ]
     },
     "execution_count": 250,
     "metadata": {},
     "output_type": "execute_result"
    }
   ],
   "source": [
    "result"
   ]
  },
  {
   "cell_type": "code",
   "execution_count": null,
   "metadata": {},
   "outputs": [],
   "source": [
    "for i in range(len(result)):\n",
    "    if result.iloc[:,3][i] == 1:\n",
    "        result.label[i] = 1\n",
    "    elif result.iloc[:,:3].mean(axis=1)[i] >= 0.5:\n",
    "        result.label[i] = 1\n",
    "    else:\n",
    "        pass"
   ]
  },
  {
   "cell_type": "code",
   "execution_count": null,
   "metadata": {},
   "outputs": [
    {
     "data": {
      "text/plain": [
       "<AxesSubplot: >"
      ]
     },
     "execution_count": 252,
     "metadata": {},
     "output_type": "execute_result"
    },
    {
     "data": {
      "image/png": "[encoded data removed]",
      "text/plain": [
       "<Figure size 640x480 with 1 Axes>"
      ]
     },
     "metadata": {},
     "output_type": "display_data"
    }
   ],
   "source": [
    "result.label.plot()"
   ]
  },
  {
   "cell_type": "code",
   "execution_count": null,
   "metadata": {},
   "outputs": [
    {
     "data": {
      "text/plain": [
       "0    7052\n",
       "1     337\n",
       "Name: label, dtype: int64"
      ]
     },
     "execution_count": 253,
     "metadata": {},
     "output_type": "execute_result"
    }
   ],
   "source": [
    "result.label.value_counts()"
   ]
  },
  {
   "cell_type": "code",
   "execution_count": null,
   "metadata": {},
   "outputs": [],
   "source": [
    "result.label = 0"
   ]
  },
  {
   "cell_type": "code",
   "execution_count": null,
   "metadata": {},
   "outputs": [],
   "source": [
    "#result.CBM = result.CBM*2\n",
    "result.label = result.iloc[:,:4].mean(axis=1)\n",
    "for i in range(len(result)):\n",
    "    if result.label[i] >= 0.5:\n",
    "        result.label[i] = 1\n",
    "    else:\n",
    "        result.label[i] = 0\n",
    "\n",
    "#result.CBM = result.CBM/2"
   ]
  },
  {
   "cell_type": "code",
   "execution_count": null,
   "metadata": {},
   "outputs": [
    {
     "data": {
      "text/plain": [
       "<AxesSubplot: >"
      ]
     },
     "execution_count": 256,
     "metadata": {},
     "output_type": "execute_result"
    },
    {
     "data": {
      "image/png": "[encoded data removed]",
      "text/plain": [
       "<Figure size 640x480 with 1 Axes>"
      ]
     },
     "metadata": {},
     "output_type": "display_data"
    }
   ],
   "source": [
    "result.label.plot()"
   ]
  },
  {
   "cell_type": "code",
   "execution_count": null,
   "metadata": {},
   "outputs": [
    {
     "data": {
      "text/plain": [
       "0.0    7052\n",
       "1.0     337\n",
       "Name: label, dtype: int64"
      ]
     },
     "execution_count": 257,
     "metadata": {},
     "output_type": "execute_result"
    }
   ],
   "source": [
    "result.label.value_counts()"
   ]
  },
  {
   "cell_type": "markdown",
   "metadata": {},
   "source": [
    "result.to_csv('C:/Users/user/Desktop/re.csv', index=False)"
   ]
  }
 ],
 "metadata": {
  "kernelspec": {
   "display_name": "base",
   "language": "python",
   "name": "python3"
  },
  "language_info": {
   "codemirror_mode": {
    "name": "ipython",
    "version": 3
   },
   "file_extension": ".py",
   "mimetype": "text/x-python",
   "name": "python",
   "nbconvert_exporter": "python",
   "pygments_lexer": "ipython3",
   "version": "3.11.0"
  },
  "orig_nbformat": 4
 },
 "nbformat": 4,
 "nbformat_minor": 2
}
