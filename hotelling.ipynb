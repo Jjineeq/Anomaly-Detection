{
 "cells": [
  {
   "cell_type": "code",
   "execution_count": 2,
   "metadata": {},
   "outputs": [],
   "source": [
    "import pandas as pd\n",
    "import numpy as np\n",
    "import hotellings_tsqare\n",
    "\n",
    "df1 = pd.read_csv(\"data/ph1.csv\", encoding = 'CP949') # 정상 학습 데이터\n",
    "df2 = pd.read_csv(\"data/ph2.csv\", encoding = 'CP949') # 정상 테스트\n",
    "df3 = pd.read_csv(\"data/ph2_out.csv\", encoding = 'CP949') # 비정상 테스트\n"
   ]
  },
  {
   "cell_type": "code",
   "execution_count": 3,
   "metadata": {},
   "outputs": [
    {
     "data": {
      "text/html": [
       "<div>\n",
       "<style scoped>\n",
       "    .dataframe tbody tr th:only-of-type {\n",
       "        vertical-align: middle;\n",
       "    }\n",
       "\n",
       "    .dataframe tbody tr th {\n",
       "        vertical-align: top;\n",
       "    }\n",
       "\n",
       "    .dataframe thead th {\n",
       "        text-align: right;\n",
       "    }\n",
       "</style>\n",
       "<table border=\"1\" class=\"dataframe\">\n",
       "  <thead>\n",
       "    <tr style=\"text-align: right;\">\n",
       "      <th></th>\n",
       "      <th>TOOL_NAME</th>\n",
       "      <th>LOTID</th>\n",
       "      <th>GLSID</th>\n",
       "      <th>RECIPEID</th>\n",
       "      <th>MODEL_NAME</th>\n",
       "      <th>TIME_STAMP</th>\n",
       "      <th>PAS연동여부</th>\n",
       "      <th>MP_ALLSTEP.INNER_TEMP.Mean</th>\n",
       "      <th>MP_ALLSTEP.INNER_TEMP.Stdev</th>\n",
       "      <th>MP_ALLSTEP.OUTER_TEMP.Mean</th>\n",
       "      <th>...</th>\n",
       "      <th>MP_STEP4.RFGEN_FORWARD.Stdev</th>\n",
       "      <th>MP_STEP4.SIH4_FLOW.Mean</th>\n",
       "      <th>MP_STEP4.SIH4_FLOW.Stdev</th>\n",
       "      <th>MP_STEP4_No_Shift.RFGEN_REFLECT.Max</th>\n",
       "      <th>MP_STEP5_to_Last_PWR_Lift.RFGEN_REFLECT.Max</th>\n",
       "      <th>MP_STEP4.EI2.Max</th>\n",
       "      <th>MP_STEP4.EI3.Max</th>\n",
       "      <th>MP_STEP4.EI4.Max</th>\n",
       "      <th>Normal/Abnormal</th>\n",
       "      <th>추가정보_Data_Resume</th>\n",
       "    </tr>\n",
       "  </thead>\n",
       "  <tbody>\n",
       "    <tr>\n",
       "      <th>0</th>\n",
       "      <td>Tool3</td>\n",
       "      <td>P8GA17009H00</td>\n",
       "      <td>P8GA17008J18</td>\n",
       "      <td>RUN_1ST_23</td>\n",
       "      <td>GA</td>\n",
       "      <td>2011-07-09 13:03</td>\n",
       "      <td>NG</td>\n",
       "      <td>339.4905</td>\n",
       "      <td>0.500300</td>\n",
       "      <td>359.1997</td>\n",
       "      <td>...</td>\n",
       "      <td>2.813200</td>\n",
       "      <td>6784.9612</td>\n",
       "      <td>3.471800</td>\n",
       "      <td>224.8672</td>\n",
       "      <td>910.9443</td>\n",
       "      <td>101.18</td>\n",
       "      <td>100.73</td>\n",
       "      <td>100.73</td>\n",
       "      <td>Normal</td>\n",
       "      <td>Normal</td>\n",
       "    </tr>\n",
       "    <tr>\n",
       "      <th>1</th>\n",
       "      <td>Tool3</td>\n",
       "      <td>P8CB1501R200</td>\n",
       "      <td>P8CB1501NM10</td>\n",
       "      <td>RUN_1ST_23</td>\n",
       "      <td>CB</td>\n",
       "      <td>2011-05-28 20:54</td>\n",
       "      <td>OK</td>\n",
       "      <td>338.3500</td>\n",
       "      <td>0.709432</td>\n",
       "      <td>359.1300</td>\n",
       "      <td>...</td>\n",
       "      <td>2.547539</td>\n",
       "      <td>6783.3300</td>\n",
       "      <td>2.728559</td>\n",
       "      <td>194.1000</td>\n",
       "      <td>149.6700</td>\n",
       "      <td>98.25</td>\n",
       "      <td>99.16</td>\n",
       "      <td>100.16</td>\n",
       "      <td>Normal</td>\n",
       "      <td>Normal</td>\n",
       "    </tr>\n",
       "    <tr>\n",
       "      <th>2</th>\n",
       "      <td>Tool1</td>\n",
       "      <td>P8CB16012J00</td>\n",
       "      <td>P8CB16010306</td>\n",
       "      <td>RUN_1ST_23</td>\n",
       "      <td>CB</td>\n",
       "      <td>2011-06-14 6:51</td>\n",
       "      <td>NG</td>\n",
       "      <td>339.5800</td>\n",
       "      <td>0.494180</td>\n",
       "      <td>359.4400</td>\n",
       "      <td>...</td>\n",
       "      <td>2.797812</td>\n",
       "      <td>6803.6200</td>\n",
       "      <td>2.303157</td>\n",
       "      <td>228.7700</td>\n",
       "      <td>894.1000</td>\n",
       "      <td>98.78</td>\n",
       "      <td>99.70</td>\n",
       "      <td>100.63</td>\n",
       "      <td>Normal</td>\n",
       "      <td>Normal</td>\n",
       "    </tr>\n",
       "  </tbody>\n",
       "</table>\n",
       "<p>3 rows × 51 columns</p>\n",
       "</div>"
      ],
      "text/plain": [
       "  TOOL_NAME         LOTID         GLSID    RECIPEID MODEL_NAME  \\\n",
       "0     Tool3  P8GA17009H00  P8GA17008J18  RUN_1ST_23         GA   \n",
       "1     Tool3  P8CB1501R200  P8CB1501NM10  RUN_1ST_23         CB   \n",
       "2     Tool1  P8CB16012J00  P8CB16010306  RUN_1ST_23         CB   \n",
       "\n",
       "         TIME_STAMP PAS연동여부  MP_ALLSTEP.INNER_TEMP.Mean  \\\n",
       "0  2011-07-09 13:03      NG                    339.4905   \n",
       "1  2011-05-28 20:54      OK                    338.3500   \n",
       "2   2011-06-14 6:51      NG                    339.5800   \n",
       "\n",
       "   MP_ALLSTEP.INNER_TEMP.Stdev  MP_ALLSTEP.OUTER_TEMP.Mean  ...  \\\n",
       "0                     0.500300                    359.1997  ...   \n",
       "1                     0.709432                    359.1300  ...   \n",
       "2                     0.494180                    359.4400  ...   \n",
       "\n",
       "   MP_STEP4.RFGEN_FORWARD.Stdev  MP_STEP4.SIH4_FLOW.Mean  \\\n",
       "0                      2.813200                6784.9612   \n",
       "1                      2.547539                6783.3300   \n",
       "2                      2.797812                6803.6200   \n",
       "\n",
       "   MP_STEP4.SIH4_FLOW.Stdev  MP_STEP4_No_Shift.RFGEN_REFLECT.Max  \\\n",
       "0                  3.471800                             224.8672   \n",
       "1                  2.728559                             194.1000   \n",
       "2                  2.303157                             228.7700   \n",
       "\n",
       "   MP_STEP5_to_Last_PWR_Lift.RFGEN_REFLECT.Max  MP_STEP4.EI2.Max  \\\n",
       "0                                     910.9443            101.18   \n",
       "1                                     149.6700             98.25   \n",
       "2                                     894.1000             98.78   \n",
       "\n",
       "   MP_STEP4.EI3.Max  MP_STEP4.EI4.Max  Normal/Abnormal  추가정보_Data_Resume  \n",
       "0            100.73            100.73           Normal            Normal  \n",
       "1             99.16            100.16           Normal            Normal  \n",
       "2             99.70            100.63           Normal            Normal  \n",
       "\n",
       "[3 rows x 51 columns]"
      ]
     },
     "execution_count": 3,
     "metadata": {},
     "output_type": "execute_result"
    }
   ],
   "source": [
    "df1.head(3)"
   ]
  },
  {
   "cell_type": "code",
   "execution_count": 4,
   "metadata": {},
   "outputs": [
    {
     "name": "stdout",
     "output_type": "stream",
     "text": [
      "<class 'pandas.core.frame.DataFrame'>\n",
      "RangeIndex: 2000 entries, 0 to 1999\n",
      "Data columns (total 51 columns):\n",
      " #   Column                                       Non-Null Count  Dtype  \n",
      "---  ------                                       --------------  -----  \n",
      " 0   TOOL_NAME                                    2000 non-null   object \n",
      " 1   LOTID                                        2000 non-null   object \n",
      " 2   GLSID                                        2000 non-null   object \n",
      " 3   RECIPEID                                     2000 non-null   object \n",
      " 4   MODEL_NAME                                   2000 non-null   object \n",
      " 5   TIME_STAMP                                   2000 non-null   object \n",
      " 6   PAS연동여부                                      2000 non-null   object \n",
      " 7   MP_ALLSTEP.INNER_TEMP.Mean                   2000 non-null   float64\n",
      " 8   MP_ALLSTEP.INNER_TEMP.Stdev                  2000 non-null   float64\n",
      " 9   MP_ALLSTEP.OUTER_TEMP.Mean                   2000 non-null   float64\n",
      " 10  MP_ALLSTEP.OUTER_TEMP.Stdev                  2000 non-null   float64\n",
      " 11  MP_ALLSTEP.WALLHTR_TEMP1.Mean                2000 non-null   float64\n",
      " 12  MP_ALLSTEP.WALLHTR_TEMP1.Stdev               2000 non-null   float64\n",
      " 13  MP_STEP1_First10sec.PC_PRESSURE.Area         2000 non-null   float64\n",
      " 14  MP_STEP1_First10sec.PC_PRESSURE.Min          2000 non-null   float64\n",
      " 15  MP_STEP3.MATCHER_VDC.Mean                    2000 non-null   float64\n",
      " 16  MP_STEP3.MATCHER_VDC.Stdev                   2000 non-null   float64\n",
      " 17  MP_STEP3.MATCHER_VPP.Mean                    2000 non-null   float64\n",
      " 18  MP_STEP3.MATCHER_VPP.Stdev                   2000 non-null   float64\n",
      " 19  MP_STEP3.N2_FLOW.Mean                        2000 non-null   float64\n",
      " 20  MP_STEP3.N2_FLOW.Stdev                       2000 non-null   float64\n",
      " 21  MP_STEP3.NH3_FLOW.Mean                       2000 non-null   float64\n",
      " 22  MP_STEP3.NH3_FLOW.Stdev                      2000 non-null   float64\n",
      " 23  MP_STEP3.PC_PRESSURE.Stdev                   2000 non-null   float64\n",
      " 24  MP_STEP3.PC_TV_ANGLE.Mean                    2000 non-null   float64\n",
      " 25  MP_STEP3.PC_TV_ANGLE.Stdev                   2000 non-null   float64\n",
      " 26  MP_STEP3.RFGEN_FORWARD.Mean                  2000 non-null   float64\n",
      " 27  MP_STEP3.RFGEN_FORWARD.Stdev                 2000 non-null   float64\n",
      " 28  MP_STEP3_No_Shift.RFGEN_REFLECT.Max          2000 non-null   float64\n",
      " 29  MP_STEP4.MATCHER_VDC.Mean                    2000 non-null   float64\n",
      " 30  MP_STEP4.MATCHER_VDC.Stdev                   2000 non-null   float64\n",
      " 31  MP_STEP4.MATCHER_VPP.Mean                    2000 non-null   float64\n",
      " 32  MP_STEP4.MATCHER_VPP.Stdev                   2000 non-null   float64\n",
      " 33  MP_STEP4.N2_FLOW.Mean                        2000 non-null   float64\n",
      " 34  MP_STEP4.N2_FLOW.Stdev                       2000 non-null   float64\n",
      " 35  MP_STEP4.NH3_FLOW.Mean                       2000 non-null   float64\n",
      " 36  MP_STEP4.NH3_FLOW.Stdev                      2000 non-null   float64\n",
      " 37  MP_STEP4.PC_PRESSURE.Stdev                   2000 non-null   float64\n",
      " 38  MP_STEP4.PC_TV_ANGLE.Mean                    2000 non-null   float64\n",
      " 39  MP_STEP4.PC_TV_ANGLE.Stdev                   2000 non-null   float64\n",
      " 40  MP_STEP4.RFGEN_FORWARD.Mean                  2000 non-null   float64\n",
      " 41  MP_STEP4.RFGEN_FORWARD.Stdev                 2000 non-null   float64\n",
      " 42  MP_STEP4.SIH4_FLOW.Mean                      2000 non-null   float64\n",
      " 43  MP_STEP4.SIH4_FLOW.Stdev                     2000 non-null   float64\n",
      " 44  MP_STEP4_No_Shift.RFGEN_REFLECT.Max          2000 non-null   float64\n",
      " 45  MP_STEP5_to_Last_PWR_Lift.RFGEN_REFLECT.Max  2000 non-null   float64\n",
      " 46  MP_STEP4.EI2.Max                             2000 non-null   float64\n",
      " 47  MP_STEP4.EI3.Max                             2000 non-null   float64\n",
      " 48  MP_STEP4.EI4.Max                             2000 non-null   float64\n",
      " 49  Normal/Abnormal                              2000 non-null   object \n",
      " 50  추가정보_Data_Resume                             2000 non-null   object \n",
      "dtypes: float64(42), object(9)\n",
      "memory usage: 797.0+ KB\n"
     ]
    }
   ],
   "source": [
    "df1.info()"
   ]
  },
  {
   "cell_type": "code",
   "execution_count": 5,
   "metadata": {},
   "outputs": [
    {
     "data": {
      "text/plain": [
       "array(['Tool3', 'Tool1', 'Tool4', 'Tool2'], dtype=object)"
      ]
     },
     "execution_count": 5,
     "metadata": {},
     "output_type": "execute_result"
    }
   ],
   "source": [
    "df1['TOOL_NAME'].unique()"
   ]
  },
  {
   "cell_type": "code",
   "execution_count": 6,
   "metadata": {},
   "outputs": [
    {
     "data": {
      "text/plain": [
       "array(['GA', 'CB', 'FA', 'CE', 'FB', 'CA', 'BC', 'GD'], dtype=object)"
      ]
     },
     "execution_count": 6,
     "metadata": {},
     "output_type": "execute_result"
    }
   ],
   "source": [
    "df1['MODEL_NAME'].unique()"
   ]
  },
  {
   "cell_type": "code",
   "execution_count": 7,
   "metadata": {},
   "outputs": [
    {
     "data": {
      "text/plain": [
       "array(['Normal'], dtype=object)"
      ]
     },
     "execution_count": 7,
     "metadata": {},
     "output_type": "execute_result"
    }
   ],
   "source": [
    "df1['Normal/Abnormal'].unique()"
   ]
  },
  {
   "cell_type": "code",
   "execution_count": null,
   "metadata": {},
   "outputs": [],
   "source": []
  }
 ],
 "metadata": {
  "kernelspec": {
   "display_name": "Python 3.11.0 64-bit",
   "language": "python",
   "name": "python3"
  },
  "language_info": {
   "codemirror_mode": {
    "name": "ipython",
    "version": 3
   },
   "file_extension": ".py",
   "mimetype": "text/x-python",
   "name": "python",
   "nbconvert_exporter": "python",
   "pygments_lexer": "ipython3",
   "version": "3.11.0"
  },
  "orig_nbformat": 4,
  "vscode": {
   "interpreter": {
    "hash": "ebfc0a8d552866b0d59eba665220a57de3bc06f3ac643b8bef38dd8f66781fdd"
   }
  }
 },
 "nbformat": 4,
 "nbformat_minor": 2
}
