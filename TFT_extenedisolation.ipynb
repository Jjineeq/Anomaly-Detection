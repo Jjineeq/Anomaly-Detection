{
 "cells": [
  {
   "cell_type": "code",
   "execution_count": 1,
   "metadata": {},
   "outputs": [],
   "source": [
    "%matplotlib inline\n",
    "import sys\n",
    "import igraph as ig\n",
    "import matplotlib.pyplot as plt\n",
    "import numpy as np\n",
    "import random as rn\n",
    "import eif as iso\n",
    "import copy\n",
    "import seaborn as sb\n",
    "sb.set_style(style=\"whitegrid\")\n",
    "sb.set_color_codes()"
   ]
  },
  {
   "cell_type": "code",
   "execution_count": 2,
   "metadata": {},
   "outputs": [],
   "source": [
    "def branch2num(branch, init_root=0):\n",
    "    num = [init_root]\n",
    "    for b in branch:\n",
    "        if b == 'L':\n",
    "            num.append(num[-1] * 2 + 1)\n",
    "        if b == 'R':\n",
    "            num.append(num[-1] * 2 + 2)\n",
    "    return num"
   ]
  },
  {
   "cell_type": "code",
   "execution_count": 3,
   "metadata": {},
   "outputs": [],
   "source": [
    "def gen_graph(branches, g = None, init_root = 0, pre = ''):\n",
    "    num_branches = [branch2num(i, init_root) for i in branches]\n",
    "    all_nodes = [j for branch in num_branches for j in branch]\n",
    "    all_nodes = np.unique(all_nodes)\n",
    "    all_nodes = all_nodes.tolist()\n",
    "    if g is None:\n",
    "        g=ig.Graph()\n",
    "    for k in all_nodes : g.add_vertex(pre+str(k))\n",
    "    t=[]\n",
    "    for j in range(len(branches)):\n",
    "        branch = branch2num(branches[j], init_root)\n",
    "        for i in range(len(branch)-1):\n",
    "            pair = [branch[i],branch[i+1]]\n",
    "            if pair not in t:\n",
    "                t.append(pair)\n",
    "                g.add_edge(pre+str(branch[i]),pre+str(branch[i+1]))\n",
    "    return g,max(all_nodes)"
   ]
  },
  {
   "cell_type": "code",
   "execution_count": null,
   "metadata": {},
   "outputs": [],
   "source": []
  }
 ],
 "metadata": {
  "kernelspec": {
   "display_name": "Python 3",
   "language": "python",
   "name": "python3"
  },
  "language_info": {
   "codemirror_mode": {
    "name": "ipython",
    "version": 3
   },
   "file_extension": ".py",
   "mimetype": "text/x-python",
   "name": "python",
   "nbconvert_exporter": "python",
   "pygments_lexer": "ipython3",
   "version": "3.11.0"
  },
  "orig_nbformat": 4,
  "vscode": {
   "interpreter": {
    "hash": "ebfc0a8d552866b0d59eba665220a57de3bc06f3ac643b8bef38dd8f66781fdd"
   }
  }
 },
 "nbformat": 4,
 "nbformat_minor": 2
}
